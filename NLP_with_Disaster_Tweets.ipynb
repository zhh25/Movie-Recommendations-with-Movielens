{
  "nbformat": 4,
  "nbformat_minor": 0,
  "metadata": {
    "colab": {
      "provenance": [],
      "machine_shape": "hm",
      "collapsed_sections": [
        "BA1iPWFnb02k",
        "OFhWpukaIw15",
        "XfLoQRMnrU9I",
        "2ju__amHthCt",
        "FDg6c-OuI3EO",
        "JjtD43BYfpDh"
      ],
      "mount_file_id": "1s4bopS3p3f_M56MHUjnyRlO-UUq9RXaE",
      "authorship_tag": "ABX9TyMX9ClQ62Ah8kOTz3BYk/LN"
    },
    "kernelspec": {
      "name": "python3",
      "display_name": "Python 3"
    },
    "language_info": {
      "name": "python"
    },
    "widgets": {
      "application/vnd.jupyter.widget-state+json": {
        "e3550dda4af649839923d8144d5ee3c2": {
          "model_module": "@jupyter-widgets/controls",
          "model_name": "HBoxModel",
          "model_module_version": "1.5.0",
          "state": {
            "_dom_classes": [],
            "_model_module": "@jupyter-widgets/controls",
            "_model_module_version": "1.5.0",
            "_model_name": "HBoxModel",
            "_view_count": null,
            "_view_module": "@jupyter-widgets/controls",
            "_view_module_version": "1.5.0",
            "_view_name": "HBoxView",
            "box_style": "",
            "children": [
              "IPY_MODEL_e4d7b91722684401b6cc4c4e072b5ee9",
              "IPY_MODEL_e51da48fd0fc4d2891df15880952805b",
              "IPY_MODEL_e1ba966775c84b269aeae76f4cc6aafd"
            ],
            "layout": "IPY_MODEL_04d39b4e2ce84afa8140104525b17c10"
          }
        },
        "e4d7b91722684401b6cc4c4e072b5ee9": {
          "model_module": "@jupyter-widgets/controls",
          "model_name": "HTMLModel",
          "model_module_version": "1.5.0",
          "state": {
            "_dom_classes": [],
            "_model_module": "@jupyter-widgets/controls",
            "_model_module_version": "1.5.0",
            "_model_name": "HTMLModel",
            "_view_count": null,
            "_view_module": "@jupyter-widgets/controls",
            "_view_module_version": "1.5.0",
            "_view_name": "HTMLView",
            "description": "",
            "description_tooltip": null,
            "layout": "IPY_MODEL_791ffd6857fc4d81bb2be5529fd50116",
            "placeholder": "​",
            "style": "IPY_MODEL_a18ff99528db4648a9f20ea84a1565ad",
            "value": "100%"
          }
        },
        "e51da48fd0fc4d2891df15880952805b": {
          "model_module": "@jupyter-widgets/controls",
          "model_name": "FloatProgressModel",
          "model_module_version": "1.5.0",
          "state": {
            "_dom_classes": [],
            "_model_module": "@jupyter-widgets/controls",
            "_model_module_version": "1.5.0",
            "_model_name": "FloatProgressModel",
            "_view_count": null,
            "_view_module": "@jupyter-widgets/controls",
            "_view_module_version": "1.5.0",
            "_view_name": "ProgressView",
            "bar_style": "success",
            "description": "",
            "description_tooltip": null,
            "layout": "IPY_MODEL_95f71454534946348d2f7b56a70fec2b",
            "max": 7,
            "min": 0,
            "orientation": "horizontal",
            "style": "IPY_MODEL_109719a13f4841b6ad55234ba50479ba",
            "value": 7
          }
        },
        "e1ba966775c84b269aeae76f4cc6aafd": {
          "model_module": "@jupyter-widgets/controls",
          "model_name": "HTMLModel",
          "model_module_version": "1.5.0",
          "state": {
            "_dom_classes": [],
            "_model_module": "@jupyter-widgets/controls",
            "_model_module_version": "1.5.0",
            "_model_name": "HTMLModel",
            "_view_count": null,
            "_view_module": "@jupyter-widgets/controls",
            "_view_module_version": "1.5.0",
            "_view_name": "HTMLView",
            "description": "",
            "description_tooltip": null,
            "layout": "IPY_MODEL_183e16010fb94b6a8ed2ff46d2885322",
            "placeholder": "​",
            "style": "IPY_MODEL_3ae38fc6db0c460eb476b1d9c16f8d59",
            "value": " 7/7 [00:00&lt;00:00, 21.94ba/s]"
          }
        },
        "04d39b4e2ce84afa8140104525b17c10": {
          "model_module": "@jupyter-widgets/base",
          "model_name": "LayoutModel",
          "model_module_version": "1.2.0",
          "state": {
            "_model_module": "@jupyter-widgets/base",
            "_model_module_version": "1.2.0",
            "_model_name": "LayoutModel",
            "_view_count": null,
            "_view_module": "@jupyter-widgets/base",
            "_view_module_version": "1.2.0",
            "_view_name": "LayoutView",
            "align_content": null,
            "align_items": null,
            "align_self": null,
            "border": null,
            "bottom": null,
            "display": null,
            "flex": null,
            "flex_flow": null,
            "grid_area": null,
            "grid_auto_columns": null,
            "grid_auto_flow": null,
            "grid_auto_rows": null,
            "grid_column": null,
            "grid_gap": null,
            "grid_row": null,
            "grid_template_areas": null,
            "grid_template_columns": null,
            "grid_template_rows": null,
            "height": null,
            "justify_content": null,
            "justify_items": null,
            "left": null,
            "margin": null,
            "max_height": null,
            "max_width": null,
            "min_height": null,
            "min_width": null,
            "object_fit": null,
            "object_position": null,
            "order": null,
            "overflow": null,
            "overflow_x": null,
            "overflow_y": null,
            "padding": null,
            "right": null,
            "top": null,
            "visibility": null,
            "width": null
          }
        },
        "791ffd6857fc4d81bb2be5529fd50116": {
          "model_module": "@jupyter-widgets/base",
          "model_name": "LayoutModel",
          "model_module_version": "1.2.0",
          "state": {
            "_model_module": "@jupyter-widgets/base",
            "_model_module_version": "1.2.0",
            "_model_name": "LayoutModel",
            "_view_count": null,
            "_view_module": "@jupyter-widgets/base",
            "_view_module_version": "1.2.0",
            "_view_name": "LayoutView",
            "align_content": null,
            "align_items": null,
            "align_self": null,
            "border": null,
            "bottom": null,
            "display": null,
            "flex": null,
            "flex_flow": null,
            "grid_area": null,
            "grid_auto_columns": null,
            "grid_auto_flow": null,
            "grid_auto_rows": null,
            "grid_column": null,
            "grid_gap": null,
            "grid_row": null,
            "grid_template_areas": null,
            "grid_template_columns": null,
            "grid_template_rows": null,
            "height": null,
            "justify_content": null,
            "justify_items": null,
            "left": null,
            "margin": null,
            "max_height": null,
            "max_width": null,
            "min_height": null,
            "min_width": null,
            "object_fit": null,
            "object_position": null,
            "order": null,
            "overflow": null,
            "overflow_x": null,
            "overflow_y": null,
            "padding": null,
            "right": null,
            "top": null,
            "visibility": null,
            "width": null
          }
        },
        "a18ff99528db4648a9f20ea84a1565ad": {
          "model_module": "@jupyter-widgets/controls",
          "model_name": "DescriptionStyleModel",
          "model_module_version": "1.5.0",
          "state": {
            "_model_module": "@jupyter-widgets/controls",
            "_model_module_version": "1.5.0",
            "_model_name": "DescriptionStyleModel",
            "_view_count": null,
            "_view_module": "@jupyter-widgets/base",
            "_view_module_version": "1.2.0",
            "_view_name": "StyleView",
            "description_width": ""
          }
        },
        "95f71454534946348d2f7b56a70fec2b": {
          "model_module": "@jupyter-widgets/base",
          "model_name": "LayoutModel",
          "model_module_version": "1.2.0",
          "state": {
            "_model_module": "@jupyter-widgets/base",
            "_model_module_version": "1.2.0",
            "_model_name": "LayoutModel",
            "_view_count": null,
            "_view_module": "@jupyter-widgets/base",
            "_view_module_version": "1.2.0",
            "_view_name": "LayoutView",
            "align_content": null,
            "align_items": null,
            "align_self": null,
            "border": null,
            "bottom": null,
            "display": null,
            "flex": null,
            "flex_flow": null,
            "grid_area": null,
            "grid_auto_columns": null,
            "grid_auto_flow": null,
            "grid_auto_rows": null,
            "grid_column": null,
            "grid_gap": null,
            "grid_row": null,
            "grid_template_areas": null,
            "grid_template_columns": null,
            "grid_template_rows": null,
            "height": null,
            "justify_content": null,
            "justify_items": null,
            "left": null,
            "margin": null,
            "max_height": null,
            "max_width": null,
            "min_height": null,
            "min_width": null,
            "object_fit": null,
            "object_position": null,
            "order": null,
            "overflow": null,
            "overflow_x": null,
            "overflow_y": null,
            "padding": null,
            "right": null,
            "top": null,
            "visibility": null,
            "width": null
          }
        },
        "109719a13f4841b6ad55234ba50479ba": {
          "model_module": "@jupyter-widgets/controls",
          "model_name": "ProgressStyleModel",
          "model_module_version": "1.5.0",
          "state": {
            "_model_module": "@jupyter-widgets/controls",
            "_model_module_version": "1.5.0",
            "_model_name": "ProgressStyleModel",
            "_view_count": null,
            "_view_module": "@jupyter-widgets/base",
            "_view_module_version": "1.2.0",
            "_view_name": "StyleView",
            "bar_color": null,
            "description_width": ""
          }
        },
        "183e16010fb94b6a8ed2ff46d2885322": {
          "model_module": "@jupyter-widgets/base",
          "model_name": "LayoutModel",
          "model_module_version": "1.2.0",
          "state": {
            "_model_module": "@jupyter-widgets/base",
            "_model_module_version": "1.2.0",
            "_model_name": "LayoutModel",
            "_view_count": null,
            "_view_module": "@jupyter-widgets/base",
            "_view_module_version": "1.2.0",
            "_view_name": "LayoutView",
            "align_content": null,
            "align_items": null,
            "align_self": null,
            "border": null,
            "bottom": null,
            "display": null,
            "flex": null,
            "flex_flow": null,
            "grid_area": null,
            "grid_auto_columns": null,
            "grid_auto_flow": null,
            "grid_auto_rows": null,
            "grid_column": null,
            "grid_gap": null,
            "grid_row": null,
            "grid_template_areas": null,
            "grid_template_columns": null,
            "grid_template_rows": null,
            "height": null,
            "justify_content": null,
            "justify_items": null,
            "left": null,
            "margin": null,
            "max_height": null,
            "max_width": null,
            "min_height": null,
            "min_width": null,
            "object_fit": null,
            "object_position": null,
            "order": null,
            "overflow": null,
            "overflow_x": null,
            "overflow_y": null,
            "padding": null,
            "right": null,
            "top": null,
            "visibility": null,
            "width": null
          }
        },
        "3ae38fc6db0c460eb476b1d9c16f8d59": {
          "model_module": "@jupyter-widgets/controls",
          "model_name": "DescriptionStyleModel",
          "model_module_version": "1.5.0",
          "state": {
            "_model_module": "@jupyter-widgets/controls",
            "_model_module_version": "1.5.0",
            "_model_name": "DescriptionStyleModel",
            "_view_count": null,
            "_view_module": "@jupyter-widgets/base",
            "_view_module_version": "1.2.0",
            "_view_name": "StyleView",
            "description_width": ""
          }
        },
        "28b472d51b994fb98e03848bb9c53ec2": {
          "model_module": "@jupyter-widgets/controls",
          "model_name": "HBoxModel",
          "model_module_version": "1.5.0",
          "state": {
            "_dom_classes": [],
            "_model_module": "@jupyter-widgets/controls",
            "_model_module_version": "1.5.0",
            "_model_name": "HBoxModel",
            "_view_count": null,
            "_view_module": "@jupyter-widgets/controls",
            "_view_module_version": "1.5.0",
            "_view_name": "HBoxView",
            "box_style": "",
            "children": [
              "IPY_MODEL_f77a3b0ad8ba419784418a53ae24da38",
              "IPY_MODEL_95873673117a4368a1efa42e43b9f436",
              "IPY_MODEL_5d38854b5ba14411a5cbe56ca3686330"
            ],
            "layout": "IPY_MODEL_96f272cdc8f7490e80736062ce578297"
          }
        },
        "f77a3b0ad8ba419784418a53ae24da38": {
          "model_module": "@jupyter-widgets/controls",
          "model_name": "HTMLModel",
          "model_module_version": "1.5.0",
          "state": {
            "_dom_classes": [],
            "_model_module": "@jupyter-widgets/controls",
            "_model_module_version": "1.5.0",
            "_model_name": "HTMLModel",
            "_view_count": null,
            "_view_module": "@jupyter-widgets/controls",
            "_view_module_version": "1.5.0",
            "_view_name": "HTMLView",
            "description": "",
            "description_tooltip": null,
            "layout": "IPY_MODEL_ab5071a3faa744e2af32a8ba75740db9",
            "placeholder": "​",
            "style": "IPY_MODEL_42fc1c55428141da93762405545e36d2",
            "value": "100%"
          }
        },
        "95873673117a4368a1efa42e43b9f436": {
          "model_module": "@jupyter-widgets/controls",
          "model_name": "FloatProgressModel",
          "model_module_version": "1.5.0",
          "state": {
            "_dom_classes": [],
            "_model_module": "@jupyter-widgets/controls",
            "_model_module_version": "1.5.0",
            "_model_name": "FloatProgressModel",
            "_view_count": null,
            "_view_module": "@jupyter-widgets/controls",
            "_view_module_version": "1.5.0",
            "_view_name": "ProgressView",
            "bar_style": "success",
            "description": "",
            "description_tooltip": null,
            "layout": "IPY_MODEL_af57987353734f93be6a861c4613aa27",
            "max": 2,
            "min": 0,
            "orientation": "horizontal",
            "style": "IPY_MODEL_1f3d757bfddc419cac6dfb178071653f",
            "value": 2
          }
        },
        "5d38854b5ba14411a5cbe56ca3686330": {
          "model_module": "@jupyter-widgets/controls",
          "model_name": "HTMLModel",
          "model_module_version": "1.5.0",
          "state": {
            "_dom_classes": [],
            "_model_module": "@jupyter-widgets/controls",
            "_model_module_version": "1.5.0",
            "_model_name": "HTMLModel",
            "_view_count": null,
            "_view_module": "@jupyter-widgets/controls",
            "_view_module_version": "1.5.0",
            "_view_name": "HTMLView",
            "description": "",
            "description_tooltip": null,
            "layout": "IPY_MODEL_79cec6a2985c47c6ba744cde22b0a105",
            "placeholder": "​",
            "style": "IPY_MODEL_9f99a80706184621b948e46e6ea547fb",
            "value": " 2/2 [00:00&lt;00:00, 22.01ba/s]"
          }
        },
        "96f272cdc8f7490e80736062ce578297": {
          "model_module": "@jupyter-widgets/base",
          "model_name": "LayoutModel",
          "model_module_version": "1.2.0",
          "state": {
            "_model_module": "@jupyter-widgets/base",
            "_model_module_version": "1.2.0",
            "_model_name": "LayoutModel",
            "_view_count": null,
            "_view_module": "@jupyter-widgets/base",
            "_view_module_version": "1.2.0",
            "_view_name": "LayoutView",
            "align_content": null,
            "align_items": null,
            "align_self": null,
            "border": null,
            "bottom": null,
            "display": null,
            "flex": null,
            "flex_flow": null,
            "grid_area": null,
            "grid_auto_columns": null,
            "grid_auto_flow": null,
            "grid_auto_rows": null,
            "grid_column": null,
            "grid_gap": null,
            "grid_row": null,
            "grid_template_areas": null,
            "grid_template_columns": null,
            "grid_template_rows": null,
            "height": null,
            "justify_content": null,
            "justify_items": null,
            "left": null,
            "margin": null,
            "max_height": null,
            "max_width": null,
            "min_height": null,
            "min_width": null,
            "object_fit": null,
            "object_position": null,
            "order": null,
            "overflow": null,
            "overflow_x": null,
            "overflow_y": null,
            "padding": null,
            "right": null,
            "top": null,
            "visibility": null,
            "width": null
          }
        },
        "ab5071a3faa744e2af32a8ba75740db9": {
          "model_module": "@jupyter-widgets/base",
          "model_name": "LayoutModel",
          "model_module_version": "1.2.0",
          "state": {
            "_model_module": "@jupyter-widgets/base",
            "_model_module_version": "1.2.0",
            "_model_name": "LayoutModel",
            "_view_count": null,
            "_view_module": "@jupyter-widgets/base",
            "_view_module_version": "1.2.0",
            "_view_name": "LayoutView",
            "align_content": null,
            "align_items": null,
            "align_self": null,
            "border": null,
            "bottom": null,
            "display": null,
            "flex": null,
            "flex_flow": null,
            "grid_area": null,
            "grid_auto_columns": null,
            "grid_auto_flow": null,
            "grid_auto_rows": null,
            "grid_column": null,
            "grid_gap": null,
            "grid_row": null,
            "grid_template_areas": null,
            "grid_template_columns": null,
            "grid_template_rows": null,
            "height": null,
            "justify_content": null,
            "justify_items": null,
            "left": null,
            "margin": null,
            "max_height": null,
            "max_width": null,
            "min_height": null,
            "min_width": null,
            "object_fit": null,
            "object_position": null,
            "order": null,
            "overflow": null,
            "overflow_x": null,
            "overflow_y": null,
            "padding": null,
            "right": null,
            "top": null,
            "visibility": null,
            "width": null
          }
        },
        "42fc1c55428141da93762405545e36d2": {
          "model_module": "@jupyter-widgets/controls",
          "model_name": "DescriptionStyleModel",
          "model_module_version": "1.5.0",
          "state": {
            "_model_module": "@jupyter-widgets/controls",
            "_model_module_version": "1.5.0",
            "_model_name": "DescriptionStyleModel",
            "_view_count": null,
            "_view_module": "@jupyter-widgets/base",
            "_view_module_version": "1.2.0",
            "_view_name": "StyleView",
            "description_width": ""
          }
        },
        "af57987353734f93be6a861c4613aa27": {
          "model_module": "@jupyter-widgets/base",
          "model_name": "LayoutModel",
          "model_module_version": "1.2.0",
          "state": {
            "_model_module": "@jupyter-widgets/base",
            "_model_module_version": "1.2.0",
            "_model_name": "LayoutModel",
            "_view_count": null,
            "_view_module": "@jupyter-widgets/base",
            "_view_module_version": "1.2.0",
            "_view_name": "LayoutView",
            "align_content": null,
            "align_items": null,
            "align_self": null,
            "border": null,
            "bottom": null,
            "display": null,
            "flex": null,
            "flex_flow": null,
            "grid_area": null,
            "grid_auto_columns": null,
            "grid_auto_flow": null,
            "grid_auto_rows": null,
            "grid_column": null,
            "grid_gap": null,
            "grid_row": null,
            "grid_template_areas": null,
            "grid_template_columns": null,
            "grid_template_rows": null,
            "height": null,
            "justify_content": null,
            "justify_items": null,
            "left": null,
            "margin": null,
            "max_height": null,
            "max_width": null,
            "min_height": null,
            "min_width": null,
            "object_fit": null,
            "object_position": null,
            "order": null,
            "overflow": null,
            "overflow_x": null,
            "overflow_y": null,
            "padding": null,
            "right": null,
            "top": null,
            "visibility": null,
            "width": null
          }
        },
        "1f3d757bfddc419cac6dfb178071653f": {
          "model_module": "@jupyter-widgets/controls",
          "model_name": "ProgressStyleModel",
          "model_module_version": "1.5.0",
          "state": {
            "_model_module": "@jupyter-widgets/controls",
            "_model_module_version": "1.5.0",
            "_model_name": "ProgressStyleModel",
            "_view_count": null,
            "_view_module": "@jupyter-widgets/base",
            "_view_module_version": "1.2.0",
            "_view_name": "StyleView",
            "bar_color": null,
            "description_width": ""
          }
        },
        "79cec6a2985c47c6ba744cde22b0a105": {
          "model_module": "@jupyter-widgets/base",
          "model_name": "LayoutModel",
          "model_module_version": "1.2.0",
          "state": {
            "_model_module": "@jupyter-widgets/base",
            "_model_module_version": "1.2.0",
            "_model_name": "LayoutModel",
            "_view_count": null,
            "_view_module": "@jupyter-widgets/base",
            "_view_module_version": "1.2.0",
            "_view_name": "LayoutView",
            "align_content": null,
            "align_items": null,
            "align_self": null,
            "border": null,
            "bottom": null,
            "display": null,
            "flex": null,
            "flex_flow": null,
            "grid_area": null,
            "grid_auto_columns": null,
            "grid_auto_flow": null,
            "grid_auto_rows": null,
            "grid_column": null,
            "grid_gap": null,
            "grid_row": null,
            "grid_template_areas": null,
            "grid_template_columns": null,
            "grid_template_rows": null,
            "height": null,
            "justify_content": null,
            "justify_items": null,
            "left": null,
            "margin": null,
            "max_height": null,
            "max_width": null,
            "min_height": null,
            "min_width": null,
            "object_fit": null,
            "object_position": null,
            "order": null,
            "overflow": null,
            "overflow_x": null,
            "overflow_y": null,
            "padding": null,
            "right": null,
            "top": null,
            "visibility": null,
            "width": null
          }
        },
        "9f99a80706184621b948e46e6ea547fb": {
          "model_module": "@jupyter-widgets/controls",
          "model_name": "DescriptionStyleModel",
          "model_module_version": "1.5.0",
          "state": {
            "_model_module": "@jupyter-widgets/controls",
            "_model_module_version": "1.5.0",
            "_model_name": "DescriptionStyleModel",
            "_view_count": null,
            "_view_module": "@jupyter-widgets/base",
            "_view_module_version": "1.2.0",
            "_view_name": "StyleView",
            "description_width": ""
          }
        },
        "d79b8ee2f6fd46edb8a4498c3765c254": {
          "model_module": "@jupyter-widgets/controls",
          "model_name": "HBoxModel",
          "model_module_version": "1.5.0",
          "state": {
            "_dom_classes": [],
            "_model_module": "@jupyter-widgets/controls",
            "_model_module_version": "1.5.0",
            "_model_name": "HBoxModel",
            "_view_count": null,
            "_view_module": "@jupyter-widgets/controls",
            "_view_module_version": "1.5.0",
            "_view_name": "HBoxView",
            "box_style": "",
            "children": [
              "IPY_MODEL_51a6f558892c429d8289dbf0e9d2b7c7",
              "IPY_MODEL_de0cf94c65684b44a282c4b0294db1f8",
              "IPY_MODEL_16a7870e3e974ea59a79ea3d0729fafb"
            ],
            "layout": "IPY_MODEL_64f6e5d80f214e4f9738d6901421652f"
          }
        },
        "51a6f558892c429d8289dbf0e9d2b7c7": {
          "model_module": "@jupyter-widgets/controls",
          "model_name": "HTMLModel",
          "model_module_version": "1.5.0",
          "state": {
            "_dom_classes": [],
            "_model_module": "@jupyter-widgets/controls",
            "_model_module_version": "1.5.0",
            "_model_name": "HTMLModel",
            "_view_count": null,
            "_view_module": "@jupyter-widgets/controls",
            "_view_module_version": "1.5.0",
            "_view_name": "HTMLView",
            "description": "",
            "description_tooltip": null,
            "layout": "IPY_MODEL_a6918339a1244f899363b8f243c9896d",
            "placeholder": "​",
            "style": "IPY_MODEL_60f94ed7b6a8488dbeedf5ed12c74b3d",
            "value": "100%"
          }
        },
        "de0cf94c65684b44a282c4b0294db1f8": {
          "model_module": "@jupyter-widgets/controls",
          "model_name": "FloatProgressModel",
          "model_module_version": "1.5.0",
          "state": {
            "_dom_classes": [],
            "_model_module": "@jupyter-widgets/controls",
            "_model_module_version": "1.5.0",
            "_model_name": "FloatProgressModel",
            "_view_count": null,
            "_view_module": "@jupyter-widgets/controls",
            "_view_module_version": "1.5.0",
            "_view_name": "ProgressView",
            "bar_style": "success",
            "description": "",
            "description_tooltip": null,
            "layout": "IPY_MODEL_e03a9f7079b64b4e9d5c82e9a6d9acca",
            "max": 4,
            "min": 0,
            "orientation": "horizontal",
            "style": "IPY_MODEL_efeab638bb2c48ac8909cc9693bbb1f4",
            "value": 4
          }
        },
        "16a7870e3e974ea59a79ea3d0729fafb": {
          "model_module": "@jupyter-widgets/controls",
          "model_name": "HTMLModel",
          "model_module_version": "1.5.0",
          "state": {
            "_dom_classes": [],
            "_model_module": "@jupyter-widgets/controls",
            "_model_module_version": "1.5.0",
            "_model_name": "HTMLModel",
            "_view_count": null,
            "_view_module": "@jupyter-widgets/controls",
            "_view_module_version": "1.5.0",
            "_view_name": "HTMLView",
            "description": "",
            "description_tooltip": null,
            "layout": "IPY_MODEL_91b27d49cfe244bd9718e59b98c3dec9",
            "placeholder": "​",
            "style": "IPY_MODEL_5bebc09af846410d8d465261d31fa99a",
            "value": " 4/4 [00:00&lt;00:00,  4.34ba/s]"
          }
        },
        "64f6e5d80f214e4f9738d6901421652f": {
          "model_module": "@jupyter-widgets/base",
          "model_name": "LayoutModel",
          "model_module_version": "1.2.0",
          "state": {
            "_model_module": "@jupyter-widgets/base",
            "_model_module_version": "1.2.0",
            "_model_name": "LayoutModel",
            "_view_count": null,
            "_view_module": "@jupyter-widgets/base",
            "_view_module_version": "1.2.0",
            "_view_name": "LayoutView",
            "align_content": null,
            "align_items": null,
            "align_self": null,
            "border": null,
            "bottom": null,
            "display": null,
            "flex": null,
            "flex_flow": null,
            "grid_area": null,
            "grid_auto_columns": null,
            "grid_auto_flow": null,
            "grid_auto_rows": null,
            "grid_column": null,
            "grid_gap": null,
            "grid_row": null,
            "grid_template_areas": null,
            "grid_template_columns": null,
            "grid_template_rows": null,
            "height": null,
            "justify_content": null,
            "justify_items": null,
            "left": null,
            "margin": null,
            "max_height": null,
            "max_width": null,
            "min_height": null,
            "min_width": null,
            "object_fit": null,
            "object_position": null,
            "order": null,
            "overflow": null,
            "overflow_x": null,
            "overflow_y": null,
            "padding": null,
            "right": null,
            "top": null,
            "visibility": null,
            "width": null
          }
        },
        "a6918339a1244f899363b8f243c9896d": {
          "model_module": "@jupyter-widgets/base",
          "model_name": "LayoutModel",
          "model_module_version": "1.2.0",
          "state": {
            "_model_module": "@jupyter-widgets/base",
            "_model_module_version": "1.2.0",
            "_model_name": "LayoutModel",
            "_view_count": null,
            "_view_module": "@jupyter-widgets/base",
            "_view_module_version": "1.2.0",
            "_view_name": "LayoutView",
            "align_content": null,
            "align_items": null,
            "align_self": null,
            "border": null,
            "bottom": null,
            "display": null,
            "flex": null,
            "flex_flow": null,
            "grid_area": null,
            "grid_auto_columns": null,
            "grid_auto_flow": null,
            "grid_auto_rows": null,
            "grid_column": null,
            "grid_gap": null,
            "grid_row": null,
            "grid_template_areas": null,
            "grid_template_columns": null,
            "grid_template_rows": null,
            "height": null,
            "justify_content": null,
            "justify_items": null,
            "left": null,
            "margin": null,
            "max_height": null,
            "max_width": null,
            "min_height": null,
            "min_width": null,
            "object_fit": null,
            "object_position": null,
            "order": null,
            "overflow": null,
            "overflow_x": null,
            "overflow_y": null,
            "padding": null,
            "right": null,
            "top": null,
            "visibility": null,
            "width": null
          }
        },
        "60f94ed7b6a8488dbeedf5ed12c74b3d": {
          "model_module": "@jupyter-widgets/controls",
          "model_name": "DescriptionStyleModel",
          "model_module_version": "1.5.0",
          "state": {
            "_model_module": "@jupyter-widgets/controls",
            "_model_module_version": "1.5.0",
            "_model_name": "DescriptionStyleModel",
            "_view_count": null,
            "_view_module": "@jupyter-widgets/base",
            "_view_module_version": "1.2.0",
            "_view_name": "StyleView",
            "description_width": ""
          }
        },
        "e03a9f7079b64b4e9d5c82e9a6d9acca": {
          "model_module": "@jupyter-widgets/base",
          "model_name": "LayoutModel",
          "model_module_version": "1.2.0",
          "state": {
            "_model_module": "@jupyter-widgets/base",
            "_model_module_version": "1.2.0",
            "_model_name": "LayoutModel",
            "_view_count": null,
            "_view_module": "@jupyter-widgets/base",
            "_view_module_version": "1.2.0",
            "_view_name": "LayoutView",
            "align_content": null,
            "align_items": null,
            "align_self": null,
            "border": null,
            "bottom": null,
            "display": null,
            "flex": null,
            "flex_flow": null,
            "grid_area": null,
            "grid_auto_columns": null,
            "grid_auto_flow": null,
            "grid_auto_rows": null,
            "grid_column": null,
            "grid_gap": null,
            "grid_row": null,
            "grid_template_areas": null,
            "grid_template_columns": null,
            "grid_template_rows": null,
            "height": null,
            "justify_content": null,
            "justify_items": null,
            "left": null,
            "margin": null,
            "max_height": null,
            "max_width": null,
            "min_height": null,
            "min_width": null,
            "object_fit": null,
            "object_position": null,
            "order": null,
            "overflow": null,
            "overflow_x": null,
            "overflow_y": null,
            "padding": null,
            "right": null,
            "top": null,
            "visibility": null,
            "width": null
          }
        },
        "efeab638bb2c48ac8909cc9693bbb1f4": {
          "model_module": "@jupyter-widgets/controls",
          "model_name": "ProgressStyleModel",
          "model_module_version": "1.5.0",
          "state": {
            "_model_module": "@jupyter-widgets/controls",
            "_model_module_version": "1.5.0",
            "_model_name": "ProgressStyleModel",
            "_view_count": null,
            "_view_module": "@jupyter-widgets/base",
            "_view_module_version": "1.2.0",
            "_view_name": "StyleView",
            "bar_color": null,
            "description_width": ""
          }
        },
        "91b27d49cfe244bd9718e59b98c3dec9": {
          "model_module": "@jupyter-widgets/base",
          "model_name": "LayoutModel",
          "model_module_version": "1.2.0",
          "state": {
            "_model_module": "@jupyter-widgets/base",
            "_model_module_version": "1.2.0",
            "_model_name": "LayoutModel",
            "_view_count": null,
            "_view_module": "@jupyter-widgets/base",
            "_view_module_version": "1.2.0",
            "_view_name": "LayoutView",
            "align_content": null,
            "align_items": null,
            "align_self": null,
            "border": null,
            "bottom": null,
            "display": null,
            "flex": null,
            "flex_flow": null,
            "grid_area": null,
            "grid_auto_columns": null,
            "grid_auto_flow": null,
            "grid_auto_rows": null,
            "grid_column": null,
            "grid_gap": null,
            "grid_row": null,
            "grid_template_areas": null,
            "grid_template_columns": null,
            "grid_template_rows": null,
            "height": null,
            "justify_content": null,
            "justify_items": null,
            "left": null,
            "margin": null,
            "max_height": null,
            "max_width": null,
            "min_height": null,
            "min_width": null,
            "object_fit": null,
            "object_position": null,
            "order": null,
            "overflow": null,
            "overflow_x": null,
            "overflow_y": null,
            "padding": null,
            "right": null,
            "top": null,
            "visibility": null,
            "width": null
          }
        },
        "5bebc09af846410d8d465261d31fa99a": {
          "model_module": "@jupyter-widgets/controls",
          "model_name": "DescriptionStyleModel",
          "model_module_version": "1.5.0",
          "state": {
            "_model_module": "@jupyter-widgets/controls",
            "_model_module_version": "1.5.0",
            "_model_name": "DescriptionStyleModel",
            "_view_count": null,
            "_view_module": "@jupyter-widgets/base",
            "_view_module_version": "1.2.0",
            "_view_name": "StyleView",
            "description_width": ""
          }
        },
        "3f516500106046879c76ac89482fcfde": {
          "model_module": "@jupyter-widgets/controls",
          "model_name": "HBoxModel",
          "model_module_version": "1.5.0",
          "state": {
            "_dom_classes": [],
            "_model_module": "@jupyter-widgets/controls",
            "_model_module_version": "1.5.0",
            "_model_name": "HBoxModel",
            "_view_count": null,
            "_view_module": "@jupyter-widgets/controls",
            "_view_module_version": "1.5.0",
            "_view_name": "HBoxView",
            "box_style": "",
            "children": [
              "IPY_MODEL_1a8eba0c7c3b42a0bc26a900d9e4ae24",
              "IPY_MODEL_f963cc43546644aaad56ccfe4beda445",
              "IPY_MODEL_34fdb3e0115d4b73a4778b035b829f69"
            ],
            "layout": "IPY_MODEL_be718b736e02424690faafb54350b522"
          }
        },
        "1a8eba0c7c3b42a0bc26a900d9e4ae24": {
          "model_module": "@jupyter-widgets/controls",
          "model_name": "HTMLModel",
          "model_module_version": "1.5.0",
          "state": {
            "_dom_classes": [],
            "_model_module": "@jupyter-widgets/controls",
            "_model_module_version": "1.5.0",
            "_model_name": "HTMLModel",
            "_view_count": null,
            "_view_module": "@jupyter-widgets/controls",
            "_view_module_version": "1.5.0",
            "_view_name": "HTMLView",
            "description": "",
            "description_tooltip": null,
            "layout": "IPY_MODEL_c2bb9237ece441f5887a0a853c4ba401",
            "placeholder": "​",
            "style": "IPY_MODEL_a7d0d3843b30465e9d339fca540e0226",
            "value": "Downloading: 100%"
          }
        },
        "f963cc43546644aaad56ccfe4beda445": {
          "model_module": "@jupyter-widgets/controls",
          "model_name": "FloatProgressModel",
          "model_module_version": "1.5.0",
          "state": {
            "_dom_classes": [],
            "_model_module": "@jupyter-widgets/controls",
            "_model_module_version": "1.5.0",
            "_model_name": "FloatProgressModel",
            "_view_count": null,
            "_view_module": "@jupyter-widgets/controls",
            "_view_module_version": "1.5.0",
            "_view_name": "ProgressView",
            "bar_style": "success",
            "description": "",
            "description_tooltip": null,
            "layout": "IPY_MODEL_c5bccc612d044a97bcd9109b0bad5169",
            "max": 363423424,
            "min": 0,
            "orientation": "horizontal",
            "style": "IPY_MODEL_93f7e4fc3611442f94977d57394c9291",
            "value": 363423424
          }
        },
        "34fdb3e0115d4b73a4778b035b829f69": {
          "model_module": "@jupyter-widgets/controls",
          "model_name": "HTMLModel",
          "model_module_version": "1.5.0",
          "state": {
            "_dom_classes": [],
            "_model_module": "@jupyter-widgets/controls",
            "_model_module_version": "1.5.0",
            "_model_name": "HTMLModel",
            "_view_count": null,
            "_view_module": "@jupyter-widgets/controls",
            "_view_module_version": "1.5.0",
            "_view_name": "HTMLView",
            "description": "",
            "description_tooltip": null,
            "layout": "IPY_MODEL_65620114f4d24812baf15096fc8a09d3",
            "placeholder": "​",
            "style": "IPY_MODEL_5fbd9c51a1d34b8e978dacb0c82c7791",
            "value": " 363M/363M [00:07&lt;00:00, 56.8MB/s]"
          }
        },
        "be718b736e02424690faafb54350b522": {
          "model_module": "@jupyter-widgets/base",
          "model_name": "LayoutModel",
          "model_module_version": "1.2.0",
          "state": {
            "_model_module": "@jupyter-widgets/base",
            "_model_module_version": "1.2.0",
            "_model_name": "LayoutModel",
            "_view_count": null,
            "_view_module": "@jupyter-widgets/base",
            "_view_module_version": "1.2.0",
            "_view_name": "LayoutView",
            "align_content": null,
            "align_items": null,
            "align_self": null,
            "border": null,
            "bottom": null,
            "display": null,
            "flex": null,
            "flex_flow": null,
            "grid_area": null,
            "grid_auto_columns": null,
            "grid_auto_flow": null,
            "grid_auto_rows": null,
            "grid_column": null,
            "grid_gap": null,
            "grid_row": null,
            "grid_template_areas": null,
            "grid_template_columns": null,
            "grid_template_rows": null,
            "height": null,
            "justify_content": null,
            "justify_items": null,
            "left": null,
            "margin": null,
            "max_height": null,
            "max_width": null,
            "min_height": null,
            "min_width": null,
            "object_fit": null,
            "object_position": null,
            "order": null,
            "overflow": null,
            "overflow_x": null,
            "overflow_y": null,
            "padding": null,
            "right": null,
            "top": null,
            "visibility": null,
            "width": null
          }
        },
        "c2bb9237ece441f5887a0a853c4ba401": {
          "model_module": "@jupyter-widgets/base",
          "model_name": "LayoutModel",
          "model_module_version": "1.2.0",
          "state": {
            "_model_module": "@jupyter-widgets/base",
            "_model_module_version": "1.2.0",
            "_model_name": "LayoutModel",
            "_view_count": null,
            "_view_module": "@jupyter-widgets/base",
            "_view_module_version": "1.2.0",
            "_view_name": "LayoutView",
            "align_content": null,
            "align_items": null,
            "align_self": null,
            "border": null,
            "bottom": null,
            "display": null,
            "flex": null,
            "flex_flow": null,
            "grid_area": null,
            "grid_auto_columns": null,
            "grid_auto_flow": null,
            "grid_auto_rows": null,
            "grid_column": null,
            "grid_gap": null,
            "grid_row": null,
            "grid_template_areas": null,
            "grid_template_columns": null,
            "grid_template_rows": null,
            "height": null,
            "justify_content": null,
            "justify_items": null,
            "left": null,
            "margin": null,
            "max_height": null,
            "max_width": null,
            "min_height": null,
            "min_width": null,
            "object_fit": null,
            "object_position": null,
            "order": null,
            "overflow": null,
            "overflow_x": null,
            "overflow_y": null,
            "padding": null,
            "right": null,
            "top": null,
            "visibility": null,
            "width": null
          }
        },
        "a7d0d3843b30465e9d339fca540e0226": {
          "model_module": "@jupyter-widgets/controls",
          "model_name": "DescriptionStyleModel",
          "model_module_version": "1.5.0",
          "state": {
            "_model_module": "@jupyter-widgets/controls",
            "_model_module_version": "1.5.0",
            "_model_name": "DescriptionStyleModel",
            "_view_count": null,
            "_view_module": "@jupyter-widgets/base",
            "_view_module_version": "1.2.0",
            "_view_name": "StyleView",
            "description_width": ""
          }
        },
        "c5bccc612d044a97bcd9109b0bad5169": {
          "model_module": "@jupyter-widgets/base",
          "model_name": "LayoutModel",
          "model_module_version": "1.2.0",
          "state": {
            "_model_module": "@jupyter-widgets/base",
            "_model_module_version": "1.2.0",
            "_model_name": "LayoutModel",
            "_view_count": null,
            "_view_module": "@jupyter-widgets/base",
            "_view_module_version": "1.2.0",
            "_view_name": "LayoutView",
            "align_content": null,
            "align_items": null,
            "align_self": null,
            "border": null,
            "bottom": null,
            "display": null,
            "flex": null,
            "flex_flow": null,
            "grid_area": null,
            "grid_auto_columns": null,
            "grid_auto_flow": null,
            "grid_auto_rows": null,
            "grid_column": null,
            "grid_gap": null,
            "grid_row": null,
            "grid_template_areas": null,
            "grid_template_columns": null,
            "grid_template_rows": null,
            "height": null,
            "justify_content": null,
            "justify_items": null,
            "left": null,
            "margin": null,
            "max_height": null,
            "max_width": null,
            "min_height": null,
            "min_width": null,
            "object_fit": null,
            "object_position": null,
            "order": null,
            "overflow": null,
            "overflow_x": null,
            "overflow_y": null,
            "padding": null,
            "right": null,
            "top": null,
            "visibility": null,
            "width": null
          }
        },
        "93f7e4fc3611442f94977d57394c9291": {
          "model_module": "@jupyter-widgets/controls",
          "model_name": "ProgressStyleModel",
          "model_module_version": "1.5.0",
          "state": {
            "_model_module": "@jupyter-widgets/controls",
            "_model_module_version": "1.5.0",
            "_model_name": "ProgressStyleModel",
            "_view_count": null,
            "_view_module": "@jupyter-widgets/base",
            "_view_module_version": "1.2.0",
            "_view_name": "StyleView",
            "bar_color": null,
            "description_width": ""
          }
        },
        "65620114f4d24812baf15096fc8a09d3": {
          "model_module": "@jupyter-widgets/base",
          "model_name": "LayoutModel",
          "model_module_version": "1.2.0",
          "state": {
            "_model_module": "@jupyter-widgets/base",
            "_model_module_version": "1.2.0",
            "_model_name": "LayoutModel",
            "_view_count": null,
            "_view_module": "@jupyter-widgets/base",
            "_view_module_version": "1.2.0",
            "_view_name": "LayoutView",
            "align_content": null,
            "align_items": null,
            "align_self": null,
            "border": null,
            "bottom": null,
            "display": null,
            "flex": null,
            "flex_flow": null,
            "grid_area": null,
            "grid_auto_columns": null,
            "grid_auto_flow": null,
            "grid_auto_rows": null,
            "grid_column": null,
            "grid_gap": null,
            "grid_row": null,
            "grid_template_areas": null,
            "grid_template_columns": null,
            "grid_template_rows": null,
            "height": null,
            "justify_content": null,
            "justify_items": null,
            "left": null,
            "margin": null,
            "max_height": null,
            "max_width": null,
            "min_height": null,
            "min_width": null,
            "object_fit": null,
            "object_position": null,
            "order": null,
            "overflow": null,
            "overflow_x": null,
            "overflow_y": null,
            "padding": null,
            "right": null,
            "top": null,
            "visibility": null,
            "width": null
          }
        },
        "5fbd9c51a1d34b8e978dacb0c82c7791": {
          "model_module": "@jupyter-widgets/controls",
          "model_name": "DescriptionStyleModel",
          "model_module_version": "1.5.0",
          "state": {
            "_model_module": "@jupyter-widgets/controls",
            "_model_module_version": "1.5.0",
            "_model_name": "DescriptionStyleModel",
            "_view_count": null,
            "_view_module": "@jupyter-widgets/base",
            "_view_module_version": "1.2.0",
            "_view_name": "StyleView",
            "description_width": ""
          }
        },
        "de901697aa17469b810640ba00b1dacf": {
          "model_module": "@jupyter-widgets/controls",
          "model_name": "HBoxModel",
          "model_module_version": "1.5.0",
          "state": {
            "_dom_classes": [],
            "_model_module": "@jupyter-widgets/controls",
            "_model_module_version": "1.5.0",
            "_model_name": "HBoxModel",
            "_view_count": null,
            "_view_module": "@jupyter-widgets/controls",
            "_view_module_version": "1.5.0",
            "_view_name": "HBoxView",
            "box_style": "",
            "children": [
              "IPY_MODEL_9d4232506b5a43b4bcf8483179e981af",
              "IPY_MODEL_1ac44d3da67a4d86865ed31b376ecaf0",
              "IPY_MODEL_0f64ea5ca3f243b18b5b6970d16e1aec"
            ],
            "layout": "IPY_MODEL_4531bb94a16441ad86404c8e330bfeb5"
          }
        },
        "9d4232506b5a43b4bcf8483179e981af": {
          "model_module": "@jupyter-widgets/controls",
          "model_name": "HTMLModel",
          "model_module_version": "1.5.0",
          "state": {
            "_dom_classes": [],
            "_model_module": "@jupyter-widgets/controls",
            "_model_module_version": "1.5.0",
            "_model_name": "HTMLModel",
            "_view_count": null,
            "_view_module": "@jupyter-widgets/controls",
            "_view_module_version": "1.5.0",
            "_view_name": "HTMLView",
            "description": "",
            "description_tooltip": null,
            "layout": "IPY_MODEL_644804109ef043babf24154d17af4dd6",
            "placeholder": "​",
            "style": "IPY_MODEL_270792de37244e139568a7acac5f4567",
            "value": "100%"
          }
        },
        "1ac44d3da67a4d86865ed31b376ecaf0": {
          "model_module": "@jupyter-widgets/controls",
          "model_name": "FloatProgressModel",
          "model_module_version": "1.5.0",
          "state": {
            "_dom_classes": [],
            "_model_module": "@jupyter-widgets/controls",
            "_model_module_version": "1.5.0",
            "_model_name": "FloatProgressModel",
            "_view_count": null,
            "_view_module": "@jupyter-widgets/controls",
            "_view_module_version": "1.5.0",
            "_view_name": "ProgressView",
            "bar_style": "success",
            "description": "",
            "description_tooltip": null,
            "layout": "IPY_MODEL_c6393c14c9444637a3280dd1f9ef5136",
            "max": 8,
            "min": 0,
            "orientation": "horizontal",
            "style": "IPY_MODEL_e59d124d95c849edba1b730b85cb54ff",
            "value": 8
          }
        },
        "0f64ea5ca3f243b18b5b6970d16e1aec": {
          "model_module": "@jupyter-widgets/controls",
          "model_name": "HTMLModel",
          "model_module_version": "1.5.0",
          "state": {
            "_dom_classes": [],
            "_model_module": "@jupyter-widgets/controls",
            "_model_module_version": "1.5.0",
            "_model_name": "HTMLModel",
            "_view_count": null,
            "_view_module": "@jupyter-widgets/controls",
            "_view_module_version": "1.5.0",
            "_view_name": "HTMLView",
            "description": "",
            "description_tooltip": null,
            "layout": "IPY_MODEL_811b0fcbd6ac47a0ba40188ffed2412e",
            "placeholder": "​",
            "style": "IPY_MODEL_383da4fe85e2433e86cb025762a86d3e",
            "value": " 8/8 [00:00&lt;00:00, 15.35ba/s]"
          }
        },
        "4531bb94a16441ad86404c8e330bfeb5": {
          "model_module": "@jupyter-widgets/base",
          "model_name": "LayoutModel",
          "model_module_version": "1.2.0",
          "state": {
            "_model_module": "@jupyter-widgets/base",
            "_model_module_version": "1.2.0",
            "_model_name": "LayoutModel",
            "_view_count": null,
            "_view_module": "@jupyter-widgets/base",
            "_view_module_version": "1.2.0",
            "_view_name": "LayoutView",
            "align_content": null,
            "align_items": null,
            "align_self": null,
            "border": null,
            "bottom": null,
            "display": null,
            "flex": null,
            "flex_flow": null,
            "grid_area": null,
            "grid_auto_columns": null,
            "grid_auto_flow": null,
            "grid_auto_rows": null,
            "grid_column": null,
            "grid_gap": null,
            "grid_row": null,
            "grid_template_areas": null,
            "grid_template_columns": null,
            "grid_template_rows": null,
            "height": null,
            "justify_content": null,
            "justify_items": null,
            "left": null,
            "margin": null,
            "max_height": null,
            "max_width": null,
            "min_height": null,
            "min_width": null,
            "object_fit": null,
            "object_position": null,
            "order": null,
            "overflow": null,
            "overflow_x": null,
            "overflow_y": null,
            "padding": null,
            "right": null,
            "top": null,
            "visibility": null,
            "width": null
          }
        },
        "644804109ef043babf24154d17af4dd6": {
          "model_module": "@jupyter-widgets/base",
          "model_name": "LayoutModel",
          "model_module_version": "1.2.0",
          "state": {
            "_model_module": "@jupyter-widgets/base",
            "_model_module_version": "1.2.0",
            "_model_name": "LayoutModel",
            "_view_count": null,
            "_view_module": "@jupyter-widgets/base",
            "_view_module_version": "1.2.0",
            "_view_name": "LayoutView",
            "align_content": null,
            "align_items": null,
            "align_self": null,
            "border": null,
            "bottom": null,
            "display": null,
            "flex": null,
            "flex_flow": null,
            "grid_area": null,
            "grid_auto_columns": null,
            "grid_auto_flow": null,
            "grid_auto_rows": null,
            "grid_column": null,
            "grid_gap": null,
            "grid_row": null,
            "grid_template_areas": null,
            "grid_template_columns": null,
            "grid_template_rows": null,
            "height": null,
            "justify_content": null,
            "justify_items": null,
            "left": null,
            "margin": null,
            "max_height": null,
            "max_width": null,
            "min_height": null,
            "min_width": null,
            "object_fit": null,
            "object_position": null,
            "order": null,
            "overflow": null,
            "overflow_x": null,
            "overflow_y": null,
            "padding": null,
            "right": null,
            "top": null,
            "visibility": null,
            "width": null
          }
        },
        "270792de37244e139568a7acac5f4567": {
          "model_module": "@jupyter-widgets/controls",
          "model_name": "DescriptionStyleModel",
          "model_module_version": "1.5.0",
          "state": {
            "_model_module": "@jupyter-widgets/controls",
            "_model_module_version": "1.5.0",
            "_model_name": "DescriptionStyleModel",
            "_view_count": null,
            "_view_module": "@jupyter-widgets/base",
            "_view_module_version": "1.2.0",
            "_view_name": "StyleView",
            "description_width": ""
          }
        },
        "c6393c14c9444637a3280dd1f9ef5136": {
          "model_module": "@jupyter-widgets/base",
          "model_name": "LayoutModel",
          "model_module_version": "1.2.0",
          "state": {
            "_model_module": "@jupyter-widgets/base",
            "_model_module_version": "1.2.0",
            "_model_name": "LayoutModel",
            "_view_count": null,
            "_view_module": "@jupyter-widgets/base",
            "_view_module_version": "1.2.0",
            "_view_name": "LayoutView",
            "align_content": null,
            "align_items": null,
            "align_self": null,
            "border": null,
            "bottom": null,
            "display": null,
            "flex": null,
            "flex_flow": null,
            "grid_area": null,
            "grid_auto_columns": null,
            "grid_auto_flow": null,
            "grid_auto_rows": null,
            "grid_column": null,
            "grid_gap": null,
            "grid_row": null,
            "grid_template_areas": null,
            "grid_template_columns": null,
            "grid_template_rows": null,
            "height": null,
            "justify_content": null,
            "justify_items": null,
            "left": null,
            "margin": null,
            "max_height": null,
            "max_width": null,
            "min_height": null,
            "min_width": null,
            "object_fit": null,
            "object_position": null,
            "order": null,
            "overflow": null,
            "overflow_x": null,
            "overflow_y": null,
            "padding": null,
            "right": null,
            "top": null,
            "visibility": null,
            "width": null
          }
        },
        "e59d124d95c849edba1b730b85cb54ff": {
          "model_module": "@jupyter-widgets/controls",
          "model_name": "ProgressStyleModel",
          "model_module_version": "1.5.0",
          "state": {
            "_model_module": "@jupyter-widgets/controls",
            "_model_module_version": "1.5.0",
            "_model_name": "ProgressStyleModel",
            "_view_count": null,
            "_view_module": "@jupyter-widgets/base",
            "_view_module_version": "1.2.0",
            "_view_name": "StyleView",
            "bar_color": null,
            "description_width": ""
          }
        },
        "811b0fcbd6ac47a0ba40188ffed2412e": {
          "model_module": "@jupyter-widgets/base",
          "model_name": "LayoutModel",
          "model_module_version": "1.2.0",
          "state": {
            "_model_module": "@jupyter-widgets/base",
            "_model_module_version": "1.2.0",
            "_model_name": "LayoutModel",
            "_view_count": null,
            "_view_module": "@jupyter-widgets/base",
            "_view_module_version": "1.2.0",
            "_view_name": "LayoutView",
            "align_content": null,
            "align_items": null,
            "align_self": null,
            "border": null,
            "bottom": null,
            "display": null,
            "flex": null,
            "flex_flow": null,
            "grid_area": null,
            "grid_auto_columns": null,
            "grid_auto_flow": null,
            "grid_auto_rows": null,
            "grid_column": null,
            "grid_gap": null,
            "grid_row": null,
            "grid_template_areas": null,
            "grid_template_columns": null,
            "grid_template_rows": null,
            "height": null,
            "justify_content": null,
            "justify_items": null,
            "left": null,
            "margin": null,
            "max_height": null,
            "max_width": null,
            "min_height": null,
            "min_width": null,
            "object_fit": null,
            "object_position": null,
            "order": null,
            "overflow": null,
            "overflow_x": null,
            "overflow_y": null,
            "padding": null,
            "right": null,
            "top": null,
            "visibility": null,
            "width": null
          }
        },
        "383da4fe85e2433e86cb025762a86d3e": {
          "model_module": "@jupyter-widgets/controls",
          "model_name": "DescriptionStyleModel",
          "model_module_version": "1.5.0",
          "state": {
            "_model_module": "@jupyter-widgets/controls",
            "_model_module_version": "1.5.0",
            "_model_name": "DescriptionStyleModel",
            "_view_count": null,
            "_view_module": "@jupyter-widgets/base",
            "_view_module_version": "1.2.0",
            "_view_name": "StyleView",
            "description_width": ""
          }
        }
      }
    }
  },
  "cells": [
    {
      "cell_type": "code",
      "execution_count": null,
      "metadata": {
        "id": "vkryFXNJbgk3"
      },
      "outputs": [],
      "source": [
        "!pip install datasets transformers"
      ]
    },
    {
      "cell_type": "code",
      "source": [
        "import pandas as pd\n",
        "import numpy as np\n",
        "from transformers import pipeline\n"
      ],
      "metadata": {
        "id": "P1Is3mnQbyky"
      },
      "execution_count": null,
      "outputs": []
    },
    {
      "cell_type": "markdown",
      "source": [
        "# Load dataset"
      ],
      "metadata": {
        "id": "BA1iPWFnb02k"
      }
    },
    {
      "cell_type": "code",
      "source": [
        "path = '/content/drive/MyDrive/NLP with Disaster Tweets/'\n",
        "train = pd.read_csv(path + 'data/train.csv')\n",
        "test = pd.read_csv(path + 'data/test.csv')\n",
        "\n",
        "print(train.info())\n",
        "#print(test.info())"
      ],
      "metadata": {
        "colab": {
          "base_uri": "https://localhost:8080/"
        },
        "id": "RMXk-IO6dFsP",
        "outputId": "2230b3e3-22a8-4ec4-93aa-8432a8d85c0a"
      },
      "execution_count": null,
      "outputs": [
        {
          "output_type": "stream",
          "name": "stdout",
          "text": [
            "<class 'pandas.core.frame.DataFrame'>\n",
            "RangeIndex: 7613 entries, 0 to 7612\n",
            "Data columns (total 5 columns):\n",
            " #   Column    Non-Null Count  Dtype \n",
            "---  ------    --------------  ----- \n",
            " 0   id        7613 non-null   int64 \n",
            " 1   keyword   7552 non-null   object\n",
            " 2   location  5080 non-null   object\n",
            " 3   text      7613 non-null   object\n",
            " 4   target    7613 non-null   int64 \n",
            "dtypes: int64(2), object(3)\n",
            "memory usage: 297.5+ KB\n",
            "None\n"
          ]
        }
      ]
    },
    {
      "cell_type": "markdown",
      "source": [
        "# Mislabeled Samples\n",
        "There are 18 unique tweets in training set which are labeled differently in their duplicates. Those tweets are probably labeled by different people and they interpreted the meaning differently because some of them are not very clear. Tweets with two unique target values are relabeled since they can affect the training score."
      ],
      "metadata": {
        "id": "OFhWpukaIw15"
      }
    },
    {
      "cell_type": "code",
      "source": [
        "train_mislabeled = train.groupby(['text']).nunique().sort_values(by='target', ascending=False)\n",
        "texts_mislabeled = train_mislabeled[train_mislabeled['target'] >1]['target'].index.tolist()\n",
        "texts_mislabeled"
      ],
      "metadata": {
        "colab": {
          "base_uri": "https://localhost:8080/"
        },
        "id": "vfpjP9qHIwAJ",
        "outputId": "d6999bd4-e763-47c9-b440-e91c11e7331c"
      },
      "execution_count": null,
      "outputs": [
        {
          "output_type": "execute_result",
          "data": {
            "text/plain": [
              "['like for the music video I want some real action shit like burning buildings and police chases not some weak ben winston shit',\n",
              " 'Hellfire! We don\\x89Ûªt even want to think about it or mention it so let\\x89Ûªs not do anything that leads to it #islam!',\n",
              " \"The Prophet (peace be upon him) said 'Save yourself from Hellfire even if it is by giving half a date in charity.'\",\n",
              " 'In #islam saving a person is equal in reward to saving all humans! Islam is the opposite of terrorism!',\n",
              " 'To fight bioterrorism sir.',\n",
              " 'Who is bringing the tornadoes and floods. Who is bringing the climate change. God is after America He is plaguing her\\n \\n#FARRAKHAN #QUOTE',\n",
              " '#foodscare #offers2go #NestleIndia slips into loss after #Magginoodle #ban unsafe and hazardous for #humanconsumption',\n",
              " '#Allah describes piling up #wealth thinking it would last #forever as the description of the people of #Hellfire in Surah Humaza. #Reflect',\n",
              " 'He came to a land which was engulfed in tribal war and turned it into a land of peace i.e. Madinah. #ProphetMuhammad #islam',\n",
              " 'RT NotExplained: The only known image of infamous hijacker D.B. Cooper. http://t.co/JlzK2HdeTG',\n",
              " 'Hellfire is surrounded by desires so be careful and don\\x89Ûªt let your desires control you! #Afterlife',\n",
              " 'CLEARED:incident with injury:I-495  inner loop Exit 31 - MD 97/Georgia Ave Silver Spring',\n",
              " \"Mmmmmm I'm burning.... I'm burning buildings I'm building.... Oooooohhhh oooh ooh...\",\n",
              " 'wowo--=== 12000 Nigerian refugees repatriated from Cameroon',\n",
              " '.POTUS #StrategicPatience is a strategy for #Genocide; refugees; IDP Internally displaced people; horror; etc. https://t.co/rqWuoy1fm4',\n",
              " 'Caution: breathing may be hazardous to your health.',\n",
              " 'I Pledge Allegiance To The P.O.P.E. And The Burning Buildings of Epic City. ??????',\n",
              " 'that horrible sinking feeling when you\\x89Ûªve been at home on your phone for a while and you realise its been on 3G this whole time']"
            ]
          },
          "metadata": {},
          "execution_count": 76
        }
      ]
    },
    {
      "cell_type": "code",
      "source": [
        "train['target_relabeled'] = train['target'].copy()\n",
        "train.loc[train['text'] == 'like for the music video I want some real action shit like burning buildings and police chases not some weak ben winston shit', 'target_relabeled'] = 0\n",
        "train.loc[train['text'] == 'Hellfire! We don\\x89Ûªt even want to think about it or mention it so let\\x89Ûªs not do anything that leads to it #islam!', 'target_relabeled'] = 0\n",
        "train.loc[train['text'] == \"The Prophet (peace be upon him) said 'Save yourself from Hellfire even if it is by giving half a date in charity.'\", 'target_relabeled'] = 0\n",
        "train.loc[train['text'] == 'In #islam saving a person is equal in reward to saving all humans! Islam is the opposite of terrorism!', 'target_relabeled'] = 0\n",
        "train.loc[train['text'] == 'To fight bioterrorism sir.', 'target_relabeled'] = 0\n",
        "train.loc[train['text'] == 'Who is bringing the tornadoes and floods. Who is bringing the climate change. God is after America He is plaguing her\\n \\n#FARRAKHAN #QUOTE', 'target_relabeled'] = 1\n",
        "train.loc[train['text'] == '#foodscare #offers2go #NestleIndia slips into loss after #Magginoodle #ban unsafe and hazardous for #humanconsumption', 'target_relabeled'] = 0\n",
        "train.loc[train['text'] == '#Allah describes piling up #wealth thinking it would last #forever as the description of the people of #Hellfire in Surah Humaza. #Reflect', 'target_relabeled'] = 0\n",
        "train.loc[train['text'] == 'He came to a land which was engulfed in tribal war and turned it into a land of peace i.e. Madinah. #ProphetMuhammad #islam', 'target_relabeled'] = 0\n",
        "train.loc[train['text'] == 'RT NotExplained: The only known image of infamous hijacker D.B. Cooper. http://t.co/JlzK2HdeTG', 'target_relabeled'] = 1\n",
        "train.loc[train['text'] == 'Hellfire is surrounded by desires so be careful and don\\x89Ûªt let your desires control you! #Afterlife', 'target_relabeled'] = 0\n",
        "train.loc[train['text'] == 'CLEARED:incident with injury:I-495  inner loop Exit 31 - MD 97/Georgia Ave Silver Spring', 'target_relabeled'] = 1\n",
        "train.loc[train['text'] == \"Mmmmmm I'm burning.... I'm burning buildings I'm building.... Oooooohhhh oooh ooh...\", 'target_relabeled'] = 0\n",
        "train.loc[train['text'] == 'wowo--=== 12000 Nigerian refugees repatriated from Cameroon', 'target_relabeled'] = 0\n",
        "train.loc[train['text'] == '.POTUS #StrategicPatience is a strategy for #Genocide; refugees; IDP Internally displaced people; horror; etc. https://t.co/rqWuoy1fm4', 'target_relabeled'] = 1\n",
        "train.loc[train['text'] == 'Caution: breathing may be hazardous to your health.', 'target_relabeled'] = 1\n",
        "train.loc[train['text'] == 'I Pledge Allegiance To The P.O.P.E. And The Burning Buildings of Epic City. ??????', 'target_relabeled'] = 0\n",
        "train.loc[train['text'] == 'that horrible sinking feeling when you\\x89Ûªve been at home on your phone for a while and you realise its been on 3G this whole time', 'target_relabeled'] = 0"
      ],
      "metadata": {
        "id": "g_SN_tyUM5iG"
      },
      "execution_count": null,
      "outputs": []
    },
    {
      "cell_type": "markdown",
      "source": [
        "# Data Cleaning\n"
      ],
      "metadata": {
        "id": "XfLoQRMnrU9I"
      }
    },
    {
      "cell_type": "code",
      "source": [
        "df = pd.concat([train, test])\n",
        "df.shape"
      ],
      "metadata": {
        "colab": {
          "base_uri": "https://localhost:8080/"
        },
        "id": "t6H7bhjLrduW",
        "outputId": "e99f1f81-cc8a-400b-8dfb-563dfff71551"
      },
      "execution_count": null,
      "outputs": [
        {
          "output_type": "execute_result",
          "data": {
            "text/plain": [
              "(10876, 6)"
            ]
          },
          "metadata": {},
          "execution_count": 78
        }
      ]
    },
    {
      "cell_type": "code",
      "source": [
        "from transformers import AdamW, AutoTokenizer, AutoModelForSequenceClassification\n",
        "checkpoint = 'distilbert-base-uncased'\n",
        "tokenizer = AutoTokenizer.from_pretrained(checkpoint)"
      ],
      "metadata": {
        "id": "kZpRogPltdI_"
      },
      "execution_count": null,
      "outputs": []
    },
    {
      "cell_type": "code",
      "source": [
        "print(tokenizer.tokenize('Hellfire! We don\\x89Ûªt even want to think about it or mention it so let\\x89Ûªs not do anything that leads to it #islam!'))"
      ],
      "metadata": {
        "colab": {
          "base_uri": "https://localhost:8080/"
        },
        "id": "QE6mO-Wqv3xc",
        "outputId": "f5b3c0a6-e766-46db-fbf1-cd1fab8e3409"
      },
      "execution_count": null,
      "outputs": [
        {
          "output_type": "stream",
          "name": "stdout",
          "text": [
            "['hell', '##fire', '!', 'we', 'don', '##u', '##ª', '##t', 'even', 'want', 'to', 'think', 'about', 'it', 'or', 'mention', 'it', 'so', 'let', '##u', '##ª', '##s', 'not', 'do', 'anything', 'that', 'leads', 'to', 'it', '#', 'islam', '!']\n"
          ]
        }
      ]
    },
    {
      "cell_type": "markdown",
      "source": [
        "## Removing urls"
      ],
      "metadata": {
        "id": "2ju__amHthCt"
      }
    },
    {
      "cell_type": "code",
      "source": [
        "import re"
      ],
      "metadata": {
        "id": "_-wXIKH0t-1b"
      },
      "execution_count": null,
      "outputs": []
    },
    {
      "cell_type": "code",
      "source": [
        "example='RT NotExplained: The only known image of infamous hijacker D.B. Cooper. http://t.co/JlzK2HdeTG'\n",
        "print(tokenizer.tokenize(example))"
      ],
      "metadata": {
        "colab": {
          "base_uri": "https://localhost:8080/"
        },
        "id": "8SsvMxectfXw",
        "outputId": "14b20d99-9d7d-4cf4-a91e-9a71dbea30b5"
      },
      "execution_count": null,
      "outputs": [
        {
          "output_type": "stream",
          "name": "stdout",
          "text": [
            "['rt', 'note', '##x', '##pl', '##aine', '##d', ':', 'the', 'only', 'known', 'image', 'of', 'infamous', 'hi', '##jack', '##er', 'd', '.', 'b', '.', 'cooper', '.', 'http', ':', '/', '/', 't', '.', 'co', '/', 'j', '##lz', '##k', '##2', '##hd', '##et', '##g']\n"
          ]
        }
      ]
    },
    {
      "cell_type": "code",
      "source": [
        "def remove_URL(text):\n",
        "    url = re.compile(r'https?://\\S+|www\\.\\S+')\n",
        "    return url.sub(r'',text)\n",
        "\n",
        "print(tokenizer.tokenize( remove_URL(example)))"
      ],
      "metadata": {
        "colab": {
          "base_uri": "https://localhost:8080/"
        },
        "id": "2uU4Kq-ztwup",
        "outputId": "1738e100-957b-4553-8321-15c17f930563"
      },
      "execution_count": null,
      "outputs": [
        {
          "output_type": "stream",
          "name": "stdout",
          "text": [
            "['rt', 'note', '##x', '##pl', '##aine', '##d', ':', 'the', 'only', 'known', 'image', 'of', 'infamous', 'hi', '##jack', '##er', 'd', '.', 'b', '.', 'cooper', '.']\n"
          ]
        }
      ]
    },
    {
      "cell_type": "code",
      "source": [
        "df['text'] = df['text'].apply(lambda x : remove_URL(x))"
      ],
      "metadata": {
        "id": "SPxpOSztuhV1"
      },
      "execution_count": null,
      "outputs": []
    },
    {
      "cell_type": "markdown",
      "source": [
        "##Removing HTML tags"
      ],
      "metadata": {
        "id": "Hh_H7BdNutOr"
      }
    },
    {
      "cell_type": "code",
      "source": [
        "example = \"\"\"<div>\n",
        "<h1>Real or Fake</h1>\n",
        "<p>Kaggle </p>\n",
        "<a href=\"https://www.kaggle.com/c/nlp-getting-started\">getting started</a>\n",
        "</div>\"\"\"\n",
        "print(tokenizer.tokenize(example))"
      ],
      "metadata": {
        "colab": {
          "base_uri": "https://localhost:8080/"
        },
        "id": "20PjyN75uxOW",
        "outputId": "3c94c15f-59a1-4788-8895-c3e5102cae68"
      },
      "execution_count": null,
      "outputs": [
        {
          "output_type": "stream",
          "name": "stdout",
          "text": [
            "['<', 'di', '##v', '>', '<', 'h', '##1', '>', 'real', 'or', 'fake', '<', '/', 'h', '##1', '>', '<', 'p', '>', 'ka', '##ggle', '<', '/', 'p', '>', '<', 'a', 'hr', '##ef', '=', '\"', 'https', ':', '/', '/', 'www', '.', 'ka', '##ggle', '.', 'com', '/', 'c', '/', 'nl', '##p', '-', 'getting', '-', 'started', '\"', '>', 'getting', 'started', '<', '/', 'a', '>', '<', '/', 'di', '##v', '>']\n"
          ]
        }
      ]
    },
    {
      "cell_type": "code",
      "source": [
        "def remove_html(text):\n",
        "    html=re.compile(r'<.*?>')\n",
        "    return html.sub(r'',text)\n",
        "\n",
        "print(tokenizer.tokenize( remove_html(example)))"
      ],
      "metadata": {
        "colab": {
          "base_uri": "https://localhost:8080/"
        },
        "id": "AVFGmmi-u2oR",
        "outputId": "20412833-6d08-474e-b9ce-af6b23a39b04"
      },
      "execution_count": null,
      "outputs": [
        {
          "output_type": "stream",
          "name": "stdout",
          "text": [
            "['real', 'or', 'fake', 'ka', '##ggle', 'getting', 'started']\n"
          ]
        }
      ]
    },
    {
      "cell_type": "code",
      "source": [
        "df['text']=df['text'].apply(lambda x : remove_html(x))"
      ],
      "metadata": {
        "id": "um6S_ID7vAmD"
      },
      "execution_count": null,
      "outputs": []
    },
    {
      "cell_type": "markdown",
      "source": [
        "## Removeing \\x89Ûª"
      ],
      "metadata": {
        "id": "e6t5lUhQwPO1"
      }
    },
    {
      "cell_type": "code",
      "source": [
        "example = 'Hellfire! We don\\x89Ûªt even want to think about it or mention it so let\\x89Ûªs not do anything that leads to it #islam!'\n",
        "#print(tokenizer.tokenize(example))"
      ],
      "metadata": {
        "id": "70aIXubdwVbk"
      },
      "execution_count": null,
      "outputs": []
    },
    {
      "cell_type": "code",
      "source": [
        "def remove_ua(text):\n",
        "    ua = re.compile(r'\\x89Ûª')\n",
        "    return ua.sub(r\"'\", text)\n",
        "\n",
        "print(tokenizer.tokenize( remove_ua(example)))"
      ],
      "metadata": {
        "colab": {
          "base_uri": "https://localhost:8080/"
        },
        "id": "_bSM02xpweBS",
        "outputId": "3bb79cf8-0c2d-4eab-d091-ded01c35a886"
      },
      "execution_count": null,
      "outputs": [
        {
          "output_type": "stream",
          "name": "stdout",
          "text": [
            "['hell', '##fire', '!', 'we', 'don', \"'\", 't', 'even', 'want', 'to', 'think', 'about', 'it', 'or', 'mention', 'it', 'so', 'let', \"'\", 's', 'not', 'do', 'anything', 'that', 'leads', 'to', 'it', '#', 'islam', '!']\n"
          ]
        }
      ]
    },
    {
      "cell_type": "code",
      "source": [
        "df['text']=df['text'].apply(lambda x : remove_ua(x))"
      ],
      "metadata": {
        "id": "08mWvNLKhpJK"
      },
      "execution_count": null,
      "outputs": []
    },
    {
      "cell_type": "markdown",
      "source": [
        "## Romoving Mentions"
      ],
      "metadata": {
        "id": "5F9Pax8wjVbN"
      }
    },
    {
      "cell_type": "code",
      "source": [
        "example = df.iloc[97].text\n",
        "print(example)\n",
        "print(tokenizer.tokenize(example))"
      ],
      "metadata": {
        "colab": {
          "base_uri": "https://localhost:8080/"
        },
        "id": "UEJC4WHfhu8F",
        "outputId": "54ca5e1e-5dc7-4ffb-fcf5-8df57f1feaa5"
      },
      "execution_count": null,
      "outputs": [
        {
          "output_type": "stream",
          "name": "stdout",
          "text": [
            "#BREAKING: there was a deadly motorcycle car accident that happened to #Hagerstown today. I'll have more details at 5 @Your4State. #WHAG\n",
            "['#', 'breaking', ':', 'there', 'was', 'a', 'deadly', 'motorcycle', 'car', 'accident', 'that', 'happened', 'to', '#', 'ha', '##gers', '##town', 'today', '.', 'i', \"'\", 'll', 'have', 'more', 'details', 'at', '5', '@', 'your', '##4', '##sta', '##te', '.', '#', 'w', '##ha', '##g']\n"
          ]
        }
      ]
    },
    {
      "cell_type": "code",
      "source": [
        "def remove_mention(text):\n",
        "    mention = re.compile(\"@[A-Za-z0-9_]+\")\n",
        "    return mention.sub(r'', text)\n",
        "print(tokenizer.tokenize(remove_mention(example)))"
      ],
      "metadata": {
        "colab": {
          "base_uri": "https://localhost:8080/"
        },
        "id": "TbPBesfKmvfN",
        "outputId": "8984fee0-6473-4a4e-a0e6-b9bad6eaf02b"
      },
      "execution_count": null,
      "outputs": [
        {
          "output_type": "stream",
          "name": "stdout",
          "text": [
            "['#', 'breaking', ':', 'there', 'was', 'a', 'deadly', 'motorcycle', 'car', 'accident', 'that', 'happened', 'to', '#', 'ha', '##gers', '##town', 'today', '.', 'i', \"'\", 'll', 'have', 'more', 'details', 'at', '5', '.', '#', 'w', '##ha', '##g']\n"
          ]
        }
      ]
    },
    {
      "cell_type": "code",
      "source": [
        "df['text']=df['text'].apply(lambda x : remove_mention(x))"
      ],
      "metadata": {
        "id": "DCEozo3spLHw"
      },
      "execution_count": null,
      "outputs": []
    },
    {
      "cell_type": "markdown",
      "source": [
        "## removing hashtag"
      ],
      "metadata": {
        "id": "zXljDGZEnVzM"
      }
    },
    {
      "cell_type": "code",
      "source": [
        "#example = \"#BREAKING: there was a deadly motorcycle car accident that happened to #Hagerstown today. I'll have more details at 5 @Your4State. #WHAG\"\n",
        "example = df.iloc[97].text\n",
        "print(example)\n",
        "print(tokenizer.tokenize(example))"
      ],
      "metadata": {
        "colab": {
          "base_uri": "https://localhost:8080/"
        },
        "id": "JDTPm87JniWw",
        "outputId": "95b30a5c-cb62-4feb-8f9e-78a8dcf676f2"
      },
      "execution_count": null,
      "outputs": [
        {
          "output_type": "stream",
          "name": "stdout",
          "text": [
            "#BREAKING: there was a deadly motorcycle car accident that happened to #Hagerstown today. I'll have more details at 5 . #WHAG\n",
            "['#', 'breaking', ':', 'there', 'was', 'a', 'deadly', 'motorcycle', 'car', 'accident', 'that', 'happened', 'to', '#', 'ha', '##gers', '##town', 'today', '.', 'i', \"'\", 'll', 'have', 'more', 'details', 'at', '5', '.', '#', 'w', '##ha', '##g']\n"
          ]
        }
      ]
    },
    {
      "cell_type": "code",
      "source": [
        "import string\n",
        "def remove_hashtag(text):\n",
        "    hashtag = re.compile(r'#')\n",
        "    return hashtag.sub(r'', text)\n",
        "\n",
        "print(tokenizer.tokenize(remove_hashtag(example)))"
      ],
      "metadata": {
        "colab": {
          "base_uri": "https://localhost:8080/"
        },
        "id": "XsN502kznguO",
        "outputId": "c7570814-0be5-4bd8-a4a4-65ffe4c1d13f"
      },
      "execution_count": null,
      "outputs": [
        {
          "output_type": "stream",
          "name": "stdout",
          "text": [
            "['breaking', ':', 'there', 'was', 'a', 'deadly', 'motorcycle', 'car', 'accident', 'that', 'happened', 'to', 'ha', '##gers', '##town', 'today', '.', 'i', \"'\", 'll', 'have', 'more', 'details', 'at', '5', '.', 'w', '##ha', '##g']\n"
          ]
        }
      ]
    },
    {
      "cell_type": "code",
      "source": [
        "df['text']=df['text'].apply(lambda x : remove_hashtag(x))"
      ],
      "metadata": {
        "id": "XiiaLaJ_pxis"
      },
      "execution_count": null,
      "outputs": []
    },
    {
      "cell_type": "markdown",
      "source": [
        "## Removing Emojis"
      ],
      "metadata": {
        "id": "OZc0rH8n1-67"
      }
    },
    {
      "cell_type": "code",
      "source": [
        "# Reference : https://gist.github.com/slowkow/7a7f61f495e3dbb7e3d767f97bd7304b\n",
        "def remove_emoji(text):\n",
        "    emoji_pattern = re.compile(\"[\"\n",
        "                           u\"\\U0001F600-\\U0001F64F\"  # emoticons\n",
        "                           u\"\\U0001F300-\\U0001F5FF\"  # symbols & pictographs\n",
        "                           u\"\\U0001F680-\\U0001F6FF\"  # transport & map symbols\n",
        "                           u\"\\U0001F1E0-\\U0001F1FF\"  # flags (iOS)\n",
        "                           u\"\\U00002702-\\U000027B0\"\n",
        "                           u\"\\U000024C2-\\U0001F251\"\n",
        "                           \"]+\", flags=re.UNICODE)\n",
        "    return emoji_pattern.sub(r'', text)\n",
        "\n",
        "remove_emoji(\"Omg another Earthquake 😔😔\")"
      ],
      "metadata": {
        "colab": {
          "base_uri": "https://localhost:8080/"
        },
        "id": "yko19YBj2Eua",
        "outputId": "c548eb43-ca3a-42e0-a067-00ecd4129ee8"
      },
      "execution_count": null,
      "outputs": [
        {
          "output_type": "execute_result",
          "data": {
            "text/plain": [
              "'Omg another Earthquake '"
            ],
            "application/vnd.google.colaboratory.intrinsic+json": {
              "type": "string"
            }
          },
          "metadata": {},
          "execution_count": 97
        }
      ]
    },
    {
      "cell_type": "code",
      "source": [
        "df['text']=df['text'].apply(lambda x: remove_emoji(x))"
      ],
      "metadata": {
        "id": "k6AnF6AS2bFT"
      },
      "execution_count": null,
      "outputs": []
    },
    {
      "cell_type": "code",
      "source": [
        "df.iloc[8485].text"
      ],
      "metadata": {
        "colab": {
          "base_uri": "https://localhost:8080/"
        },
        "id": "v2Q2R4W72h-E",
        "outputId": "85abbb72-1b23-4adb-a32a-63be85b8f266"
      },
      "execution_count": null,
      "outputs": [
        {
          "output_type": "execute_result",
          "data": {
            "text/plain": [
              "\" \\x89Û¢This Is Called DAMAGE CONTROL. Don't Be Fooled Folks. The Perps Will Just Come Up With Plan B...\""
            ],
            "application/vnd.google.colaboratory.intrinsic+json": {
              "type": "string"
            }
          },
          "metadata": {},
          "execution_count": 99
        }
      ]
    },
    {
      "cell_type": "markdown",
      "source": [
        "## removing \\x89Û"
      ],
      "metadata": {
        "id": "4b6Fcdpk3cpN"
      }
    },
    {
      "cell_type": "code",
      "source": [
        "example = df.iloc[8485].text\n",
        "print(example)\n",
        "print(tokenizer.tokenize(example))"
      ],
      "metadata": {
        "colab": {
          "base_uri": "https://localhost:8080/"
        },
        "id": "lFYXFBt73fCb",
        "outputId": "3951faca-cd49-4b97-9cff-3f85603d6c20"
      },
      "execution_count": null,
      "outputs": [
        {
          "output_type": "stream",
          "name": "stdout",
          "text": [
            " Û¢This Is Called DAMAGE CONTROL. Don't Be Fooled Folks. The Perps Will Just Come Up With Plan B...\n",
            "['u', '##¢', '##thi', '##s', 'is', 'called', 'damage', 'control', '.', 'don', \"'\", 't', 'be', 'fooled', 'folks', '.', 'the', 'per', '##ps', 'will', 'just', 'come', 'up', 'with', 'plan', 'b', '.', '.', '.']\n"
          ]
        }
      ]
    },
    {
      "cell_type": "code",
      "source": [
        "def remove_x89(text):\n",
        "    x89 = re.compile(r'\\x89Û[\\W]*', re.ASCII)\n",
        "    return x89.sub(r'', text)\n",
        "\n",
        "remove_x89(\"\\x89ÛÓ\\x89Û¢$¢¢åÊThis Is Called DAMAGE CONTROL. Don't Be Fooled Folks. The Perps Will Just Come Up With Plan\")\n",
        "#remove_x89(\"\\x89ÛÏWhen\")\n",
        "#remove_x89(\"fromåÊwounds\")"
      ],
      "metadata": {
        "colab": {
          "base_uri": "https://localhost:8080/"
        },
        "id": "4TIBP7NE5_1s",
        "outputId": "53751570-1ae6-4ba2-e4cc-c09958919bfb"
      },
      "execution_count": null,
      "outputs": [
        {
          "output_type": "execute_result",
          "data": {
            "text/plain": [
              "\"This Is Called DAMAGE CONTROL. Don't Be Fooled Folks. The Perps Will Just Come Up With Plan\""
            ],
            "application/vnd.google.colaboratory.intrinsic+json": {
              "type": "string"
            }
          },
          "metadata": {},
          "execution_count": 101
        }
      ]
    },
    {
      "cell_type": "code",
      "source": [
        "df['text']=df['text'].apply(lambda x: remove_x89(x))"
      ],
      "metadata": {
        "id": "VJqJLvgI-tqo"
      },
      "execution_count": null,
      "outputs": []
    },
    {
      "cell_type": "markdown",
      "source": [
        "## to be determined"
      ],
      "metadata": {
        "id": "-zJvHnrwpnuj"
      }
    },
    {
      "cell_type": "code",
      "source": [
        "for i in np.random.randint(0, 10876, 10):\n",
        "    print(i)\n",
        "    print(df.iloc[i].text)"
      ],
      "metadata": {
        "colab": {
          "base_uri": "https://localhost:8080/"
        },
        "id": "qCilXZ5qpsxD",
        "outputId": "2cb7e7a2-698d-4497-cd50-e44146096b1e"
      },
      "execution_count": null,
      "outputs": [
        {
          "output_type": "stream",
          "name": "stdout",
          "text": [
            "6282\n",
            "Finna storm. Fuck my back boutta start hurting like a mf ??????\n",
            "5588\n",
            "The Latest: More Homes Razed by Northern California Wildfire - ABC News \n",
            "141\n",
            "family members of osama bin laden have died in an airplane accident how ironic ?????? mhmmm gov shit i suspect\n",
            "96\n",
            "Has an accident changed your life? We will help you determine options that can financially support life care plans and on-going treatment.\n",
            "9988\n",
            "'I shut my eyes and the music broke over me like a rainstorm.' - Sylvia Plath (via petrichour) \n",
            "7686\n",
            "BreakingNews Experts in France begin examining airplane debris found on Reunion Island: French air accident e...  \n",
            "10626\n",
            "I had trouble breathing while listening to kian singing omg\n",
            "9806\n",
            "\n",
            "\n",
            "SAN ONOFRE NUCLEAR REACTOR WASTE TO BE BURIED UNDER SHORELINE USING 3 BILLION IN TAX PAYER DOLLARS\n",
            "4321\n",
            "Tension In Bayelsa As Patience Jonathan Plans To Hijack APC PDP - \n",
            "1909\n",
            "Disillusioned lead character \n",
            "Check\n",
            "Happy go lucky free spirit girl\n",
            "Check\n",
            "Dream life crushed\n",
            "Check\n",
            "Great music\n",
            "Check\n",
            "All Crowe tropes intact\n"
          ]
        }
      ]
    },
    {
      "cell_type": "code",
      "source": [
        "pd.concat([train, test], axis = 0).iloc[8485].text"
      ],
      "metadata": {
        "colab": {
          "base_uri": "https://localhost:8080/"
        },
        "id": "17fqa7JG0dNw",
        "outputId": "d6e34091-8c5f-4e65-ee7d-60153325e19d"
      },
      "execution_count": null,
      "outputs": [
        {
          "output_type": "execute_result",
          "data": {
            "text/plain": [
              "\"@beforeitsnews \\x89Û¢This Is Called DAMAGE CONTROL. Don't Be Fooled Folks. The Perps Will Just Come Up With Plan B...\""
            ],
            "application/vnd.google.colaboratory.intrinsic+json": {
              "type": "string"
            }
          },
          "metadata": {},
          "execution_count": 104
        }
      ]
    },
    {
      "cell_type": "markdown",
      "source": [
        "# correct spelling"
      ],
      "metadata": {
        "id": "JLBJbRS3cW4m"
      }
    },
    {
      "cell_type": "markdown",
      "source": [
        "## Unkown Words"
      ],
      "metadata": {
        "id": "5mE_F7YVAuSJ"
      }
    },
    {
      "cell_type": "code",
      "source": [
        "!pip install pyspellchecker"
      ],
      "metadata": {
        "colab": {
          "base_uri": "https://localhost:8080/"
        },
        "id": "pm1cFJ5-cbtJ",
        "outputId": "a3d50c65-ed73-4df4-d746-411b874652a3"
      },
      "execution_count": null,
      "outputs": [
        {
          "output_type": "stream",
          "name": "stdout",
          "text": [
            "Looking in indexes: https://pypi.org/simple, https://us-python.pkg.dev/colab-wheels/public/simple/\n",
            "Collecting pyspellchecker\n",
            "  Downloading pyspellchecker-0.7.0-py3-none-any.whl (2.5 MB)\n",
            "\u001b[K     |████████████████████████████████| 2.5 MB 12.5 MB/s \n",
            "\u001b[?25hInstalling collected packages: pyspellchecker\n",
            "Successfully installed pyspellchecker-0.7.0\n"
          ]
        }
      ]
    },
    {
      "cell_type": "code",
      "source": [
        "from spellchecker import SpellChecker\n",
        "import string\n",
        "\n",
        "spell = SpellChecker()\n",
        "\n",
        "def remove_punct(text):\n",
        "    table=str.maketrans('','',string.punctuation)\n",
        "    return text.translate(table)\n",
        "\n",
        "def unknown_words(text):\n",
        "    unknown_words = []\n",
        "    text = remove_punct(text)\n",
        "    unknown_words += spell.unknown(text.split())\n",
        "    return unknown_words\n",
        "\n",
        "unknown_words(df.text.iloc[1])"
      ],
      "metadata": {
        "colab": {
          "base_uri": "https://localhost:8080/"
        },
        "id": "Gjk40MCLlM5D",
        "outputId": "456b3414-5858-4d38-cdf4-ba2527d6099f"
      },
      "execution_count": null,
      "outputs": [
        {
          "output_type": "execute_result",
          "data": {
            "text/plain": [
              "['sask', 'ronge']"
            ]
          },
          "metadata": {},
          "execution_count": 117
        }
      ]
    },
    {
      "cell_type": "code",
      "source": [
        "df['unkown_words'] = df['text'].apply(lambda x: unknown_words(x))"
      ],
      "metadata": {
        "id": "o-8xv3_7pqgW"
      },
      "execution_count": null,
      "outputs": []
    },
    {
      "cell_type": "markdown",
      "source": [
        "## Correct"
      ],
      "metadata": {
        "id": "i3szbxShAxQE"
      }
    },
    {
      "cell_type": "code",
      "source": [
        "df['unkown_words'] "
      ],
      "metadata": {
        "colab": {
          "base_uri": "https://localhost:8080/"
        },
        "id": "AzNy4c0cFRgD",
        "outputId": "a87fee41-b2ea-4def-f02d-5008872b0490"
      },
      "execution_count": null,
      "outputs": [
        {
          "output_type": "execute_result",
          "data": {
            "text/plain": [
              "0                              []\n",
              "1                   [sask, ronge]\n",
              "2                              []\n",
              "3                              []\n",
              "4                              []\n",
              "                  ...            \n",
              "3258            [xrwn, fasteners]\n",
              "3259     [20000k, cityamp3others]\n",
              "3260                           []\n",
              "3261                        [hwo]\n",
              "3262    [cityofcalgary, yycstorm]\n",
              "Name: unkown_words, Length: 10876, dtype: object"
            ]
          },
          "metadata": {},
          "execution_count": 107
        }
      ]
    },
    {
      "cell_type": "code",
      "source": [
        "def auto_correct(unknown_words):\n",
        "    if  unknown_words == []:\n",
        "        return [[],[],[]]\n",
        "\n",
        "    words_w_corr = []\n",
        "    auto_corrections = []\n",
        "    words_wo_corr = []\n",
        "\n",
        "    for word in unknown_words:\n",
        "        corr = spell.correction(word)\n",
        "        if corr is None:\n",
        "            words_wo_corr.append(word)\n",
        "        else:\n",
        "            words_w_corr.append(word)\n",
        "            auto_corrections.append(corr)\n",
        "    return [words_w_corr, auto_corrections, words_wo_corr]\n",
        "\n",
        "auto_correct(df['unkown_words'].iloc[1])"
      ],
      "metadata": {
        "colab": {
          "base_uri": "https://localhost:8080/"
        },
        "id": "VfpysPVTuLi0",
        "outputId": "865af40d-2474-4be7-ad0f-1cc5169dbfde"
      },
      "execution_count": null,
      "outputs": [
        {
          "output_type": "execute_result",
          "data": {
            "text/plain": [
              "[['sask', 'ronge'], ['ask', 'range'], []]"
            ]
          },
          "metadata": {},
          "execution_count": 108
        }
      ]
    },
    {
      "cell_type": "code",
      "source": [
        "df[['words_w_corr', 'auto_corrections', 'words_wo_corr']] = df['unkown_words'].apply(lambda x: pd.Series(auto_correct(x)))"
      ],
      "metadata": {
        "id": "ddeKi9uUC2Fm"
      },
      "execution_count": null,
      "outputs": []
    },
    {
      "cell_type": "code",
      "source": [
        "df_auto_corr = df\n",
        "df_auto_corr.to_parquet(path + 'data/data_w_spell_correction', index = False)"
      ],
      "metadata": {
        "id": "VRlddLGTQUPM"
      },
      "execution_count": null,
      "outputs": []
    },
    {
      "cell_type": "code",
      "source": [
        "df[['text', 'words_w_corr', 'auto_corrections', 'words_wo_corr']]"
      ],
      "metadata": {
        "colab": {
          "base_uri": "https://localhost:8080/",
          "height": 424
        },
        "id": "KHQW7wnzQuNC",
        "outputId": "583cf159-3c39-4a95-c721-c3693b37296a"
      },
      "execution_count": null,
      "outputs": [
        {
          "output_type": "execute_result",
          "data": {
            "text/plain": [
              "                                                   text       words_w_corr  \\\n",
              "0     Our Deeds are the Reason of this earthquake Ma...                 []   \n",
              "1                Forest fire near La Ronge Sask. Canada      [sask, ronge]   \n",
              "2     All residents asked to 'shelter in place' are ...                 []   \n",
              "3     13,000 people receive wildfires evacuation ord...                 []   \n",
              "4     Just got sent this photo from Ruby Alaska as s...                 []   \n",
              "...                                                 ...                ...   \n",
              "3258  EARTHQUAKE SAFETY LOS ANGELES SAFETY FASTENERS...  [xrwn, fasteners]   \n",
              "3259  Storm in RI worse than last hurricane. My city...                 []   \n",
              "3260                  Green Line derailment in Chicago                  []   \n",
              "3261        MEG issues Hazardous Weather Outlook (HWO)               [hwo]   \n",
              "3262  CityofCalgary has activated its Municipal Emer...                 []   \n",
              "\n",
              "      auto_corrections              words_wo_corr  \n",
              "0                   []                         []  \n",
              "1         [ask, range]                         []  \n",
              "2                   []                         []  \n",
              "3                   []                         []  \n",
              "4                   []                         []  \n",
              "...                ...                        ...  \n",
              "3258  [down, fastener]                         []  \n",
              "3259                []   [20000k, cityamp3others]  \n",
              "3260                []                         []  \n",
              "3261             [how]                         []  \n",
              "3262                []  [cityofcalgary, yycstorm]  \n",
              "\n",
              "[10876 rows x 4 columns]"
            ],
            "text/html": [
              "\n",
              "  <div id=\"df-c343dc1d-f110-4477-9022-b1d144f7d656\">\n",
              "    <div class=\"colab-df-container\">\n",
              "      <div>\n",
              "<style scoped>\n",
              "    .dataframe tbody tr th:only-of-type {\n",
              "        vertical-align: middle;\n",
              "    }\n",
              "\n",
              "    .dataframe tbody tr th {\n",
              "        vertical-align: top;\n",
              "    }\n",
              "\n",
              "    .dataframe thead th {\n",
              "        text-align: right;\n",
              "    }\n",
              "</style>\n",
              "<table border=\"1\" class=\"dataframe\">\n",
              "  <thead>\n",
              "    <tr style=\"text-align: right;\">\n",
              "      <th></th>\n",
              "      <th>text</th>\n",
              "      <th>words_w_corr</th>\n",
              "      <th>auto_corrections</th>\n",
              "      <th>words_wo_corr</th>\n",
              "    </tr>\n",
              "  </thead>\n",
              "  <tbody>\n",
              "    <tr>\n",
              "      <th>0</th>\n",
              "      <td>Our Deeds are the Reason of this earthquake Ma...</td>\n",
              "      <td>[]</td>\n",
              "      <td>[]</td>\n",
              "      <td>[]</td>\n",
              "    </tr>\n",
              "    <tr>\n",
              "      <th>1</th>\n",
              "      <td>Forest fire near La Ronge Sask. Canada</td>\n",
              "      <td>[sask, ronge]</td>\n",
              "      <td>[ask, range]</td>\n",
              "      <td>[]</td>\n",
              "    </tr>\n",
              "    <tr>\n",
              "      <th>2</th>\n",
              "      <td>All residents asked to 'shelter in place' are ...</td>\n",
              "      <td>[]</td>\n",
              "      <td>[]</td>\n",
              "      <td>[]</td>\n",
              "    </tr>\n",
              "    <tr>\n",
              "      <th>3</th>\n",
              "      <td>13,000 people receive wildfires evacuation ord...</td>\n",
              "      <td>[]</td>\n",
              "      <td>[]</td>\n",
              "      <td>[]</td>\n",
              "    </tr>\n",
              "    <tr>\n",
              "      <th>4</th>\n",
              "      <td>Just got sent this photo from Ruby Alaska as s...</td>\n",
              "      <td>[]</td>\n",
              "      <td>[]</td>\n",
              "      <td>[]</td>\n",
              "    </tr>\n",
              "    <tr>\n",
              "      <th>...</th>\n",
              "      <td>...</td>\n",
              "      <td>...</td>\n",
              "      <td>...</td>\n",
              "      <td>...</td>\n",
              "    </tr>\n",
              "    <tr>\n",
              "      <th>3258</th>\n",
              "      <td>EARTHQUAKE SAFETY LOS ANGELES SAFETY FASTENERS...</td>\n",
              "      <td>[xrwn, fasteners]</td>\n",
              "      <td>[down, fastener]</td>\n",
              "      <td>[]</td>\n",
              "    </tr>\n",
              "    <tr>\n",
              "      <th>3259</th>\n",
              "      <td>Storm in RI worse than last hurricane. My city...</td>\n",
              "      <td>[]</td>\n",
              "      <td>[]</td>\n",
              "      <td>[20000k, cityamp3others]</td>\n",
              "    </tr>\n",
              "    <tr>\n",
              "      <th>3260</th>\n",
              "      <td>Green Line derailment in Chicago</td>\n",
              "      <td>[]</td>\n",
              "      <td>[]</td>\n",
              "      <td>[]</td>\n",
              "    </tr>\n",
              "    <tr>\n",
              "      <th>3261</th>\n",
              "      <td>MEG issues Hazardous Weather Outlook (HWO)</td>\n",
              "      <td>[hwo]</td>\n",
              "      <td>[how]</td>\n",
              "      <td>[]</td>\n",
              "    </tr>\n",
              "    <tr>\n",
              "      <th>3262</th>\n",
              "      <td>CityofCalgary has activated its Municipal Emer...</td>\n",
              "      <td>[]</td>\n",
              "      <td>[]</td>\n",
              "      <td>[cityofcalgary, yycstorm]</td>\n",
              "    </tr>\n",
              "  </tbody>\n",
              "</table>\n",
              "<p>10876 rows × 4 columns</p>\n",
              "</div>\n",
              "      <button class=\"colab-df-convert\" onclick=\"convertToInteractive('df-c343dc1d-f110-4477-9022-b1d144f7d656')\"\n",
              "              title=\"Convert this dataframe to an interactive table.\"\n",
              "              style=\"display:none;\">\n",
              "        \n",
              "  <svg xmlns=\"http://www.w3.org/2000/svg\" height=\"24px\"viewBox=\"0 0 24 24\"\n",
              "       width=\"24px\">\n",
              "    <path d=\"M0 0h24v24H0V0z\" fill=\"none\"/>\n",
              "    <path d=\"M18.56 5.44l.94 2.06.94-2.06 2.06-.94-2.06-.94-.94-2.06-.94 2.06-2.06.94zm-11 1L8.5 8.5l.94-2.06 2.06-.94-2.06-.94L8.5 2.5l-.94 2.06-2.06.94zm10 10l.94 2.06.94-2.06 2.06-.94-2.06-.94-.94-2.06-.94 2.06-2.06.94z\"/><path d=\"M17.41 7.96l-1.37-1.37c-.4-.4-.92-.59-1.43-.59-.52 0-1.04.2-1.43.59L10.3 9.45l-7.72 7.72c-.78.78-.78 2.05 0 2.83L4 21.41c.39.39.9.59 1.41.59.51 0 1.02-.2 1.41-.59l7.78-7.78 2.81-2.81c.8-.78.8-2.07 0-2.86zM5.41 20L4 18.59l7.72-7.72 1.47 1.35L5.41 20z\"/>\n",
              "  </svg>\n",
              "      </button>\n",
              "      \n",
              "  <style>\n",
              "    .colab-df-container {\n",
              "      display:flex;\n",
              "      flex-wrap:wrap;\n",
              "      gap: 12px;\n",
              "    }\n",
              "\n",
              "    .colab-df-convert {\n",
              "      background-color: #E8F0FE;\n",
              "      border: none;\n",
              "      border-radius: 50%;\n",
              "      cursor: pointer;\n",
              "      display: none;\n",
              "      fill: #1967D2;\n",
              "      height: 32px;\n",
              "      padding: 0 0 0 0;\n",
              "      width: 32px;\n",
              "    }\n",
              "\n",
              "    .colab-df-convert:hover {\n",
              "      background-color: #E2EBFA;\n",
              "      box-shadow: 0px 1px 2px rgba(60, 64, 67, 0.3), 0px 1px 3px 1px rgba(60, 64, 67, 0.15);\n",
              "      fill: #174EA6;\n",
              "    }\n",
              "\n",
              "    [theme=dark] .colab-df-convert {\n",
              "      background-color: #3B4455;\n",
              "      fill: #D2E3FC;\n",
              "    }\n",
              "\n",
              "    [theme=dark] .colab-df-convert:hover {\n",
              "      background-color: #434B5C;\n",
              "      box-shadow: 0px 1px 3px 1px rgba(0, 0, 0, 0.15);\n",
              "      filter: drop-shadow(0px 1px 2px rgba(0, 0, 0, 0.3));\n",
              "      fill: #FFFFFF;\n",
              "    }\n",
              "  </style>\n",
              "\n",
              "      <script>\n",
              "        const buttonEl =\n",
              "          document.querySelector('#df-c343dc1d-f110-4477-9022-b1d144f7d656 button.colab-df-convert');\n",
              "        buttonEl.style.display =\n",
              "          google.colab.kernel.accessAllowed ? 'block' : 'none';\n",
              "\n",
              "        async function convertToInteractive(key) {\n",
              "          const element = document.querySelector('#df-c343dc1d-f110-4477-9022-b1d144f7d656');\n",
              "          const dataTable =\n",
              "            await google.colab.kernel.invokeFunction('convertToInteractive',\n",
              "                                                     [key], {});\n",
              "          if (!dataTable) return;\n",
              "\n",
              "          const docLinkHtml = 'Like what you see? Visit the ' +\n",
              "            '<a target=\"_blank\" href=https://colab.research.google.com/notebooks/data_table.ipynb>data table notebook</a>'\n",
              "            + ' to learn more about interactive tables.';\n",
              "          element.innerHTML = '';\n",
              "          dataTable['output_type'] = 'display_data';\n",
              "          await google.colab.output.renderOutput(dataTable, element);\n",
              "          const docLink = document.createElement('div');\n",
              "          docLink.innerHTML = docLinkHtml;\n",
              "          element.appendChild(docLink);\n",
              "        }\n",
              "      </script>\n",
              "    </div>\n",
              "  </div>\n",
              "  "
            ]
          },
          "metadata": {},
          "execution_count": 116
        }
      ]
    },
    {
      "cell_type": "markdown",
      "source": [
        "## hand Correction"
      ],
      "metadata": {
        "id": "wvQvtHYHUGLq"
      }
    },
    {
      "cell_type": "code",
      "source": [
        "df = pd.read_parquet(path + 'data/data_w_spell_correction')"
      ],
      "metadata": {
        "id": "hKBh3gwvS0bB"
      },
      "execution_count": null,
      "outputs": []
    },
    {
      "cell_type": "code",
      "source": [
        "df[['text', 'words_w_corr', 'auto_corrections', 'words_wo_corr']]"
      ],
      "metadata": {
        "colab": {
          "base_uri": "https://localhost:8080/",
          "height": 424
        },
        "id": "WUQsi3EAUZMg",
        "outputId": "ebe75d77-6411-4b4e-902c-867e3d062e48"
      },
      "execution_count": null,
      "outputs": [
        {
          "output_type": "execute_result",
          "data": {
            "text/plain": [
              "                                                    text       words_w_corr  \\\n",
              "0      Our Deeds are the Reason of this earthquake Ma...                 []   \n",
              "1                 Forest fire near La Ronge Sask. Canada      [sask, ronge]   \n",
              "2      All residents asked to 'shelter in place' are ...                 []   \n",
              "3      13,000 people receive wildfires evacuation ord...                 []   \n",
              "4      Just got sent this photo from Ruby Alaska as s...                 []   \n",
              "...                                                  ...                ...   \n",
              "10871  EARTHQUAKE SAFETY LOS ANGELES SAFETY FASTENERS...  [xrwn, fasteners]   \n",
              "10872  Storm in RI worse than last hurricane. My city...                 []   \n",
              "10873                  Green Line derailment in Chicago                  []   \n",
              "10874        MEG issues Hazardous Weather Outlook (HWO)               [hwo]   \n",
              "10875  CityofCalgary has activated its Municipal Emer...                 []   \n",
              "\n",
              "       auto_corrections              words_wo_corr  \n",
              "0                    []                         []  \n",
              "1          [ask, range]                         []  \n",
              "2                    []                         []  \n",
              "3                    []                         []  \n",
              "4                    []                         []  \n",
              "...                 ...                        ...  \n",
              "10871  [down, fastener]                         []  \n",
              "10872                []   [20000k, cityamp3others]  \n",
              "10873                []                         []  \n",
              "10874             [how]                         []  \n",
              "10875                []  [cityofcalgary, yycstorm]  \n",
              "\n",
              "[10876 rows x 4 columns]"
            ],
            "text/html": [
              "\n",
              "  <div id=\"df-8d252a31-74fe-4362-9540-1b2e7c54a046\">\n",
              "    <div class=\"colab-df-container\">\n",
              "      <div>\n",
              "<style scoped>\n",
              "    .dataframe tbody tr th:only-of-type {\n",
              "        vertical-align: middle;\n",
              "    }\n",
              "\n",
              "    .dataframe tbody tr th {\n",
              "        vertical-align: top;\n",
              "    }\n",
              "\n",
              "    .dataframe thead th {\n",
              "        text-align: right;\n",
              "    }\n",
              "</style>\n",
              "<table border=\"1\" class=\"dataframe\">\n",
              "  <thead>\n",
              "    <tr style=\"text-align: right;\">\n",
              "      <th></th>\n",
              "      <th>text</th>\n",
              "      <th>words_w_corr</th>\n",
              "      <th>auto_corrections</th>\n",
              "      <th>words_wo_corr</th>\n",
              "    </tr>\n",
              "  </thead>\n",
              "  <tbody>\n",
              "    <tr>\n",
              "      <th>0</th>\n",
              "      <td>Our Deeds are the Reason of this earthquake Ma...</td>\n",
              "      <td>[]</td>\n",
              "      <td>[]</td>\n",
              "      <td>[]</td>\n",
              "    </tr>\n",
              "    <tr>\n",
              "      <th>1</th>\n",
              "      <td>Forest fire near La Ronge Sask. Canada</td>\n",
              "      <td>[sask, ronge]</td>\n",
              "      <td>[ask, range]</td>\n",
              "      <td>[]</td>\n",
              "    </tr>\n",
              "    <tr>\n",
              "      <th>2</th>\n",
              "      <td>All residents asked to 'shelter in place' are ...</td>\n",
              "      <td>[]</td>\n",
              "      <td>[]</td>\n",
              "      <td>[]</td>\n",
              "    </tr>\n",
              "    <tr>\n",
              "      <th>3</th>\n",
              "      <td>13,000 people receive wildfires evacuation ord...</td>\n",
              "      <td>[]</td>\n",
              "      <td>[]</td>\n",
              "      <td>[]</td>\n",
              "    </tr>\n",
              "    <tr>\n",
              "      <th>4</th>\n",
              "      <td>Just got sent this photo from Ruby Alaska as s...</td>\n",
              "      <td>[]</td>\n",
              "      <td>[]</td>\n",
              "      <td>[]</td>\n",
              "    </tr>\n",
              "    <tr>\n",
              "      <th>...</th>\n",
              "      <td>...</td>\n",
              "      <td>...</td>\n",
              "      <td>...</td>\n",
              "      <td>...</td>\n",
              "    </tr>\n",
              "    <tr>\n",
              "      <th>10871</th>\n",
              "      <td>EARTHQUAKE SAFETY LOS ANGELES SAFETY FASTENERS...</td>\n",
              "      <td>[xrwn, fasteners]</td>\n",
              "      <td>[down, fastener]</td>\n",
              "      <td>[]</td>\n",
              "    </tr>\n",
              "    <tr>\n",
              "      <th>10872</th>\n",
              "      <td>Storm in RI worse than last hurricane. My city...</td>\n",
              "      <td>[]</td>\n",
              "      <td>[]</td>\n",
              "      <td>[20000k, cityamp3others]</td>\n",
              "    </tr>\n",
              "    <tr>\n",
              "      <th>10873</th>\n",
              "      <td>Green Line derailment in Chicago</td>\n",
              "      <td>[]</td>\n",
              "      <td>[]</td>\n",
              "      <td>[]</td>\n",
              "    </tr>\n",
              "    <tr>\n",
              "      <th>10874</th>\n",
              "      <td>MEG issues Hazardous Weather Outlook (HWO)</td>\n",
              "      <td>[hwo]</td>\n",
              "      <td>[how]</td>\n",
              "      <td>[]</td>\n",
              "    </tr>\n",
              "    <tr>\n",
              "      <th>10875</th>\n",
              "      <td>CityofCalgary has activated its Municipal Emer...</td>\n",
              "      <td>[]</td>\n",
              "      <td>[]</td>\n",
              "      <td>[cityofcalgary, yycstorm]</td>\n",
              "    </tr>\n",
              "  </tbody>\n",
              "</table>\n",
              "<p>10876 rows × 4 columns</p>\n",
              "</div>\n",
              "      <button class=\"colab-df-convert\" onclick=\"convertToInteractive('df-8d252a31-74fe-4362-9540-1b2e7c54a046')\"\n",
              "              title=\"Convert this dataframe to an interactive table.\"\n",
              "              style=\"display:none;\">\n",
              "        \n",
              "  <svg xmlns=\"http://www.w3.org/2000/svg\" height=\"24px\"viewBox=\"0 0 24 24\"\n",
              "       width=\"24px\">\n",
              "    <path d=\"M0 0h24v24H0V0z\" fill=\"none\"/>\n",
              "    <path d=\"M18.56 5.44l.94 2.06.94-2.06 2.06-.94-2.06-.94-.94-2.06-.94 2.06-2.06.94zm-11 1L8.5 8.5l.94-2.06 2.06-.94-2.06-.94L8.5 2.5l-.94 2.06-2.06.94zm10 10l.94 2.06.94-2.06 2.06-.94-2.06-.94-.94-2.06-.94 2.06-2.06.94z\"/><path d=\"M17.41 7.96l-1.37-1.37c-.4-.4-.92-.59-1.43-.59-.52 0-1.04.2-1.43.59L10.3 9.45l-7.72 7.72c-.78.78-.78 2.05 0 2.83L4 21.41c.39.39.9.59 1.41.59.51 0 1.02-.2 1.41-.59l7.78-7.78 2.81-2.81c.8-.78.8-2.07 0-2.86zM5.41 20L4 18.59l7.72-7.72 1.47 1.35L5.41 20z\"/>\n",
              "  </svg>\n",
              "      </button>\n",
              "      \n",
              "  <style>\n",
              "    .colab-df-container {\n",
              "      display:flex;\n",
              "      flex-wrap:wrap;\n",
              "      gap: 12px;\n",
              "    }\n",
              "\n",
              "    .colab-df-convert {\n",
              "      background-color: #E8F0FE;\n",
              "      border: none;\n",
              "      border-radius: 50%;\n",
              "      cursor: pointer;\n",
              "      display: none;\n",
              "      fill: #1967D2;\n",
              "      height: 32px;\n",
              "      padding: 0 0 0 0;\n",
              "      width: 32px;\n",
              "    }\n",
              "\n",
              "    .colab-df-convert:hover {\n",
              "      background-color: #E2EBFA;\n",
              "      box-shadow: 0px 1px 2px rgba(60, 64, 67, 0.3), 0px 1px 3px 1px rgba(60, 64, 67, 0.15);\n",
              "      fill: #174EA6;\n",
              "    }\n",
              "\n",
              "    [theme=dark] .colab-df-convert {\n",
              "      background-color: #3B4455;\n",
              "      fill: #D2E3FC;\n",
              "    }\n",
              "\n",
              "    [theme=dark] .colab-df-convert:hover {\n",
              "      background-color: #434B5C;\n",
              "      box-shadow: 0px 1px 3px 1px rgba(0, 0, 0, 0.15);\n",
              "      filter: drop-shadow(0px 1px 2px rgba(0, 0, 0, 0.3));\n",
              "      fill: #FFFFFF;\n",
              "    }\n",
              "  </style>\n",
              "\n",
              "      <script>\n",
              "        const buttonEl =\n",
              "          document.querySelector('#df-8d252a31-74fe-4362-9540-1b2e7c54a046 button.colab-df-convert');\n",
              "        buttonEl.style.display =\n",
              "          google.colab.kernel.accessAllowed ? 'block' : 'none';\n",
              "\n",
              "        async function convertToInteractive(key) {\n",
              "          const element = document.querySelector('#df-8d252a31-74fe-4362-9540-1b2e7c54a046');\n",
              "          const dataTable =\n",
              "            await google.colab.kernel.invokeFunction('convertToInteractive',\n",
              "                                                     [key], {});\n",
              "          if (!dataTable) return;\n",
              "\n",
              "          const docLinkHtml = 'Like what you see? Visit the ' +\n",
              "            '<a target=\"_blank\" href=https://colab.research.google.com/notebooks/data_table.ipynb>data table notebook</a>'\n",
              "            + ' to learn more about interactive tables.';\n",
              "          element.innerHTML = '';\n",
              "          dataTable['output_type'] = 'display_data';\n",
              "          await google.colab.output.renderOutput(dataTable, element);\n",
              "          const docLink = document.createElement('div');\n",
              "          docLink.innerHTML = docLinkHtml;\n",
              "          element.appendChild(docLink);\n",
              "        }\n",
              "      </script>\n",
              "    </div>\n",
              "  </div>\n",
              "  "
            ]
          },
          "metadata": {},
          "execution_count": 121
        }
      ]
    },
    {
      "cell_type": "code",
      "source": [
        "type(df.unkown_words.iloc[1])"
      ],
      "metadata": {
        "colab": {
          "base_uri": "https://localhost:8080/"
        },
        "id": "w3E2fKigUmix",
        "outputId": "25a95f60-d8d7-4020-fbb1-ab74053e263a"
      },
      "execution_count": null,
      "outputs": [
        {
          "output_type": "execute_result",
          "data": {
            "text/plain": [
              "str"
            ]
          },
          "metadata": {},
          "execution_count": 73
        }
      ]
    },
    {
      "cell_type": "markdown",
      "source": [
        "# train_val_split\n"
      ],
      "metadata": {
        "id": "FDg6c-OuI3EO"
      }
    },
    {
      "cell_type": "code",
      "source": [
        "train_cleaned = df[:train.shape[0]]\n",
        "test_cleaned = df[train.shape[0]:]\n",
        "#test_cleaned"
      ],
      "metadata": {
        "id": "jbpn9YBX_VPr"
      },
      "execution_count": null,
      "outputs": []
    },
    {
      "cell_type": "code",
      "source": [
        "from sklearn.model_selection import train_test_split\n",
        "\n",
        "train_cleaned, val_cleaned = train_test_split(train_cleaned, test_size=0.2)\n",
        "#val_cleaned = train_cleaned"
      ],
      "metadata": {
        "id": "Ntnz_-9Hc2fX"
      },
      "execution_count": null,
      "outputs": []
    },
    {
      "cell_type": "code",
      "source": [
        "from datasets import Dataset\n",
        "train_hf = Dataset.from_pandas(train_cleaned, preserve_index = False)\n",
        "val_hf = Dataset.from_pandas(val_cleaned, preserve_index = False)\n",
        "test_hf = Dataset.from_pandas(test_cleaned, preserve_index = False)\n",
        "\n",
        "train_hf = train_hf.rename_column('target_relabeled', 'label')\n",
        "val_hf = val_hf.rename_column('target_relabeled', 'label')\n",
        "\n",
        "train_hf"
      ],
      "metadata": {
        "id": "ymYgqhyFb5xK",
        "colab": {
          "base_uri": "https://localhost:8080/"
        },
        "outputId": "1e08b540-1b3f-4d72-d48d-602482516dc4"
      },
      "execution_count": null,
      "outputs": [
        {
          "output_type": "execute_result",
          "data": {
            "text/plain": [
              "Dataset({\n",
              "    features: ['id', 'keyword', 'location', 'text', 'target', 'label'],\n",
              "    num_rows: 6090\n",
              "})"
            ]
          },
          "metadata": {},
          "execution_count": 40
        }
      ]
    },
    {
      "cell_type": "markdown",
      "source": [
        "#Preprocess"
      ],
      "metadata": {
        "id": "JjtD43BYfpDh"
      }
    },
    {
      "cell_type": "code",
      "source": [
        "from transformers import AdamW, AutoTokenizer, AutoModelForSequenceClassification\n",
        "checkpoint = 'distilbert-base-uncased'\n",
        "tokenizer = AutoTokenizer.from_pretrained(checkpoint)"
      ],
      "metadata": {
        "id": "k4Hv093Sb_Jh"
      },
      "execution_count": null,
      "outputs": []
    },
    {
      "cell_type": "code",
      "source": [
        "for i in range(5,10):\n",
        "    print(train_hf[i]['text'])\n",
        "    print(tokenizer.tokenize(train_hf[i]['text']))"
      ],
      "metadata": {
        "colab": {
          "base_uri": "https://localhost:8080/"
        },
        "id": "Gx_6FZtShVSD",
        "outputId": "1047520f-1b24-48ee-9bd1-9f5bff77d23a"
      },
      "execution_count": null,
      "outputs": [
        {
          "output_type": "stream",
          "name": "stdout",
          "text": [
            "FedEx no longer will ship potential bioterror pathogens - Atlanta Business Chronicle  - keyword: bioterror\n",
            "['fed', '##ex', 'no', 'longer', 'will', 'ship', 'potential', 'bio', '##ter', '##ror', 'pathogen', '##s', '-', 'atlanta', 'business', 'chronicle', '-', 'key', '##word', ':', 'bio', '##ter', '##ror']\n",
            "Remove the  and Linkury Browser Hijacker   - keyword: hijacker\n",
            "['remove', 'the', 'and', 'link', '##ury', 'browser', 'hi', '##jack', '##er', '-', 'key', '##word', ':', 'hi', '##jack', '##er']\n",
            "Beach did damage to my shit - keyword: damage\n",
            "['beach', 'did', 'damage', 'to', 'my', 'shit', '-', 'key', '##word', ':', 'damage']\n",
            "Help me win $$$$ by having the most shares on my article! A Lifetime Of Fear   Thanks! BlackInAmerica GrowingUpBlack - keyword: fear\n",
            "['help', 'me', 'win', '$', '$', '$', '$', 'by', 'having', 'the', 'most', 'shares', 'on', 'my', 'article', '!', 'a', 'lifetime', 'of', 'fear', 'thanks', '!', 'black', '##ina', '##meric', '##a', 'growing', '##up', '##bla', '##ck', '-', 'key', '##word', ':', 'fear']\n",
            "InsaneLimits plugin enabled  @'    =TPS= | TDM | 400T | HARDCORE | LOCKER | WEAPON RULES' using 3 limits - keyword: weapon\n",
            "['insane', '##lim', '##its', 'plug', '##in', 'enabled', '@', \"'\", '=', 't', '##ps', '=', '|', 'td', '##m', '|', '400', '##t', '|', 'hardcore', '|', 'locker', '|', 'weapon', 'rules', \"'\", 'using', '3', 'limits', '-', 'key', '##word', ':', 'weapon']\n"
          ]
        }
      ]
    },
    {
      "cell_type": "code",
      "source": [
        "def tokenize_function(examples):\n",
        "    return tokenizer(examples['text'], truncation = True)"
      ],
      "metadata": {
        "id": "8T9iPSCkhiSf"
      },
      "execution_count": null,
      "outputs": []
    },
    {
      "cell_type": "code",
      "source": [
        "tokenized_train = train_hf.map(tokenize_function, batched = True)\n",
        "tokenized_val = val_hf.map(tokenize_function, batched=True)\n",
        "tokenized_test = test_hf.map(tokenize_function, batched = True)"
      ],
      "metadata": {
        "id": "PNKIBngjkTry",
        "colab": {
          "base_uri": "https://localhost:8080/",
          "referenced_widgets": [
            "e3550dda4af649839923d8144d5ee3c2",
            "e4d7b91722684401b6cc4c4e072b5ee9",
            "e51da48fd0fc4d2891df15880952805b",
            "e1ba966775c84b269aeae76f4cc6aafd",
            "04d39b4e2ce84afa8140104525b17c10",
            "791ffd6857fc4d81bb2be5529fd50116",
            "a18ff99528db4648a9f20ea84a1565ad",
            "95f71454534946348d2f7b56a70fec2b",
            "109719a13f4841b6ad55234ba50479ba",
            "183e16010fb94b6a8ed2ff46d2885322",
            "3ae38fc6db0c460eb476b1d9c16f8d59",
            "28b472d51b994fb98e03848bb9c53ec2",
            "f77a3b0ad8ba419784418a53ae24da38",
            "95873673117a4368a1efa42e43b9f436",
            "5d38854b5ba14411a5cbe56ca3686330",
            "96f272cdc8f7490e80736062ce578297",
            "ab5071a3faa744e2af32a8ba75740db9",
            "42fc1c55428141da93762405545e36d2",
            "af57987353734f93be6a861c4613aa27",
            "1f3d757bfddc419cac6dfb178071653f",
            "79cec6a2985c47c6ba744cde22b0a105",
            "9f99a80706184621b948e46e6ea547fb",
            "d79b8ee2f6fd46edb8a4498c3765c254",
            "51a6f558892c429d8289dbf0e9d2b7c7",
            "de0cf94c65684b44a282c4b0294db1f8",
            "16a7870e3e974ea59a79ea3d0729fafb",
            "64f6e5d80f214e4f9738d6901421652f",
            "a6918339a1244f899363b8f243c9896d",
            "60f94ed7b6a8488dbeedf5ed12c74b3d",
            "e03a9f7079b64b4e9d5c82e9a6d9acca",
            "efeab638bb2c48ac8909cc9693bbb1f4",
            "91b27d49cfe244bd9718e59b98c3dec9",
            "5bebc09af846410d8d465261d31fa99a"
          ]
        },
        "outputId": "a9461090-73aa-450d-d667-f6378f91ab09"
      },
      "execution_count": null,
      "outputs": [
        {
          "output_type": "display_data",
          "data": {
            "text/plain": [
              "  0%|          | 0/7 [00:00<?, ?ba/s]"
            ],
            "application/vnd.jupyter.widget-view+json": {
              "version_major": 2,
              "version_minor": 0,
              "model_id": "e3550dda4af649839923d8144d5ee3c2"
            }
          },
          "metadata": {}
        },
        {
          "output_type": "display_data",
          "data": {
            "text/plain": [
              "  0%|          | 0/2 [00:00<?, ?ba/s]"
            ],
            "application/vnd.jupyter.widget-view+json": {
              "version_major": 2,
              "version_minor": 0,
              "model_id": "28b472d51b994fb98e03848bb9c53ec2"
            }
          },
          "metadata": {}
        },
        {
          "output_type": "display_data",
          "data": {
            "text/plain": [
              "  0%|          | 0/4 [00:00<?, ?ba/s]"
            ],
            "application/vnd.jupyter.widget-view+json": {
              "version_major": 2,
              "version_minor": 0,
              "model_id": "d79b8ee2f6fd46edb8a4498c3765c254"
            }
          },
          "metadata": {}
        }
      ]
    },
    {
      "cell_type": "code",
      "source": [
        "print(tokenized_train)\n",
        "print(tokenized_test)"
      ],
      "metadata": {
        "colab": {
          "base_uri": "https://localhost:8080/"
        },
        "id": "IvX72WCEcs8V",
        "outputId": "6d798842-85e8-46e4-f524-28a3038e77fc"
      },
      "execution_count": null,
      "outputs": [
        {
          "output_type": "stream",
          "name": "stdout",
          "text": [
            "Dataset({\n",
            "    features: ['id', 'keyword', 'location', 'text', 'target', 'label', 'input_ids', 'attention_mask'],\n",
            "    num_rows: 6090\n",
            "})\n",
            "Dataset({\n",
            "    features: ['id', 'keyword', 'location', 'text', 'target', 'target_relabeled', 'input_ids', 'attention_mask'],\n",
            "    num_rows: 3263\n",
            "})\n"
          ]
        }
      ]
    },
    {
      "cell_type": "code",
      "source": [
        "from transformers import DataCollatorWithPadding\n",
        "\n",
        "data_collator = DataCollatorWithPadding(tokenizer = tokenizer, return_tensors='tf')"
      ],
      "metadata": {
        "id": "lMeGKzUebM-o"
      },
      "execution_count": null,
      "outputs": []
    },
    {
      "cell_type": "markdown",
      "source": [
        "# Train"
      ],
      "metadata": {
        "id": "lCgZORLDb6-j"
      }
    },
    {
      "cell_type": "code",
      "source": [
        "tf_train_set = tokenized_train.to_tf_dataset(\n",
        "    batch_size = 16,\n",
        "    columns=['input_ids', 'attention_mask', 'label'],\n",
        "    shuffle = True,\n",
        "    collate_fn = data_collator\n",
        ")\n",
        "\n",
        "tf_val_set = tokenized_val.to_tf_dataset(\n",
        "    batch_size = 16,\n",
        "    columns=['input_ids', 'attention_mask', 'label'],\n",
        "    shuffle = True,\n",
        "    collate_fn = data_collator\n",
        ")\n",
        "\n",
        "tf_test_set = tokenized_test.to_tf_dataset(\n",
        "    batch_size = 16,\n",
        "    columns=['input_ids', 'attention_mask'],\n",
        "    shuffle = False,\n",
        "    collate_fn = data_collator\n",
        ")"
      ],
      "metadata": {
        "colab": {
          "base_uri": "https://localhost:8080/"
        },
        "id": "AycgOH7qboh_",
        "outputId": "1809f0d3-fc62-4dba-8f08-4584bf190693"
      },
      "execution_count": null,
      "outputs": [
        {
          "output_type": "stream",
          "name": "stderr",
          "text": [
            "You're using a DistilBertTokenizerFast tokenizer. Please note that with a fast tokenizer, using the `__call__` method is faster than using a method to encode the text followed by a call to the `pad` method to get a padded encoding.\n"
          ]
        }
      ]
    },
    {
      "cell_type": "code",
      "source": [
        "print(tf_train_set)\n",
        "print(tf_test_set)"
      ],
      "metadata": {
        "colab": {
          "base_uri": "https://localhost:8080/"
        },
        "id": "Q0bCk7aNdu2z",
        "outputId": "32a66f99-9ce9-4a79-aa78-358f2d9b64ac"
      },
      "execution_count": null,
      "outputs": [
        {
          "output_type": "stream",
          "name": "stdout",
          "text": [
            "<PrefetchDataset element_spec={'input_ids': TensorSpec(shape=(None, None), dtype=tf.int64, name=None), 'attention_mask': TensorSpec(shape=(None, None), dtype=tf.int64, name=None), 'labels': TensorSpec(shape=(None,), dtype=tf.float32, name=None)}>\n",
            "<PrefetchDataset element_spec={'input_ids': TensorSpec(shape=(None, None), dtype=tf.int64, name=None), 'attention_mask': TensorSpec(shape=(None, None), dtype=tf.int64, name=None)}>\n"
          ]
        }
      ]
    },
    {
      "cell_type": "code",
      "source": [
        "from transformers import create_optimizer\n",
        "import tensorflow as tf\n",
        "\n",
        "batch_size = 16\n",
        "num_epochs = 3\n",
        "\n",
        "batches_per_epoch = len(tokenized_train) // batch_size\n",
        "total_train_steps = int(batches_per_epoch * num_epochs)\n",
        "optimizer, schedule = create_optimizer(\n",
        "    init_lr=2e-5, \n",
        "    num_train_steps=total_train_steps,\n",
        "    num_warmup_steps=0\n",
        ")"
      ],
      "metadata": {
        "id": "G_b12rOXdxNP"
      },
      "execution_count": null,
      "outputs": []
    },
    {
      "cell_type": "code",
      "source": [
        "from transformers import TFAutoModelForSequenceClassification\n",
        "\n",
        "model = TFAutoModelForSequenceClassification.from_pretrained(checkpoint, num_labels=2)"
      ],
      "metadata": {
        "colab": {
          "base_uri": "https://localhost:8080/",
          "height": 136,
          "referenced_widgets": [
            "3f516500106046879c76ac89482fcfde",
            "1a8eba0c7c3b42a0bc26a900d9e4ae24",
            "f963cc43546644aaad56ccfe4beda445",
            "34fdb3e0115d4b73a4778b035b829f69",
            "be718b736e02424690faafb54350b522",
            "c2bb9237ece441f5887a0a853c4ba401",
            "a7d0d3843b30465e9d339fca540e0226",
            "c5bccc612d044a97bcd9109b0bad5169",
            "93f7e4fc3611442f94977d57394c9291",
            "65620114f4d24812baf15096fc8a09d3",
            "5fbd9c51a1d34b8e978dacb0c82c7791"
          ]
        },
        "id": "Tp9OF0k9fkaM",
        "outputId": "be3ad5f9-42e8-4ae9-d1fc-b27cdea78501"
      },
      "execution_count": null,
      "outputs": [
        {
          "output_type": "display_data",
          "data": {
            "text/plain": [
              "Downloading:   0%|          | 0.00/363M [00:00<?, ?B/s]"
            ],
            "application/vnd.jupyter.widget-view+json": {
              "version_major": 2,
              "version_minor": 0,
              "model_id": "3f516500106046879c76ac89482fcfde"
            }
          },
          "metadata": {}
        },
        {
          "output_type": "stream",
          "name": "stderr",
          "text": [
            "Some layers from the model checkpoint at distilbert-base-uncased were not used when initializing TFDistilBertForSequenceClassification: ['vocab_projector', 'vocab_layer_norm', 'activation_13', 'vocab_transform']\n",
            "- This IS expected if you are initializing TFDistilBertForSequenceClassification from the checkpoint of a model trained on another task or with another architecture (e.g. initializing a BertForSequenceClassification model from a BertForPreTraining model).\n",
            "- This IS NOT expected if you are initializing TFDistilBertForSequenceClassification from the checkpoint of a model that you expect to be exactly identical (initializing a BertForSequenceClassification model from a BertForSequenceClassification model).\n",
            "Some layers of TFDistilBertForSequenceClassification were not initialized from the model checkpoint at distilbert-base-uncased and are newly initialized: ['dropout_19', 'pre_classifier', 'classifier']\n",
            "You should probably TRAIN this model on a down-stream task to be able to use it for predictions and inference.\n"
          ]
        }
      ]
    },
    {
      "cell_type": "code",
      "source": [
        "#!pip install tensorflow_addons\n",
        "#import tensorflow_addons as tfa"
      ],
      "metadata": {
        "id": "sqBCJ9eiiEQJ"
      },
      "execution_count": null,
      "outputs": []
    },
    {
      "cell_type": "code",
      "source": [
        "model.compile(\n",
        "    optimizer=optimizer,\n",
        "    metrics=[\"accuracy\"]\n",
        ")"
      ],
      "metadata": {
        "colab": {
          "base_uri": "https://localhost:8080/"
        },
        "id": "rQrIrCoCf49d",
        "outputId": "ea2084b7-2860-470d-de23-5c60e715d2e5"
      },
      "execution_count": null,
      "outputs": [
        {
          "output_type": "stream",
          "name": "stderr",
          "text": [
            "No loss specified in compile() - the model's internal loss computation will be used as the loss. Don't panic - this is a common way to train TensorFlow models in Transformers! To disable this behaviour please pass a loss argument, or explicitly pass `loss=None` if you do not want your model to compute a loss.\n"
          ]
        }
      ]
    },
    {
      "cell_type": "code",
      "source": [
        "model.fit(x = tf_train_set,\n",
        "          validation_data = tf_val_set,\n",
        "          epochs = num_epochs,\n",
        "          callbacks = [tf.keras.callbacks.EarlyStopping(monitor = 'val_accuracy', patience = 1, restore_best_weights=True)]\n",
        "\n",
        "          )"
      ],
      "metadata": {
        "colab": {
          "base_uri": "https://localhost:8080/"
        },
        "id": "IEcPgavrgXZE",
        "outputId": "eb3b3581-0911-4948-aa0b-d58dfe72147b"
      },
      "execution_count": null,
      "outputs": [
        {
          "output_type": "stream",
          "name": "stdout",
          "text": [
            "Epoch 1/3\n",
            "381/381 [==============================] - 39s 74ms/step - loss: 0.4311 - accuracy: 0.8130 - val_loss: 0.3940 - val_accuracy: 0.8404\n",
            "Epoch 2/3\n",
            "381/381 [==============================] - 27s 70ms/step - loss: 0.3140 - accuracy: 0.8765 - val_loss: 0.4066 - val_accuracy: 0.8293\n"
          ]
        },
        {
          "output_type": "execute_result",
          "data": {
            "text/plain": [
              "<keras.callbacks.History at 0x7f4298072450>"
            ]
          },
          "metadata": {},
          "execution_count": 52
        }
      ]
    },
    {
      "cell_type": "markdown",
      "source": [
        "# retrain using the whole train set"
      ],
      "metadata": {
        "id": "imQYgjWCEXXh"
      }
    },
    {
      "cell_type": "code",
      "source": [
        "train_cleaned = df[:train.shape[0]]\n",
        "train_hf = Dataset.from_pandas(train_cleaned, preserve_index = False)\n",
        "train_hf = train_hf.rename_column('target_relabeled', 'label')\n",
        "tokenized_train = train_hf.map(tokenize_function, batched = True)\n",
        "tf_train_set = tokenized_train.to_tf_dataset(\n",
        "    batch_size = 16,\n",
        "    columns=['input_ids', 'attention_mask', 'label'],\n",
        "    shuffle = True,\n",
        "    collate_fn = data_collator\n",
        ")"
      ],
      "metadata": {
        "colab": {
          "base_uri": "https://localhost:8080/",
          "height": 49,
          "referenced_widgets": [
            "de901697aa17469b810640ba00b1dacf",
            "9d4232506b5a43b4bcf8483179e981af",
            "1ac44d3da67a4d86865ed31b376ecaf0",
            "0f64ea5ca3f243b18b5b6970d16e1aec",
            "4531bb94a16441ad86404c8e330bfeb5",
            "644804109ef043babf24154d17af4dd6",
            "270792de37244e139568a7acac5f4567",
            "c6393c14c9444637a3280dd1f9ef5136",
            "e59d124d95c849edba1b730b85cb54ff",
            "811b0fcbd6ac47a0ba40188ffed2412e",
            "383da4fe85e2433e86cb025762a86d3e"
          ]
        },
        "id": "NMx8VaXcEWly",
        "outputId": "94160af1-058d-4b16-d9fe-9363743c9295"
      },
      "execution_count": null,
      "outputs": [
        {
          "output_type": "display_data",
          "data": {
            "text/plain": [
              "  0%|          | 0/8 [00:00<?, ?ba/s]"
            ],
            "application/vnd.jupyter.widget-view+json": {
              "version_major": 2,
              "version_minor": 0,
              "model_id": "de901697aa17469b810640ba00b1dacf"
            }
          },
          "metadata": {}
        }
      ]
    },
    {
      "cell_type": "code",
      "source": [
        "model = TFAutoModelForSequenceClassification.from_pretrained(checkpoint, num_labels=2)"
      ],
      "metadata": {
        "colab": {
          "base_uri": "https://localhost:8080/"
        },
        "id": "KkDb9KXAFTPs",
        "outputId": "1999b755-59c2-41b1-cdc1-29245d65217a"
      },
      "execution_count": null,
      "outputs": [
        {
          "output_type": "stream",
          "name": "stderr",
          "text": [
            "Some layers from the model checkpoint at distilbert-base-uncased were not used when initializing TFDistilBertForSequenceClassification: ['vocab_projector', 'vocab_layer_norm', 'activation_13', 'vocab_transform']\n",
            "- This IS expected if you are initializing TFDistilBertForSequenceClassification from the checkpoint of a model trained on another task or with another architecture (e.g. initializing a BertForSequenceClassification model from a BertForPreTraining model).\n",
            "- This IS NOT expected if you are initializing TFDistilBertForSequenceClassification from the checkpoint of a model that you expect to be exactly identical (initializing a BertForSequenceClassification model from a BertForSequenceClassification model).\n",
            "Some layers of TFDistilBertForSequenceClassification were not initialized from the model checkpoint at distilbert-base-uncased and are newly initialized: ['pre_classifier', 'dropout_39', 'classifier']\n",
            "You should probably TRAIN this model on a down-stream task to be able to use it for predictions and inference.\n"
          ]
        }
      ]
    },
    {
      "cell_type": "code",
      "source": [
        "batch_size = 16\n",
        "num_epochs = 1\n",
        "\n",
        "batches_per_epoch = len(tokenized_train) // batch_size\n",
        "total_train_steps = int(batches_per_epoch * num_epochs)\n",
        "optimizer, schedule = create_optimizer(\n",
        "    init_lr=2e-5, \n",
        "    num_train_steps=total_train_steps,\n",
        "    num_warmup_steps=0\n",
        ")"
      ],
      "metadata": {
        "id": "-NWSie_dFkez"
      },
      "execution_count": null,
      "outputs": []
    },
    {
      "cell_type": "code",
      "source": [
        "model.compile(\n",
        "    optimizer=optimizer,\n",
        "    metrics=[\"accuracy\"]\n",
        ")\n",
        "\n",
        "model.fit(x = tf_train_set,\n",
        "          validation_data = tf_val_set,\n",
        "          epochs = num_epochs\n",
        "          )"
      ],
      "metadata": {
        "colab": {
          "base_uri": "https://localhost:8080/"
        },
        "id": "pAgLVHoeFnGS",
        "outputId": "274104ed-8edd-490d-8d2d-2eaa5160cf41"
      },
      "execution_count": null,
      "outputs": [
        {
          "output_type": "stream",
          "name": "stderr",
          "text": [
            "No loss specified in compile() - the model's internal loss computation will be used as the loss. Don't panic - this is a common way to train TensorFlow models in Transformers! To disable this behaviour please pass a loss argument, or explicitly pass `loss=None` if you do not want your model to compute a loss.\n"
          ]
        },
        {
          "output_type": "stream",
          "name": "stdout",
          "text": [
            "476/476 [==============================] - 41s 71ms/step - loss: 0.4282 - accuracy: 0.8145 - val_loss: 0.3344 - val_accuracy: 0.8746\n"
          ]
        },
        {
          "output_type": "execute_result",
          "data": {
            "text/plain": [
              "<keras.callbacks.History at 0x7f41d0e2f8d0>"
            ]
          },
          "metadata": {},
          "execution_count": 56
        }
      ]
    },
    {
      "cell_type": "markdown",
      "source": [
        "# Predict"
      ],
      "metadata": {
        "id": "uuwb8zwm9z9m"
      }
    },
    {
      "cell_type": "code",
      "source": [
        "results = model.predict(x = tf_test_set, use_multiprocessing=True)"
      ],
      "metadata": {
        "id": "Rmsznb_yia0h"
      },
      "execution_count": null,
      "outputs": []
    },
    {
      "cell_type": "code",
      "source": [
        "probs = tf.nn.softmax(results.logits)\n",
        "preds = tf.argmax(probs, axis = -1)\n",
        "preds"
      ],
      "metadata": {
        "colab": {
          "base_uri": "https://localhost:8080/"
        },
        "id": "WCiZFu48-bgm",
        "outputId": "aa5e15ff-16d3-47d5-c9dd-81412397dd29"
      },
      "execution_count": null,
      "outputs": [
        {
          "output_type": "execute_result",
          "data": {
            "text/plain": [
              "<tf.Tensor: shape=(3263,), dtype=int64, numpy=array([1, 1, 1, ..., 1, 1, 0])>"
            ]
          },
          "metadata": {},
          "execution_count": 58
        }
      ]
    },
    {
      "cell_type": "code",
      "source": [
        "print(np.sum(preds)/ len(preds))\n",
        "print(np.sum(train['target'])/ len(train))"
      ],
      "metadata": {
        "colab": {
          "base_uri": "https://localhost:8080/"
        },
        "id": "w7dor1QG-d_V",
        "outputId": "311ba947-9465-4f04-80a7-31400cb770d5"
      },
      "execution_count": null,
      "outputs": [
        {
          "output_type": "stream",
          "name": "stdout",
          "text": [
            "0.37205026049647566\n",
            "0.4296597924602653\n"
          ]
        }
      ]
    },
    {
      "cell_type": "code",
      "source": [
        "sample_submission = pd.read_csv(path + 'data/sample_submission.csv')\n",
        "sample_submission['target'] = preds"
      ],
      "metadata": {
        "id": "T6vH5ZZB_BS3"
      },
      "execution_count": null,
      "outputs": []
    },
    {
      "cell_type": "code",
      "source": [
        "sample_submission.to_csv(path +'submission/V5_attach_keyword_to_text.csv', index=False)"
      ],
      "metadata": {
        "id": "8BFNjXH9_lLr"
      },
      "execution_count": null,
      "outputs": []
    },
    {
      "cell_type": "code",
      "source": [],
      "metadata": {
        "id": "p23LfYaQAbOe"
      },
      "execution_count": null,
      "outputs": []
    }
  ]
}