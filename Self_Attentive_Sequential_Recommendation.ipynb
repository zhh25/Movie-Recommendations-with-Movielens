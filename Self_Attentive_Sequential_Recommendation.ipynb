{
  "nbformat": 4,
  "nbformat_minor": 0,
  "metadata": {
    "colab": {
      "provenance": [],
      "gpuType": "T4",
      "toc_visible": true,
      "mount_file_id": "1ZaiHhYoUjYC3Zfpx5A_Jndvpr7a4h1uJ",
      "authorship_tag": "ABX9TyNHyJB1kh+17pnt/aRoBu11"
    },
    "kernelspec": {
      "name": "python3",
      "display_name": "Python 3"
    },
    "language_info": {
      "name": "python"
    },
    "gpuClass": "standard",
    "accelerator": "GPU"
  },
  "cells": [
    {
      "cell_type": "code",
      "source": [
        "! pip install -q tensorflow-recommenders"
      ],
      "metadata": {
        "id": "UYJf1mywtVhW",
        "colab": {
          "base_uri": "https://localhost:8080/"
        },
        "outputId": "11cc7862-d208-4228-c833-ed512083fc90"
      },
      "execution_count": null,
      "outputs": [
        {
          "output_type": "stream",
          "name": "stdout",
          "text": [
            "\u001b[?25l     \u001b[90m━━━━━━━━━━━━━━━━━━━━━━━━━━━━━━━━━━━━━━━━\u001b[0m \u001b[32m0.0/96.2 kB\u001b[0m \u001b[31m?\u001b[0m eta \u001b[36m-:--:--\u001b[0m\r\u001b[2K     \u001b[90m━━━━━━━━━━━━━━━━━━━━━━━━━━━━━━━━━━━━━━━━\u001b[0m \u001b[32m96.2/96.2 kB\u001b[0m \u001b[31m7.1 MB/s\u001b[0m eta \u001b[36m0:00:00\u001b[0m\n",
            "\u001b[?25h"
          ]
        }
      ]
    },
    {
      "cell_type": "code",
      "execution_count": null,
      "metadata": {
        "id": "r5qTF8A_aijm"
      },
      "outputs": [],
      "source": [
        "import pprint\n",
        "\n",
        "import pandas as pd\n",
        "import numpy as np\n",
        "import tensorflow as tf\n",
        "import tensorflow_datasets as tfds\n",
        "import tensorflow_recommenders as tfrs\n",
        "\n",
        "from collections import defaultdict\n",
        "from tqdm import tqdm\n",
        "import random"
      ]
    },
    {
      "cell_type": "code",
      "source": [
        "folder_path = \"/content/drive/MyDrive/Movie Recommendations with Movielens/data/\""
      ],
      "metadata": {
        "id": "RLogwCyngNGC"
      },
      "execution_count": null,
      "outputs": []
    },
    {
      "cell_type": "code",
      "source": [
        "maxlen = 50\n",
        "batch_size = 4096\n",
        "embedding_dimension = 32\n",
        "\n",
        "num_heads = 1\n",
        "ffn_hidden_unit = 64\n",
        "dropout = 0.5\n",
        "use_causal_mask = False\n",
        "blocks = 2\n",
        "learning_rate = 0.001\n",
        "epoch = 100\n"
      ],
      "metadata": {
        "id": "qaSHOMG4yfn5"
      },
      "execution_count": null,
      "outputs": []
    },
    {
      "cell_type": "markdown",
      "source": [
        "In this project, I impliment the model proposed in paper [Self-Attentive Sequential Recommendaiton](https://arxiv.org/pdf/1808.09781.pdf).\n",
        "\n",
        "The dataset is collected from the movie-recommendation service MovieLens. Created by 138,493 users, the Movielens data set includes over 20 million ratings and 460,000+ tags for 27,278 movies. \n",
        "\n",
        "Kaggle data set: [MovieLens 20M Dataset](https://www.kaggle.com/datasets/grouplens/movielens-20m-dataset?resource=download)"
      ],
      "metadata": {
        "id": "HTRZ0HtCua_T"
      }
    },
    {
      "cell_type": "markdown",
      "source": [
        "\n",
        "# 1. Data Preprocess\n"
      ],
      "metadata": {
        "id": "e8zwsOMS1UG5"
      }
    },
    {
      "cell_type": "markdown",
      "source": [
        "### 1.1 Filter\n",
        "I only include movies with at least 5 ratings(watchs). And I only include recodes with rating >= 2, in other words, only include watch history that the user enjoy.  \n",
        "\n",
        "We end up with about 18M records."
      ],
      "metadata": {
        "id": "IEGsCpr3iToE"
      }
    },
    {
      "cell_type": "code",
      "source": [
        "ratings = pd.read_csv('/content/drive/MyDrive/Movie Recommendations with Movielens/rating.csv',\n",
        "                      #usecols = ['userId', 'movieId', 'timestamp'],\n",
        "                      #dtype = {'movieId': str, 'userId': str},\n",
        "                      #nrows = 1000000\n",
        "                    )"
      ],
      "metadata": {
        "id": "kB_kyJP81cfW"
      },
      "execution_count": null,
      "outputs": []
    },
    {
      "cell_type": "code",
      "source": [
        "ratings.head()"
      ],
      "metadata": {
        "colab": {
          "base_uri": "https://localhost:8080/"
        },
        "id": "PyIF0uCK10nZ",
        "outputId": "3dd1ce8a-f515-473b-c7a6-3866ab58fd94"
      },
      "execution_count": null,
      "outputs": [
        {
          "output_type": "execute_result",
          "data": {
            "text/plain": [
              "   userId  movieId  rating            timestamp\n",
              "0       1        2     3.5  2005-04-02 23:53:47\n",
              "1       1       29     3.5  2005-04-02 23:31:16\n",
              "2       1       32     3.5  2005-04-02 23:33:39\n",
              "3       1       47     3.5  2005-04-02 23:32:07\n",
              "4       1       50     3.5  2005-04-02 23:29:40"
            ],
            "text/html": [
              "\n",
              "  <div id=\"df-e7fdec5e-fd01-4300-82e1-fd5f279ba702\">\n",
              "    <div class=\"colab-df-container\">\n",
              "      <div>\n",
              "<style scoped>\n",
              "    .dataframe tbody tr th:only-of-type {\n",
              "        vertical-align: middle;\n",
              "    }\n",
              "\n",
              "    .dataframe tbody tr th {\n",
              "        vertical-align: top;\n",
              "    }\n",
              "\n",
              "    .dataframe thead th {\n",
              "        text-align: right;\n",
              "    }\n",
              "</style>\n",
              "<table border=\"1\" class=\"dataframe\">\n",
              "  <thead>\n",
              "    <tr style=\"text-align: right;\">\n",
              "      <th></th>\n",
              "      <th>userId</th>\n",
              "      <th>movieId</th>\n",
              "      <th>rating</th>\n",
              "      <th>timestamp</th>\n",
              "    </tr>\n",
              "  </thead>\n",
              "  <tbody>\n",
              "    <tr>\n",
              "      <th>0</th>\n",
              "      <td>1</td>\n",
              "      <td>2</td>\n",
              "      <td>3.5</td>\n",
              "      <td>2005-04-02 23:53:47</td>\n",
              "    </tr>\n",
              "    <tr>\n",
              "      <th>1</th>\n",
              "      <td>1</td>\n",
              "      <td>29</td>\n",
              "      <td>3.5</td>\n",
              "      <td>2005-04-02 23:31:16</td>\n",
              "    </tr>\n",
              "    <tr>\n",
              "      <th>2</th>\n",
              "      <td>1</td>\n",
              "      <td>32</td>\n",
              "      <td>3.5</td>\n",
              "      <td>2005-04-02 23:33:39</td>\n",
              "    </tr>\n",
              "    <tr>\n",
              "      <th>3</th>\n",
              "      <td>1</td>\n",
              "      <td>47</td>\n",
              "      <td>3.5</td>\n",
              "      <td>2005-04-02 23:32:07</td>\n",
              "    </tr>\n",
              "    <tr>\n",
              "      <th>4</th>\n",
              "      <td>1</td>\n",
              "      <td>50</td>\n",
              "      <td>3.5</td>\n",
              "      <td>2005-04-02 23:29:40</td>\n",
              "    </tr>\n",
              "  </tbody>\n",
              "</table>\n",
              "</div>\n",
              "      <button class=\"colab-df-convert\" onclick=\"convertToInteractive('df-e7fdec5e-fd01-4300-82e1-fd5f279ba702')\"\n",
              "              title=\"Convert this dataframe to an interactive table.\"\n",
              "              style=\"display:none;\">\n",
              "        \n",
              "  <svg xmlns=\"http://www.w3.org/2000/svg\" height=\"24px\"viewBox=\"0 0 24 24\"\n",
              "       width=\"24px\">\n",
              "    <path d=\"M0 0h24v24H0V0z\" fill=\"none\"/>\n",
              "    <path d=\"M18.56 5.44l.94 2.06.94-2.06 2.06-.94-2.06-.94-.94-2.06-.94 2.06-2.06.94zm-11 1L8.5 8.5l.94-2.06 2.06-.94-2.06-.94L8.5 2.5l-.94 2.06-2.06.94zm10 10l.94 2.06.94-2.06 2.06-.94-2.06-.94-.94-2.06-.94 2.06-2.06.94z\"/><path d=\"M17.41 7.96l-1.37-1.37c-.4-.4-.92-.59-1.43-.59-.52 0-1.04.2-1.43.59L10.3 9.45l-7.72 7.72c-.78.78-.78 2.05 0 2.83L4 21.41c.39.39.9.59 1.41.59.51 0 1.02-.2 1.41-.59l7.78-7.78 2.81-2.81c.8-.78.8-2.07 0-2.86zM5.41 20L4 18.59l7.72-7.72 1.47 1.35L5.41 20z\"/>\n",
              "  </svg>\n",
              "      </button>\n",
              "      \n",
              "  <style>\n",
              "    .colab-df-container {\n",
              "      display:flex;\n",
              "      flex-wrap:wrap;\n",
              "      gap: 12px;\n",
              "    }\n",
              "\n",
              "    .colab-df-convert {\n",
              "      background-color: #E8F0FE;\n",
              "      border: none;\n",
              "      border-radius: 50%;\n",
              "      cursor: pointer;\n",
              "      display: none;\n",
              "      fill: #1967D2;\n",
              "      height: 32px;\n",
              "      padding: 0 0 0 0;\n",
              "      width: 32px;\n",
              "    }\n",
              "\n",
              "    .colab-df-convert:hover {\n",
              "      background-color: #E2EBFA;\n",
              "      box-shadow: 0px 1px 2px rgba(60, 64, 67, 0.3), 0px 1px 3px 1px rgba(60, 64, 67, 0.15);\n",
              "      fill: #174EA6;\n",
              "    }\n",
              "\n",
              "    [theme=dark] .colab-df-convert {\n",
              "      background-color: #3B4455;\n",
              "      fill: #D2E3FC;\n",
              "    }\n",
              "\n",
              "    [theme=dark] .colab-df-convert:hover {\n",
              "      background-color: #434B5C;\n",
              "      box-shadow: 0px 1px 3px 1px rgba(0, 0, 0, 0.15);\n",
              "      filter: drop-shadow(0px 1px 2px rgba(0, 0, 0, 0.3));\n",
              "      fill: #FFFFFF;\n",
              "    }\n",
              "  </style>\n",
              "\n",
              "      <script>\n",
              "        const buttonEl =\n",
              "          document.querySelector('#df-e7fdec5e-fd01-4300-82e1-fd5f279ba702 button.colab-df-convert');\n",
              "        buttonEl.style.display =\n",
              "          google.colab.kernel.accessAllowed ? 'block' : 'none';\n",
              "\n",
              "        async function convertToInteractive(key) {\n",
              "          const element = document.querySelector('#df-e7fdec5e-fd01-4300-82e1-fd5f279ba702');\n",
              "          const dataTable =\n",
              "            await google.colab.kernel.invokeFunction('convertToInteractive',\n",
              "                                                     [key], {});\n",
              "          if (!dataTable) return;\n",
              "\n",
              "          const docLinkHtml = 'Like what you see? Visit the ' +\n",
              "            '<a target=\"_blank\" href=https://colab.research.google.com/notebooks/data_table.ipynb>data table notebook</a>'\n",
              "            + ' to learn more about interactive tables.';\n",
              "          element.innerHTML = '';\n",
              "          dataTable['output_type'] = 'display_data';\n",
              "          await google.colab.output.renderOutput(dataTable, element);\n",
              "          const docLink = document.createElement('div');\n",
              "          docLink.innerHTML = docLinkHtml;\n",
              "          element.appendChild(docLink);\n",
              "        }\n",
              "      </script>\n",
              "    </div>\n",
              "  </div>\n",
              "  "
            ]
          },
          "metadata": {},
          "execution_count": 3
        }
      ]
    },
    {
      "cell_type": "code",
      "source": [
        "ratings['movie_count'] = ratings.groupby('movieId')['movieId'].transform('count')\n",
        "# \n",
        "ratings = ratings[ratings.movie_count >= 5]\n",
        "# only include recodes with rating >= 2 \n",
        "# in other words, only include watch history that the user enjoy\n",
        "ratings = ratings[ratings.rating >= 2]\n",
        "ratings = ratings.sort_values(by=['userId', 'timestamp'])"
      ],
      "metadata": {
        "id": "NCRuIENx2BdZ"
      },
      "execution_count": null,
      "outputs": []
    },
    {
      "cell_type": "code",
      "source": [
        "ratings.info()"
      ],
      "metadata": {
        "colab": {
          "base_uri": "https://localhost:8080/"
        },
        "id": "hZyMXx4UFth-",
        "outputId": "61f203fc-0d7c-4b69-b39f-be6e87e632f7"
      },
      "execution_count": null,
      "outputs": [
        {
          "output_type": "stream",
          "name": "stdout",
          "text": [
            "<class 'pandas.core.frame.DataFrame'>\n",
            "Int64Index: 18786848 entries, 20 to 19999916\n",
            "Data columns (total 5 columns):\n",
            " #   Column       Dtype  \n",
            "---  ------       -----  \n",
            " 0   userId       int64  \n",
            " 1   movieId      int64  \n",
            " 2   rating       float64\n",
            " 3   timestamp    object \n",
            " 4   movie_count  int64  \n",
            "dtypes: float64(1), int64(3), object(1)\n",
            "memory usage: 860.0+ MB\n"
          ]
        }
      ]
    },
    {
      "cell_type": "code",
      "source": [
        "#folder_path = \"/content/drive/MyDrive/Movie Recommendations with Movielens/\"\n",
        "ratings.to_csv(folder_path + 'rating_filtered.csv', index = False)"
      ],
      "metadata": {
        "id": "z0aS6c9XZ7Ey"
      },
      "execution_count": null,
      "outputs": []
    },
    {
      "cell_type": "markdown",
      "source": [
        "### 1.2 Train and Test Split\n",
        "We split the historical sequence for each user in to three parts:\n",
        "1.   the most recent action for testing\n",
        "2.   the second most recent action fro validation\n",
        "3.   all remaining actions for training\n",
        "\n"
      ],
      "metadata": {
        "id": "1FJmU3RmGbCx"
      }
    },
    {
      "cell_type": "code",
      "source": [
        "#folder_path = \"/content/drive/MyDrive/Movie Recommendations with Movielens/\"\n",
        "ratings = pd.read_csv(folder_path + 'rating_filtered.csv',\n",
        "                      usecols = ['userId', 'movieId'],\n",
        "                      dtype = {'movieId': str, 'userId': str},\n",
        "                      )"
      ],
      "metadata": {
        "id": "Uld3ZRZhb8tA"
      },
      "execution_count": null,
      "outputs": []
    },
    {
      "cell_type": "code",
      "source": [
        "train_data, val_data, test_data = defaultdict(list), defaultdict(list), defaultdict(list)"
      ],
      "metadata": {
        "id": "ZfHFgWKG8iGA"
      },
      "execution_count": null,
      "outputs": []
    },
    {
      "cell_type": "code",
      "source": [
        "for userId, df in tqdm(ratings[['userId', 'movieId']].groupby('userId')):\n",
        "    pos_list = df['movieId'].tolist()\n",
        "\n",
        "    for i in range(1, len(pos_list)):\n",
        "        hist_i = pos_list[max(0,i-maxlen):i]\n",
        "        if i == len(pos_list) - 1:\n",
        "            test_data['hist'].append(hist_i)\n",
        "            test_data['pos_id'].append(pos_list[i])       \n",
        "        elif i == len(pos_list) - 2:\n",
        "            val_data['hist'].append(hist_i)\n",
        "            val_data['pos_id'].append(pos_list[i])\n",
        "        else:\n",
        "        #if i < len(pos_list) - 2:\n",
        "            train_data['hist'].append(hist_i)\n",
        "            train_data['pos_id'].append(pos_list[i])\n",
        "            \n",
        "       \n"
      ],
      "metadata": {
        "colab": {
          "base_uri": "https://localhost:8080/"
        },
        "id": "T5faepv387-V",
        "outputId": "43bd6e36-9d2b-40e6-cd25-96114cac0a28"
      },
      "execution_count": null,
      "outputs": [
        {
          "output_type": "stream",
          "name": "stderr",
          "text": [
            "100%|██████████| 138469/138469 [01:23<00:00, 1659.09it/s]\n"
          ]
        }
      ]
    },
    {
      "cell_type": "code",
      "source": [
        "print(train_data['hist'][0:5])\n",
        "print(train_data['pos_id'][:5])"
      ],
      "metadata": {
        "colab": {
          "base_uri": "https://localhost:8080/"
        },
        "id": "_WMbXbFgCY_o",
        "outputId": "c30fe008-53e9-483b-e169-fe6ec5bbb696"
      },
      "execution_count": null,
      "outputs": [
        {
          "output_type": "stream",
          "name": "stdout",
          "text": [
            "[['924'], ['924', '919'], ['924', '919', '2683'], ['924', '919', '2683', '1584'], ['924', '919', '2683', '1584', '1079']]\n",
            "['919', '2683', '1584', '1079', '653']\n"
          ]
        }
      ]
    },
    {
      "cell_type": "code",
      "source": [
        "test_df = pd.DataFrame(test_data)\n",
        "test_df['hist'] = test_df['hist'].apply(lambda x: ','.join([id for id in x]))\n",
        "test_df.to_csv(folder_path + 'test_SASRec.csv', index = False, sep='|' )\n"
      ],
      "metadata": {
        "id": "VKqnghhUigvM"
      },
      "execution_count": null,
      "outputs": []
    },
    {
      "cell_type": "code",
      "source": [
        "val_df = pd.DataFrame(val_data)\n",
        "val_df['hist'] = val_df['hist'].apply(lambda x: ','.join([id for id in x]))\n",
        "val_df.to_csv(folder_path + 'val_SASRec.csv', index = False, sep='|' )"
      ],
      "metadata": {
        "id": "80A7f-uBjTWv"
      },
      "execution_count": null,
      "outputs": []
    },
    {
      "cell_type": "code",
      "source": [
        "train_df = pd.DataFrame(train_data)\n",
        "train_df['hist'] = train_df['hist'].apply(lambda x: ','.join([id for id in x]))\n",
        "train_df.to_csv(folder_path + 'train_SASRec.csv', index = False, sep='|' )"
      ],
      "metadata": {
        "id": "J0PHemql0esi"
      },
      "execution_count": null,
      "outputs": []
    },
    {
      "cell_type": "markdown",
      "source": [
        "### 1.3 Create tf.data.Dataset for training and evaluation"
      ],
      "metadata": {
        "id": "PFX-1b-JH1W2"
      }
    },
    {
      "cell_type": "markdown",
      "source": [
        "If you want to put padding before each row (rather than after), then you can't currently do that with RaggedTensor.to_tensor. But you can write a fairly [simple function](https://github.com/tensorflow/tensorflow/issues/34793) to do it: \n"
      ],
      "metadata": {
        "id": "3FF30NsJ0EkN"
      }
    },
    {
      "cell_type": "code",
      "source": [
        "def get_dataset_from_csv(csv_file_path, shuffle=False, batch_size=batch_size, maxlen = maxlen):\n",
        "        \n",
        "    def left_pad_2d_ragged(rt, width = maxlen):\n",
        "        #rt = rt[-width:]  # Truncate rows to have at most `width` items\n",
        "        pad_row_lengths = width - rt.row_lengths()\n",
        "        pad_values = tf.zeros([(width * rt.nrows()) - tf.size(rt, tf.int64)], rt.dtype)\n",
        "        padding = tf.RaggedTensor.from_row_lengths(pad_values, pad_row_lengths)\n",
        "        return tf.concat([padding, rt], axis=1).to_tensor()\n",
        "\n",
        "    def process(features):\n",
        "        features[\"hist\"] = tf.strings.split(features[\"hist\"], \",\")#.to_tensor(shape = [None, maxlen])\n",
        "        features['hist'] = left_pad_2d_ragged(features['hist'], width = maxlen)\n",
        "    \n",
        "        return features\n",
        "\n",
        "\n",
        "    dataset = tf.data.experimental.make_csv_dataset(\n",
        "        csv_file_path,\n",
        "        batch_size=batch_size,\n",
        "        num_epochs=1,\n",
        "        header=True,\n",
        "        field_delim=\"|\",\n",
        "        shuffle=shuffle,\n",
        "        column_defaults = ['string', 'string'],\n",
        "    ).map(process)\n",
        "\n",
        "    return dataset"
      ],
      "metadata": {
        "id": "XW3XvHtNH5Fm"
      },
      "execution_count": null,
      "outputs": []
    },
    {
      "cell_type": "code",
      "source": [
        "train_dataset = get_dataset_from_csv(folder_path + 'train_SASRec.csv',\n",
        "                                     shuffle=True, batch_size=batch_size)\n",
        "val_dataset = get_dataset_from_csv(folder_path + 'val_SASRec.csv',\n",
        "                                     shuffle=False, batch_size=batch_size)\n",
        "test_dataset = get_dataset_from_csv(folder_path + 'test_SASRec.csv',\n",
        "                                     shuffle=False, batch_size=batch_size)\n",
        "#drop the last batch\n",
        "train_dataset = train_dataset.rebatch(batch_size, drop_remainder=True)\n",
        "val_dataset = val_dataset.rebatch(batch_size, drop_remainder=True)\n",
        "test_dataset = test_dataset.rebatch(batch_size, drop_remainder=True)"
      ],
      "metadata": {
        "id": "oUe7KqP0K2RZ"
      },
      "execution_count": null,
      "outputs": []
    },
    {
      "cell_type": "code",
      "source": [
        "for sample_data in train_dataset.take(1):#.as_numpy_iterator():\n",
        "    break\n",
        "\n",
        "print(sample_data['hist'].shape)\n",
        "print(sample_data['pos_id'].shape)\n",
        "    "
      ],
      "metadata": {
        "colab": {
          "base_uri": "https://localhost:8080/"
        },
        "id": "YZTIftfHN6iF",
        "outputId": "bb841444-9d7a-46d8-c1a1-06e245733e9f"
      },
      "execution_count": null,
      "outputs": [
        {
          "output_type": "stream",
          "name": "stdout",
          "text": [
            "(4096, 50)\n",
            "(4096,)\n"
          ]
        }
      ]
    },
    {
      "cell_type": "code",
      "source": [
        "sample_data['hist']"
      ],
      "metadata": {
        "colab": {
          "base_uri": "https://localhost:8080/"
        },
        "id": "i5ztMljlzGo2",
        "outputId": "83e42c8d-8371-4c3b-c372-eb463cca2b99"
      },
      "execution_count": null,
      "outputs": [
        {
          "output_type": "execute_result",
          "data": {
            "text/plain": [
              "<tf.Tensor: shape=(4096, 50), dtype=string, numpy=\n",
              "array([[b'2320', b'3638', b'2710', ..., b'1306', b'1573', b'1676'],\n",
              "       [b'', b'', b'', ..., b'', b'', b'2355'],\n",
              "       [b'', b'', b'', ..., b'349', b'356', b'595'],\n",
              "       ...,\n",
              "       [b'', b'', b'', ..., b'2959', b'60684', b'44191'],\n",
              "       [b'922', b'6620', b'539', ..., b'1172', b'27721', b'39435'],\n",
              "       [b'3994', b'4025', b'3952', ..., b'6', b'25', b'36']], dtype=object)>"
            ]
          },
          "metadata": {},
          "execution_count": 8
        }
      ]
    },
    {
      "cell_type": "code",
      "source": [
        "# choose the row which is padded on the left\n",
        "id = -3"
      ],
      "metadata": {
        "id": "7koNahaEwxne"
      },
      "execution_count": null,
      "outputs": []
    },
    {
      "cell_type": "markdown",
      "source": [
        "### 1.4. MovieId Vocabulary"
      ],
      "metadata": {
        "id": "wg85PQkJOMsF"
      }
    },
    {
      "cell_type": "code",
      "source": [
        "movies = pd.read_csv(\n",
        "    folder_path + 'movie.csv',\n",
        "    dtype = {'movieId': str},\n",
        "    usecols = ['movieId'],\n",
        ")\n",
        "\n",
        "movieId_vocab =  list(movies.movieId.unique())"
      ],
      "metadata": {
        "id": "KyQgpWXdOBBn"
      },
      "execution_count": null,
      "outputs": []
    },
    {
      "cell_type": "markdown",
      "source": [
        "#2. Query Model"
      ],
      "metadata": {
        "id": "WyFNa_tA1Ru4"
      }
    },
    {
      "cell_type": "code",
      "source": [
        "from tensorflow.keras import Sequential, layers, callbacks, utils"
      ],
      "metadata": {
        "id": "dwgDfcDH5G4d"
      },
      "execution_count": null,
      "outputs": []
    },
    {
      "cell_type": "markdown",
      "source": [
        "###2.1 Embedding and positional embedding layer\n",
        "we will use the same movies Id lookup and embedding layers in both query model and item model."
      ],
      "metadata": {
        "id": "Zbp75wKL8j8b"
      }
    },
    {
      "cell_type": "code",
      "source": [
        "movieId_lookup = layers.StringLookup(\n",
        "    vocabulary = movieId_vocab,\n",
        "    )\n",
        "\n",
        "# about masking https://www.tensorflow.org/guide/keras/masking_and_padding\n",
        "movieId_embedding = layers.Embedding(\n",
        "    input_dim = len(movieId_vocab) + 1,\n",
        "    output_dim = embedding_dimension,\n",
        "    mask_zero = True,\n",
        ")"
      ],
      "metadata": {
        "id": "eBaJzLz5QdsT"
      },
      "execution_count": null,
      "outputs": []
    },
    {
      "cell_type": "code",
      "source": [
        "movieId_lookup(sample_data['hist'])"
      ],
      "metadata": {
        "colab": {
          "base_uri": "https://localhost:8080/"
        },
        "id": "-X433n5Sahbc",
        "outputId": "b1839e46-943b-4a35-98d2-59b2f2c510d8"
      },
      "execution_count": null,
      "outputs": [
        {
          "output_type": "execute_result",
          "data": {
            "text/plain": [
              "<tf.Tensor: shape=(4096, 50), dtype=int64, numpy=\n",
              "array([[ 2236,  3548,  2625, ...,  1278,  1523,  1620],\n",
              "       [    0,     0,     0, ...,     0,     0,  2271],\n",
              "       [    0,     0,     0, ...,   346,   353,   590],\n",
              "       ...,\n",
              "       [    0,     0,     0, ...,  2874, 12857, 10887],\n",
              "       [  906,  6511,   536, ...,  1150,  9446, 10523],\n",
              "       [ 3901,  3932,  3859, ...,     6,    25,    36]])>"
            ]
          },
          "metadata": {},
          "execution_count": 13
        }
      ]
    },
    {
      "cell_type": "code",
      "source": [
        "class PositionalEmbedding(tf.keras.layers.Layer):\n",
        "    def __init__(self, movieId_lookup, movieId_embedding, maxlen, embedding_dimension):\n",
        "        super().__init__()\n",
        "        self.maxlen = maxlen\n",
        "        self.movieId_lookup = movieId_lookup\n",
        "        self.movieId_embedding = movieId_embedding\n",
        "        self.pos_embedding = layers.Embedding(input_dim = maxlen, output_dim = embedding_dimension)\n",
        "\n",
        "    def call(self, x):\n",
        "        x = self.movieId_lookup(x)\n",
        "        x = self.movieId_embedding(x)\n",
        "        mask = x._keras_mask\n",
        "        mask1 = tf.expand_dims(mask, axis = 2) # [:, :, None]\n",
        "        mask2 = tf.expand_dims(mask, axis = 1) # [:, None, :]\n",
        "        attention_mask = mask1 & mask2 #[:,:,:]\n",
        "        mask = tf.expand_dims(tf.cast(mask, tf.float32), axis = -1)\n",
        "        x = x + tf.expand_dims(self.pos_embedding(tf.range(self.maxlen)), axis = 0)\n",
        "        #x = x * mask\n",
        "        return x, mask, attention_mask"
      ],
      "metadata": {
        "id": "LieBNqi47fH-"
      },
      "execution_count": null,
      "outputs": []
    },
    {
      "cell_type": "code",
      "source": [
        "embed_hist, mask, attention_mask = PositionalEmbedding(movieId_lookup, movieId_embedding, maxlen, embedding_dimension)(sample_data['hist'])\n",
        "\n",
        "print(embed_hist.shape)\n",
        "\n",
        "print(mask.shape)\n",
        "\n",
        "print(attention_mask.shape)\n",
        "attention_mask[id]\n",
        "#embed_hist * mask"
      ],
      "metadata": {
        "colab": {
          "base_uri": "https://localhost:8080/"
        },
        "id": "yQ61rDOsD488",
        "outputId": "e7eca1ea-fa59-4f83-c1c9-adc7ba8a0766"
      },
      "execution_count": null,
      "outputs": [
        {
          "output_type": "stream",
          "name": "stdout",
          "text": [
            "(4096, 50, 32)\n",
            "(4096, 50, 1)\n",
            "(4096, 50, 50)\n"
          ]
        },
        {
          "output_type": "execute_result",
          "data": {
            "text/plain": [
              "<tf.Tensor: shape=(50, 50), dtype=bool, numpy=\n",
              "array([[False, False, False, ..., False, False, False],\n",
              "       [False, False, False, ..., False, False, False],\n",
              "       [False, False, False, ..., False, False, False],\n",
              "       ...,\n",
              "       [False, False, False, ...,  True,  True,  True],\n",
              "       [False, False, False, ...,  True,  True,  True],\n",
              "       [False, False, False, ...,  True,  True,  True]])>"
            ]
          },
          "metadata": {},
          "execution_count": 15
        }
      ]
    },
    {
      "cell_type": "markdown",
      "source": [
        "###2.2 Attention block"
      ],
      "metadata": {
        "id": "oUvTyaWvq8RB"
      }
    },
    {
      "cell_type": "code",
      "source": [
        "class AttentionBlock(tf.keras.layers.Layer):\n",
        "    def __init__(self, num_heads, embedding_dimension, dropout):\n",
        "        super().__init__()\n",
        "        self.mha = layers.MultiHeadAttention(num_heads=num_heads, key_dim=embedding_dimension)\n",
        "        self.layernorm = layers.LayerNormalization()\n",
        "        self.add = layers.Add()\n",
        "        self.dropout = layers.Dropout(dropout)\n",
        "        #self.attention_mask = attention_mask\n",
        "    \n",
        "    def call(self, x):\n",
        "        att = self.mha(query = x, value = x, attention_mask = attention_mask)\n",
        "        att = self.dropout(att)\n",
        "        att = self.add([x, att])\n",
        "        att = self.layernorm(att)\n",
        "        return att"
      ],
      "metadata": {
        "id": "U1IvFOUTqvkT"
      },
      "execution_count": null,
      "outputs": []
    },
    {
      "cell_type": "code",
      "source": [
        "att = AttentionBlock(num_heads, embedding_dimension, dropout)(embed_hist * mask )\n",
        "att[id,:,0]"
      ],
      "metadata": {
        "colab": {
          "base_uri": "https://localhost:8080/"
        },
        "id": "krvfFj9w1Qz6",
        "outputId": "c20c53ae-bc9d-44b1-c1f6-27d6e5b7473a"
      },
      "execution_count": null,
      "outputs": [
        {
          "output_type": "execute_result",
          "data": {
            "text/plain": [
              "<tf.Tensor: shape=(50,), dtype=float32, numpy=\n",
              "array([ 0.02971154,  0.02971154,  0.02971154,  0.02971154,  0.02971154,\n",
              "        0.02971154,  0.02971154,  0.02971154,  0.02971154,  0.02971154,\n",
              "        0.02971154,  0.02971154,  0.02971154,  0.02971154,  0.02971154,\n",
              "        0.02971154,  0.02971154,  0.02971154,  0.02971154,  0.02971154,\n",
              "        0.02971154,  0.02971154,  0.02971154,  0.02971154,  0.02971154,\n",
              "        0.02971154,  0.02971154,  0.02971154,  0.02971154,  0.02971154,\n",
              "        0.8400101 ,  1.3401276 , -0.1672948 , -0.30863595,  0.89511096,\n",
              "       -0.6563084 ,  0.7871158 ,  0.44849175, -0.6753941 , -0.22885332,\n",
              "        0.22419433,  0.93494   ,  0.41355702, -0.06021744,  0.8014932 ,\n",
              "        0.4370722 , -1.3358665 ,  1.0686882 , -0.5148345 ,  0.7846851 ],\n",
              "      dtype=float32)>"
            ]
          },
          "metadata": {},
          "execution_count": 17
        }
      ]
    },
    {
      "cell_type": "markdown",
      "source": [
        "###2.3 Feed Forward block"
      ],
      "metadata": {
        "id": "gPRHKqO1wu5w"
      }
    },
    {
      "cell_type": "code",
      "source": [
        "class FeedForward(tf.keras.layers.Layer):\n",
        "    def __init__(self, ffn_hidden_unit, embedding_dimension, dropout):\n",
        "        super().__init__()\n",
        "        self.seq = Sequential([\n",
        "            layers.Dense(ffn_hidden_unit, activation = 'relu'),\n",
        "            layers.Dense(embedding_dimension),\n",
        "            layers.Dropout(dropout)\n",
        "        ])\n",
        "        self.add = layers.Add()\n",
        "        self.layernorm = layers.LayerNormalization()\n",
        "\n",
        "    def call(self, x):\n",
        "        x = self.add([x, self.seq(x)])\n",
        "        x = self.layernorm(x) \n",
        "        return x"
      ],
      "metadata": {
        "id": "POcZHWk5IC5L"
      },
      "execution_count": null,
      "outputs": []
    },
    {
      "cell_type": "code",
      "source": [
        "ff = FeedForward(ffn_hidden_unit, embedding_dimension, dropout)(att)\n",
        "print(ff.shape)\n",
        "ff[id,:,0]"
      ],
      "metadata": {
        "colab": {
          "base_uri": "https://localhost:8080/"
        },
        "id": "d0n5oiXg6tay",
        "outputId": "ea066ebe-b5b2-47f0-f366-d63840e4080e"
      },
      "execution_count": null,
      "outputs": [
        {
          "output_type": "stream",
          "name": "stdout",
          "text": [
            "(4096, 50, 32)\n"
          ]
        },
        {
          "output_type": "execute_result",
          "data": {
            "text/plain": [
              "<tf.Tensor: shape=(50,), dtype=float32, numpy=\n",
              "array([ 0.2980761 ,  0.2980761 ,  0.2980761 ,  0.2980761 ,  0.2980761 ,\n",
              "        0.2980761 ,  0.2980761 ,  0.2980761 ,  0.2980761 ,  0.2980761 ,\n",
              "        0.2980761 ,  0.2980761 ,  0.2980761 ,  0.2980761 ,  0.2980761 ,\n",
              "        0.2980761 ,  0.2980761 ,  0.2980761 ,  0.2980761 ,  0.2980761 ,\n",
              "        0.2980761 ,  0.2980761 ,  0.2980761 ,  0.2980761 ,  0.2980761 ,\n",
              "        0.2980761 ,  0.2980761 ,  0.2980761 ,  0.2980761 ,  0.2980761 ,\n",
              "        0.7508224 ,  0.7438079 ,  0.1404477 , -0.6993661 ,  0.64823467,\n",
              "       -0.702047  ,  0.46841174,  0.6191246 , -0.8973172 , -0.10774227,\n",
              "        0.09063606,  1.1348494 ,  1.0650682 , -0.805975  ,  0.46284685,\n",
              "        0.9035339 , -1.8424516 ,  1.0945375 , -1.296737  , -0.3008513 ],\n",
              "      dtype=float32)>"
            ]
          },
          "metadata": {},
          "execution_count": 19
        }
      ]
    },
    {
      "cell_type": "markdown",
      "source": [
        "###2.4 Query Model "
      ],
      "metadata": {
        "id": "qCxdWx-75XtR"
      }
    },
    {
      "cell_type": "code",
      "source": [
        "class QueryModel(tf.keras.Model):\n",
        "    def __init__(self, blocks, movieId_lookup, movieId_embedding, maxlen, embedding_dimension,\n",
        "                 num_heads, dropout, ffn_hidden_unit ):\n",
        "        super().__init__()\n",
        "        self.pos_embedding = PositionalEmbedding(movieId_lookup, movieId_embedding, \n",
        "                                                 maxlen, embedding_dimension)\n",
        "        self.attention_blocks = [AttentionBlock(num_heads, embedding_dimension, \n",
        "                                                dropout) for i in range(blocks)]\n",
        "        self.ff_blocks = [FeedForward(ffn_hidden_unit, embedding_dimension, dropout) for i in range(blocks)]\n",
        "    \n",
        "    def call(self, inputs):\n",
        "        emb, mask, attention_mask = self.pos_embedding(inputs['hist'])\n",
        "        h = emb * mask\n",
        "        for attention_block, ff_block in zip(self.attention_blocks, self.ff_blocks):\n",
        "            h = attention_block(h)\n",
        "            h = ff_block(h)\n",
        "        return h[:,-1, :]\n"
      ],
      "metadata": {
        "id": "rOB_aVpr2dyR"
      },
      "execution_count": null,
      "outputs": []
    },
    {
      "cell_type": "code",
      "source": [
        "output = QueryModel(blocks,movieId_lookup, movieId_embedding, \n",
        "           maxlen, embedding_dimension,num_heads,dropout,ffn_hidden_unit)(sample_data)\n",
        "output.shape"
      ],
      "metadata": {
        "colab": {
          "base_uri": "https://localhost:8080/"
        },
        "id": "XMBinmt6ASA7",
        "outputId": "f14d8296-9d43-4657-92eb-07bb5a1f79bb"
      },
      "execution_count": null,
      "outputs": [
        {
          "output_type": "execute_result",
          "data": {
            "text/plain": [
              "TensorShape([4096, 32])"
            ]
          },
          "metadata": {},
          "execution_count": 21
        }
      ]
    },
    {
      "cell_type": "markdown",
      "source": [
        "#3. Candidate Model"
      ],
      "metadata": {
        "id": "TYVWgimhBcRR"
      }
    },
    {
      "cell_type": "code",
      "source": [
        "class CandidateModel(tf.keras.Model):\n",
        "    def __init__(self, movieId_lookup, movieId_embedding):\n",
        "        super().__init__()\n",
        "        self.movieId_lookup = movieId_lookup\n",
        "        self.movieId_embedding = movieId_embedding\n",
        "\n",
        "    def call(self,inputs):\n",
        "        lk = self.movieId_lookup(inputs['pos_id'])\n",
        "        emb = self.movieId_embedding(lk)\n",
        "        return emb    "
      ],
      "metadata": {
        "id": "5hcEVeryBVRw"
      },
      "execution_count": null,
      "outputs": []
    },
    {
      "cell_type": "code",
      "source": [
        "CandidateModel(movieId_lookup, movieId_embedding)(sample_data).shape"
      ],
      "metadata": {
        "colab": {
          "base_uri": "https://localhost:8080/"
        },
        "id": "dB0o9tFXDSGe",
        "outputId": "987e9575-f6c3-4058-b7c1-21cc04d3bf96"
      },
      "execution_count": null,
      "outputs": [
        {
          "output_type": "execute_result",
          "data": {
            "text/plain": [
              "TensorShape([4096, 32])"
            ]
          },
          "metadata": {},
          "execution_count": 23
        }
      ]
    },
    {
      "cell_type": "markdown",
      "source": [
        "# Full Model"
      ],
      "metadata": {
        "id": "daKxorenDwGT"
      }
    },
    {
      "cell_type": "code",
      "source": [
        "movies_ds = tf.data.Dataset.from_tensor_slices({'pos_id': movies.movieId})\n",
        "\n",
        "candidate_model = CandidateModel(movieId_lookup, movieId_embedding)\n",
        "movies_ds.batch(128).map(candidate_model)"
      ],
      "metadata": {
        "colab": {
          "base_uri": "https://localhost:8080/"
        },
        "id": "hu7KycTmAhUN",
        "outputId": "ed6d9306-56f1-4cc5-fb6e-2a6544982eba"
      },
      "execution_count": null,
      "outputs": [
        {
          "output_type": "execute_result",
          "data": {
            "text/plain": [
              "<_MapDataset element_spec=TensorSpec(shape=(None, 32), dtype=tf.float32, name=None)>"
            ]
          },
          "metadata": {},
          "execution_count": 24
        }
      ]
    },
    {
      "cell_type": "code",
      "source": [
        "class AttentionModel(tfrs.models.Model):\n",
        "\n",
        "    def __init__(self, blocks, movieId_lookup, movieId_embedding, maxlen, embedding_dimension,\n",
        "                 num_heads, dropout, ffn_hidden_unit):\n",
        "        super().__init__()\n",
        "        self.query_model = QueryModel(blocks,movieId_lookup, movieId_embedding, \n",
        "                                      maxlen, embedding_dimension,num_heads,dropout,ffn_hidden_unit)\n",
        "        self.candidate_model = CandidateModel(movieId_lookup, movieId_embedding)\n",
        "        self.task = tfrs.tasks.Retrieval(\n",
        "            metrics = tfrs.metrics.FactorizedTopK(\n",
        "                candidates = movies_ds.batch(128).map(self.candidate_model)\n",
        "            )\n",
        "        )\n",
        "\n",
        "    def compute_loss(self, inputs, training: bool = False):\n",
        "        query_emb = self.query_model(inputs)\n",
        "        movie_emb = self.candidate_model(inputs)\n",
        "        return self.task(query_emb, movie_emb, compute_metrics = not training)\n",
        "    "
      ],
      "metadata": {
        "id": "zIxyTXIhEhgu"
      },
      "execution_count": null,
      "outputs": []
    },
    {
      "cell_type": "markdown",
      "source": [
        "#4. Fitting and evaluating"
      ],
      "metadata": {
        "id": "ceQkZ-tEB_iw"
      }
    },
    {
      "cell_type": "code",
      "source": [
        "model = AttentionModel(blocks, movieId_lookup, movieId_embedding, maxlen, embedding_dimension,\n",
        "                 num_heads, dropout, ffn_hidden_unit)\n",
        "\n",
        "model.compile(optimizer = tf.keras.optimizers.Adam(learning_rate))"
      ],
      "metadata": {
        "id": "8_q5_jlxCHwe"
      },
      "execution_count": null,
      "outputs": []
    },
    {
      "cell_type": "code",
      "source": [
        "model.compute_loss(sample_data)"
      ],
      "metadata": {
        "colab": {
          "base_uri": "https://localhost:8080/"
        },
        "id": "ViybYlZAE2hN",
        "outputId": "b1b24404-d1ba-4bcb-eb90-c8fedac9008b"
      },
      "execution_count": null,
      "outputs": [
        {
          "output_type": "execute_result",
          "data": {
            "text/plain": [
              "<tf.Tensor: shape=(), dtype=float32, numpy=34118.805>"
            ]
          },
          "metadata": {},
          "execution_count": 33
        }
      ]
    },
    {
      "cell_type": "code",
      "source": [
        "cached_train = train_dataset.cache()"
      ],
      "metadata": {
        "id": "p7BdCTf6nmD6"
      },
      "execution_count": null,
      "outputs": []
    },
    {
      "cell_type": "code",
      "source": [
        "history = model.fit(train_dataset, epochs = 3, verbose = 1,\n",
        "          #callbacks = [checkpoint],\n",
        "          )"
      ],
      "metadata": {
        "colab": {
          "base_uri": "https://localhost:8080/"
        },
        "id": "6VM9UH_4FT8f",
        "outputId": "2eba6ae1-71d0-4697-a459-6a46c6fff73d"
      },
      "execution_count": null,
      "outputs": [
        {
          "output_type": "stream",
          "name": "stdout",
          "text": [
            "Epoch 1/3\n",
            "4486/4486 [==============================] - 715s 159ms/step - factorized_top_k/top_1_categorical_accuracy: 0.0000e+00 - factorized_top_k/top_5_categorical_accuracy: 0.0000e+00 - factorized_top_k/top_10_categorical_accuracy: 0.0000e+00 - factorized_top_k/top_50_categorical_accuracy: 0.0000e+00 - factorized_top_k/top_100_categorical_accuracy: 0.0000e+00 - loss: 27154.7679 - regularization_loss: 0.0000e+00 - total_loss: 27154.7679\n",
            "Epoch 2/3\n",
            "4486/4486 [==============================] - 685s 152ms/step - factorized_top_k/top_1_categorical_accuracy: 0.0000e+00 - factorized_top_k/top_5_categorical_accuracy: 0.0000e+00 - factorized_top_k/top_10_categorical_accuracy: 0.0000e+00 - factorized_top_k/top_50_categorical_accuracy: 0.0000e+00 - factorized_top_k/top_100_categorical_accuracy: 0.0000e+00 - loss: 26920.0415 - regularization_loss: 0.0000e+00 - total_loss: 26920.0415\n",
            "Epoch 3/3\n",
            "4486/4486 [==============================] - 673s 150ms/step - factorized_top_k/top_1_categorical_accuracy: 0.0000e+00 - factorized_top_k/top_5_categorical_accuracy: 0.0000e+00 - factorized_top_k/top_10_categorical_accuracy: 0.0000e+00 - factorized_top_k/top_50_categorical_accuracy: 0.0000e+00 - factorized_top_k/top_100_categorical_accuracy: 0.0000e+00 - loss: 26789.5986 - regularization_loss: 0.0000e+00 - total_loss: 26789.5986\n"
          ]
        }
      ]
    },
    {
      "cell_type": "code",
      "source": [
        "model.save_weights(filepath = model_filepath + '/model_weight_3e', save_format = 'tf')"
      ],
      "metadata": {
        "id": "03DIsFE4324s"
      },
      "execution_count": null,
      "outputs": []
    },
    {
      "cell_type": "markdown",
      "source": [
        "Finally, we can evaluate our model on the test set:"
      ],
      "metadata": {
        "id": "jdf5XbM52h7x"
      }
    },
    {
      "cell_type": "code",
      "source": [
        "model.evaluate(test_dataset, return_dict=True)"
      ],
      "metadata": {
        "colab": {
          "base_uri": "https://localhost:8080/"
        },
        "id": "3luxtcQ4jMjV",
        "outputId": "127b94a7-896d-487a-af51-c5d8bb0f6d39"
      },
      "execution_count": null,
      "outputs": [
        {
          "output_type": "stream",
          "name": "stdout",
          "text": [
            "33/33 [==============================] - 300s 9s/step - factorized_top_k/top_1_categorical_accuracy: 0.0129 - factorized_top_k/top_5_categorical_accuracy: 0.0647 - factorized_top_k/top_10_categorical_accuracy: 0.1072 - factorized_top_k/top_50_categorical_accuracy: 0.2700 - factorized_top_k/top_100_categorical_accuracy: 0.3668 - loss: 27490.3337 - regularization_loss: 0.0000e+00 - total_loss: 27490.3337\n"
          ]
        },
        {
          "output_type": "execute_result",
          "data": {
            "text/plain": [
              "{'factorized_top_k/top_1_categorical_accuracy': 0.012865470722317696,\n",
              " 'factorized_top_k/top_5_categorical_accuracy': 0.06466027349233627,\n",
              " 'factorized_top_k/top_10_categorical_accuracy': 0.10723692178726196,\n",
              " 'factorized_top_k/top_50_categorical_accuracy': 0.27001214027404785,\n",
              " 'factorized_top_k/top_100_categorical_accuracy': 0.3667806088924408,\n",
              " 'loss': 27449.552734375,\n",
              " 'regularization_loss': 0,\n",
              " 'total_loss': 27449.552734375}"
            ]
          },
          "metadata": {},
          "execution_count": 48
        }
      ]
    }
  ]
}