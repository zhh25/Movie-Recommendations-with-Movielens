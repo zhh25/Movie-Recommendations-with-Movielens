{
  "nbformat": 4,
  "nbformat_minor": 0,
  "metadata": {
    "colab": {
      "provenance": [],
      "gpuType": "T4",
      "mount_file_id": "1edJdn3hjUv9DbE68zZxFVIRdfdrVZD_A",
      "authorship_tag": "ABX9TyMEXdJj8RObIUlGR/pHJeOH"
    },
    "kernelspec": {
      "name": "python3",
      "display_name": "Python 3"
    },
    "language_info": {
      "name": "python"
    },
    "accelerator": "GPU",
    "gpuClass": "standard"
  },
  "cells": [
    {
      "cell_type": "code",
      "source": [
        "! pip install -q tensorflow-recommenders"
      ],
      "metadata": {
        "id": "UYJf1mywtVhW",
        "outputId": "06a3d31c-1249-4ac5-bb2b-a9a60038d04d",
        "colab": {
          "base_uri": "https://localhost:8080/"
        }
      },
      "execution_count": null,
      "outputs": [
        {
          "output_type": "stream",
          "name": "stdout",
          "text": [
            "\u001b[?25l     \u001b[90m━━━━━━━━━━━━━━━━━━━━━━━━━━━━━━━━━━━━━━━━\u001b[0m \u001b[32m0.0/96.2 kB\u001b[0m \u001b[31m?\u001b[0m eta \u001b[36m-:--:--\u001b[0m\r\u001b[2K     \u001b[90m━━━━━━━━━━━━━━━━━━━━━━━━━━━━━━━━━━━━━━━━\u001b[0m \u001b[32m96.2/96.2 kB\u001b[0m \u001b[31m3.0 MB/s\u001b[0m eta \u001b[36m0:00:00\u001b[0m\n",
            "\u001b[?25h"
          ]
        }
      ]
    },
    {
      "cell_type": "code",
      "execution_count": null,
      "metadata": {
        "id": "r5qTF8A_aijm"
      },
      "outputs": [],
      "source": [
        "import pprint\n",
        "\n",
        "import pandas as pd\n",
        "import numpy as np\n",
        "import tensorflow as tf\n",
        "import tensorflow_datasets as tfds\n",
        "import tensorflow_recommenders as tfrs"
      ]
    },
    {
      "cell_type": "markdown",
      "source": [
        "In this project, I create a recommendation system using data collected from the movie-recommendation service MovieLens. Created by 138,493 users, the Movielens data set includes over 20 million ratings and 460,000+ tags for 27,278 movies. \n",
        "\n",
        "Kaggle data set: [MovieLens 20M Dataset](https://www.kaggle.com/datasets/grouplens/movielens-20m-dataset?resource=download)"
      ],
      "metadata": {
        "id": "HTRZ0HtCua_T"
      }
    },
    {
      "cell_type": "markdown",
      "source": [
        "# Transform the movie ratings data into sequences\n",
        "First, let's sort the the ratings data using the timestamp, and then group the movie_id values and the rating values by user_id.\n",
        "\n",
        "The output DataFrame will have a record for each user_id, with two ordered lists (sorted by rating datetime): the movies they have rated, and their ratings of these movies."
      ],
      "metadata": {
        "id": "7aAz99X5osXC"
      }
    },
    {
      "cell_type": "code",
      "source": [
        "ratings = pd.read_csv('/content/drive/MyDrive/Movie Recommendations with Movielens/rating.csv')"
      ],
      "metadata": {
        "id": "gyl0htcVuO9q"
      },
      "execution_count": null,
      "outputs": []
    },
    {
      "cell_type": "code",
      "source": [
        "ratings.head()"
      ],
      "metadata": {
        "colab": {
          "base_uri": "https://localhost:8080/",
          "height": 206
        },
        "id": "z5KErV1Ep09z",
        "outputId": "fb05b1be-785b-4e11-b115-2608b7b8aa0a"
      },
      "execution_count": null,
      "outputs": [
        {
          "output_type": "execute_result",
          "data": {
            "text/plain": [
              "   userId  movieId  rating            timestamp\n",
              "0       1        2     3.5  2005-04-02 23:53:47\n",
              "1       1       29     3.5  2005-04-02 23:31:16\n",
              "2       1       32     3.5  2005-04-02 23:33:39\n",
              "3       1       47     3.5  2005-04-02 23:32:07\n",
              "4       1       50     3.5  2005-04-02 23:29:40"
            ],
            "text/html": [
              "\n",
              "  <div id=\"df-eb56b7fe-7d70-466d-827f-3bf5aa272e1f\">\n",
              "    <div class=\"colab-df-container\">\n",
              "      <div>\n",
              "<style scoped>\n",
              "    .dataframe tbody tr th:only-of-type {\n",
              "        vertical-align: middle;\n",
              "    }\n",
              "\n",
              "    .dataframe tbody tr th {\n",
              "        vertical-align: top;\n",
              "    }\n",
              "\n",
              "    .dataframe thead th {\n",
              "        text-align: right;\n",
              "    }\n",
              "</style>\n",
              "<table border=\"1\" class=\"dataframe\">\n",
              "  <thead>\n",
              "    <tr style=\"text-align: right;\">\n",
              "      <th></th>\n",
              "      <th>userId</th>\n",
              "      <th>movieId</th>\n",
              "      <th>rating</th>\n",
              "      <th>timestamp</th>\n",
              "    </tr>\n",
              "  </thead>\n",
              "  <tbody>\n",
              "    <tr>\n",
              "      <th>0</th>\n",
              "      <td>1</td>\n",
              "      <td>2</td>\n",
              "      <td>3.5</td>\n",
              "      <td>2005-04-02 23:53:47</td>\n",
              "    </tr>\n",
              "    <tr>\n",
              "      <th>1</th>\n",
              "      <td>1</td>\n",
              "      <td>29</td>\n",
              "      <td>3.5</td>\n",
              "      <td>2005-04-02 23:31:16</td>\n",
              "    </tr>\n",
              "    <tr>\n",
              "      <th>2</th>\n",
              "      <td>1</td>\n",
              "      <td>32</td>\n",
              "      <td>3.5</td>\n",
              "      <td>2005-04-02 23:33:39</td>\n",
              "    </tr>\n",
              "    <tr>\n",
              "      <th>3</th>\n",
              "      <td>1</td>\n",
              "      <td>47</td>\n",
              "      <td>3.5</td>\n",
              "      <td>2005-04-02 23:32:07</td>\n",
              "    </tr>\n",
              "    <tr>\n",
              "      <th>4</th>\n",
              "      <td>1</td>\n",
              "      <td>50</td>\n",
              "      <td>3.5</td>\n",
              "      <td>2005-04-02 23:29:40</td>\n",
              "    </tr>\n",
              "  </tbody>\n",
              "</table>\n",
              "</div>\n",
              "      <button class=\"colab-df-convert\" onclick=\"convertToInteractive('df-eb56b7fe-7d70-466d-827f-3bf5aa272e1f')\"\n",
              "              title=\"Convert this dataframe to an interactive table.\"\n",
              "              style=\"display:none;\">\n",
              "        \n",
              "  <svg xmlns=\"http://www.w3.org/2000/svg\" height=\"24px\"viewBox=\"0 0 24 24\"\n",
              "       width=\"24px\">\n",
              "    <path d=\"M0 0h24v24H0V0z\" fill=\"none\"/>\n",
              "    <path d=\"M18.56 5.44l.94 2.06.94-2.06 2.06-.94-2.06-.94-.94-2.06-.94 2.06-2.06.94zm-11 1L8.5 8.5l.94-2.06 2.06-.94-2.06-.94L8.5 2.5l-.94 2.06-2.06.94zm10 10l.94 2.06.94-2.06 2.06-.94-2.06-.94-.94-2.06-.94 2.06-2.06.94z\"/><path d=\"M17.41 7.96l-1.37-1.37c-.4-.4-.92-.59-1.43-.59-.52 0-1.04.2-1.43.59L10.3 9.45l-7.72 7.72c-.78.78-.78 2.05 0 2.83L4 21.41c.39.39.9.59 1.41.59.51 0 1.02-.2 1.41-.59l7.78-7.78 2.81-2.81c.8-.78.8-2.07 0-2.86zM5.41 20L4 18.59l7.72-7.72 1.47 1.35L5.41 20z\"/>\n",
              "  </svg>\n",
              "      </button>\n",
              "      \n",
              "  <style>\n",
              "    .colab-df-container {\n",
              "      display:flex;\n",
              "      flex-wrap:wrap;\n",
              "      gap: 12px;\n",
              "    }\n",
              "\n",
              "    .colab-df-convert {\n",
              "      background-color: #E8F0FE;\n",
              "      border: none;\n",
              "      border-radius: 50%;\n",
              "      cursor: pointer;\n",
              "      display: none;\n",
              "      fill: #1967D2;\n",
              "      height: 32px;\n",
              "      padding: 0 0 0 0;\n",
              "      width: 32px;\n",
              "    }\n",
              "\n",
              "    .colab-df-convert:hover {\n",
              "      background-color: #E2EBFA;\n",
              "      box-shadow: 0px 1px 2px rgba(60, 64, 67, 0.3), 0px 1px 3px 1px rgba(60, 64, 67, 0.15);\n",
              "      fill: #174EA6;\n",
              "    }\n",
              "\n",
              "    [theme=dark] .colab-df-convert {\n",
              "      background-color: #3B4455;\n",
              "      fill: #D2E3FC;\n",
              "    }\n",
              "\n",
              "    [theme=dark] .colab-df-convert:hover {\n",
              "      background-color: #434B5C;\n",
              "      box-shadow: 0px 1px 3px 1px rgba(0, 0, 0, 0.15);\n",
              "      filter: drop-shadow(0px 1px 2px rgba(0, 0, 0, 0.3));\n",
              "      fill: #FFFFFF;\n",
              "    }\n",
              "  </style>\n",
              "\n",
              "      <script>\n",
              "        const buttonEl =\n",
              "          document.querySelector('#df-eb56b7fe-7d70-466d-827f-3bf5aa272e1f button.colab-df-convert');\n",
              "        buttonEl.style.display =\n",
              "          google.colab.kernel.accessAllowed ? 'block' : 'none';\n",
              "\n",
              "        async function convertToInteractive(key) {\n",
              "          const element = document.querySelector('#df-eb56b7fe-7d70-466d-827f-3bf5aa272e1f');\n",
              "          const dataTable =\n",
              "            await google.colab.kernel.invokeFunction('convertToInteractive',\n",
              "                                                     [key], {});\n",
              "          if (!dataTable) return;\n",
              "\n",
              "          const docLinkHtml = 'Like what you see? Visit the ' +\n",
              "            '<a target=\"_blank\" href=https://colab.research.google.com/notebooks/data_table.ipynb>data table notebook</a>'\n",
              "            + ' to learn more about interactive tables.';\n",
              "          element.innerHTML = '';\n",
              "          dataTable['output_type'] = 'display_data';\n",
              "          await google.colab.output.renderOutput(dataTable, element);\n",
              "          const docLink = document.createElement('div');\n",
              "          docLink.innerHTML = docLinkHtml;\n",
              "          element.appendChild(docLink);\n",
              "        }\n",
              "      </script>\n",
              "    </div>\n",
              "  </div>\n",
              "  "
            ]
          },
          "metadata": {},
          "execution_count": 4
        }
      ]
    },
    {
      "cell_type": "code",
      "source": [
        "ratings_group = ratings.sort_values(by=[\"timestamp\"]).groupby(\"userId\")"
      ],
      "metadata": {
        "id": "AGpkyv7luUB6"
      },
      "execution_count": null,
      "outputs": []
    },
    {
      "cell_type": "code",
      "source": [
        "ratings_data = pd.DataFrame(\n",
        "    data={\n",
        "        \"userId\": list(ratings_group.groups.keys()),\n",
        "        \"movieIds\": list(ratings_group.movieId.apply(list)),\n",
        "        \"ratings\": list(ratings_group.rating.apply(list)),\n",
        "        \"timestamps\": list(ratings_group.timestamp.apply(list)),\n",
        "    }\n",
        ")"
      ],
      "metadata": {
        "id": "CHJ3zT_Dp_u3"
      },
      "execution_count": null,
      "outputs": []
    },
    {
      "cell_type": "code",
      "source": [
        "ratings_data.head()"
      ],
      "metadata": {
        "colab": {
          "base_uri": "https://localhost:8080/",
          "height": 206
        },
        "id": "ZZ7mkovSrEOh",
        "outputId": "8beef332-e227-4f9b-b678-f9010f294de3"
      },
      "execution_count": null,
      "outputs": [
        {
          "output_type": "execute_result",
          "data": {
            "text/plain": [
              "   userId                                           movieIds  \\\n",
              "0       1  [924, 919, 2683, 1584, 1079, 653, 2959, 337, 1...   \n",
              "1       2  [469, 62, 1974, 1121, 2951, 3159, 1210, 1356, ...   \n",
              "2       3  [2118, 1721, 1188, 2011, 589, 2710, 2857, 2676...   \n",
              "3       4  [380, 165, 329, 10, 356, 480, 454, 589, 367, 1...   \n",
              "4       5  [780, 736, 62, 141, 648, 17, 608, 1073, 708, 1...   \n",
              "\n",
              "                                             ratings  \\\n",
              "0  [3.5, 3.5, 3.5, 3.5, 4.0, 3.0, 4.0, 3.5, 3.0, ...   \n",
              "1  [3.0, 5.0, 5.0, 3.0, 4.0, 3.0, 5.0, 5.0, 4.0, ...   \n",
              "2  [5.0, 4.0, 2.0, 3.0, 4.0, 5.0, 3.0, 1.0, 1.0, ...   \n",
              "3  [3.0, 3.0, 3.0, 4.0, 4.0, 4.0, 5.0, 4.0, 3.0, ...   \n",
              "4  [5.0, 5.0, 5.0, 5.0, 3.0, 3.0, 3.0, 2.0, 3.0, ...   \n",
              "\n",
              "                                          timestamps  \n",
              "0  [2004-09-10 03:06:38, 2004-09-10 03:07:01, 200...  \n",
              "1  [2000-11-21 15:29:58, 2000-11-21 15:29:58, 200...  \n",
              "2  [1999-12-11 07:25:08, 1999-12-11 07:25:08, 199...  \n",
              "3  [1996-08-24 09:27:05, 1996-08-24 09:27:32, 199...  \n",
              "4  [1996-12-25 15:15:35, 1996-12-25 15:15:35, 199...  "
            ],
            "text/html": [
              "\n",
              "  <div id=\"df-b8183700-28e0-4f7a-aebd-ebc5e1f831fd\">\n",
              "    <div class=\"colab-df-container\">\n",
              "      <div>\n",
              "<style scoped>\n",
              "    .dataframe tbody tr th:only-of-type {\n",
              "        vertical-align: middle;\n",
              "    }\n",
              "\n",
              "    .dataframe tbody tr th {\n",
              "        vertical-align: top;\n",
              "    }\n",
              "\n",
              "    .dataframe thead th {\n",
              "        text-align: right;\n",
              "    }\n",
              "</style>\n",
              "<table border=\"1\" class=\"dataframe\">\n",
              "  <thead>\n",
              "    <tr style=\"text-align: right;\">\n",
              "      <th></th>\n",
              "      <th>userId</th>\n",
              "      <th>movieIds</th>\n",
              "      <th>ratings</th>\n",
              "      <th>timestamps</th>\n",
              "    </tr>\n",
              "  </thead>\n",
              "  <tbody>\n",
              "    <tr>\n",
              "      <th>0</th>\n",
              "      <td>1</td>\n",
              "      <td>[924, 919, 2683, 1584, 1079, 653, 2959, 337, 1...</td>\n",
              "      <td>[3.5, 3.5, 3.5, 3.5, 4.0, 3.0, 4.0, 3.5, 3.0, ...</td>\n",
              "      <td>[2004-09-10 03:06:38, 2004-09-10 03:07:01, 200...</td>\n",
              "    </tr>\n",
              "    <tr>\n",
              "      <th>1</th>\n",
              "      <td>2</td>\n",
              "      <td>[469, 62, 1974, 1121, 2951, 3159, 1210, 1356, ...</td>\n",
              "      <td>[3.0, 5.0, 5.0, 3.0, 4.0, 3.0, 5.0, 5.0, 4.0, ...</td>\n",
              "      <td>[2000-11-21 15:29:58, 2000-11-21 15:29:58, 200...</td>\n",
              "    </tr>\n",
              "    <tr>\n",
              "      <th>2</th>\n",
              "      <td>3</td>\n",
              "      <td>[2118, 1721, 1188, 2011, 589, 2710, 2857, 2676...</td>\n",
              "      <td>[5.0, 4.0, 2.0, 3.0, 4.0, 5.0, 3.0, 1.0, 1.0, ...</td>\n",
              "      <td>[1999-12-11 07:25:08, 1999-12-11 07:25:08, 199...</td>\n",
              "    </tr>\n",
              "    <tr>\n",
              "      <th>3</th>\n",
              "      <td>4</td>\n",
              "      <td>[380, 165, 329, 10, 356, 480, 454, 589, 367, 1...</td>\n",
              "      <td>[3.0, 3.0, 3.0, 4.0, 4.0, 4.0, 5.0, 4.0, 3.0, ...</td>\n",
              "      <td>[1996-08-24 09:27:05, 1996-08-24 09:27:32, 199...</td>\n",
              "    </tr>\n",
              "    <tr>\n",
              "      <th>4</th>\n",
              "      <td>5</td>\n",
              "      <td>[780, 736, 62, 141, 648, 17, 608, 1073, 708, 1...</td>\n",
              "      <td>[5.0, 5.0, 5.0, 5.0, 3.0, 3.0, 3.0, 2.0, 3.0, ...</td>\n",
              "      <td>[1996-12-25 15:15:35, 1996-12-25 15:15:35, 199...</td>\n",
              "    </tr>\n",
              "  </tbody>\n",
              "</table>\n",
              "</div>\n",
              "      <button class=\"colab-df-convert\" onclick=\"convertToInteractive('df-b8183700-28e0-4f7a-aebd-ebc5e1f831fd')\"\n",
              "              title=\"Convert this dataframe to an interactive table.\"\n",
              "              style=\"display:none;\">\n",
              "        \n",
              "  <svg xmlns=\"http://www.w3.org/2000/svg\" height=\"24px\"viewBox=\"0 0 24 24\"\n",
              "       width=\"24px\">\n",
              "    <path d=\"M0 0h24v24H0V0z\" fill=\"none\"/>\n",
              "    <path d=\"M18.56 5.44l.94 2.06.94-2.06 2.06-.94-2.06-.94-.94-2.06-.94 2.06-2.06.94zm-11 1L8.5 8.5l.94-2.06 2.06-.94-2.06-.94L8.5 2.5l-.94 2.06-2.06.94zm10 10l.94 2.06.94-2.06 2.06-.94-2.06-.94-.94-2.06-.94 2.06-2.06.94z\"/><path d=\"M17.41 7.96l-1.37-1.37c-.4-.4-.92-.59-1.43-.59-.52 0-1.04.2-1.43.59L10.3 9.45l-7.72 7.72c-.78.78-.78 2.05 0 2.83L4 21.41c.39.39.9.59 1.41.59.51 0 1.02-.2 1.41-.59l7.78-7.78 2.81-2.81c.8-.78.8-2.07 0-2.86zM5.41 20L4 18.59l7.72-7.72 1.47 1.35L5.41 20z\"/>\n",
              "  </svg>\n",
              "      </button>\n",
              "      \n",
              "  <style>\n",
              "    .colab-df-container {\n",
              "      display:flex;\n",
              "      flex-wrap:wrap;\n",
              "      gap: 12px;\n",
              "    }\n",
              "\n",
              "    .colab-df-convert {\n",
              "      background-color: #E8F0FE;\n",
              "      border: none;\n",
              "      border-radius: 50%;\n",
              "      cursor: pointer;\n",
              "      display: none;\n",
              "      fill: #1967D2;\n",
              "      height: 32px;\n",
              "      padding: 0 0 0 0;\n",
              "      width: 32px;\n",
              "    }\n",
              "\n",
              "    .colab-df-convert:hover {\n",
              "      background-color: #E2EBFA;\n",
              "      box-shadow: 0px 1px 2px rgba(60, 64, 67, 0.3), 0px 1px 3px 1px rgba(60, 64, 67, 0.15);\n",
              "      fill: #174EA6;\n",
              "    }\n",
              "\n",
              "    [theme=dark] .colab-df-convert {\n",
              "      background-color: #3B4455;\n",
              "      fill: #D2E3FC;\n",
              "    }\n",
              "\n",
              "    [theme=dark] .colab-df-convert:hover {\n",
              "      background-color: #434B5C;\n",
              "      box-shadow: 0px 1px 3px 1px rgba(0, 0, 0, 0.15);\n",
              "      filter: drop-shadow(0px 1px 2px rgba(0, 0, 0, 0.3));\n",
              "      fill: #FFFFFF;\n",
              "    }\n",
              "  </style>\n",
              "\n",
              "      <script>\n",
              "        const buttonEl =\n",
              "          document.querySelector('#df-b8183700-28e0-4f7a-aebd-ebc5e1f831fd button.colab-df-convert');\n",
              "        buttonEl.style.display =\n",
              "          google.colab.kernel.accessAllowed ? 'block' : 'none';\n",
              "\n",
              "        async function convertToInteractive(key) {\n",
              "          const element = document.querySelector('#df-b8183700-28e0-4f7a-aebd-ebc5e1f831fd');\n",
              "          const dataTable =\n",
              "            await google.colab.kernel.invokeFunction('convertToInteractive',\n",
              "                                                     [key], {});\n",
              "          if (!dataTable) return;\n",
              "\n",
              "          const docLinkHtml = 'Like what you see? Visit the ' +\n",
              "            '<a target=\"_blank\" href=https://colab.research.google.com/notebooks/data_table.ipynb>data table notebook</a>'\n",
              "            + ' to learn more about interactive tables.';\n",
              "          element.innerHTML = '';\n",
              "          dataTable['output_type'] = 'display_data';\n",
              "          await google.colab.output.renderOutput(dataTable, element);\n",
              "          const docLink = document.createElement('div');\n",
              "          docLink.innerHTML = docLinkHtml;\n",
              "          element.appendChild(docLink);\n",
              "        }\n",
              "      </script>\n",
              "    </div>\n",
              "  </div>\n",
              "  "
            ]
          },
          "metadata": {},
          "execution_count": 7
        }
      ]
    },
    {
      "cell_type": "markdown",
      "source": [
        "Now, let's split the movie_ids list into a set of sequences of a fixed length. We do the same for the ratings. Set the sequence_length variable to change the length of the input sequence to the model. You can also change the step_size to control the number of sequences to generate for each user."
      ],
      "metadata": {
        "id": "65LpYkhprOTN"
      }
    },
    {
      "cell_type": "code",
      "source": [
        "sequence_length = 4\n",
        "step_size = 2\n",
        "\n",
        "def create_sequences(values, window_size, step_size):\n",
        "    sequences = []\n",
        "    start_index = 0\n",
        "    while True:\n",
        "        end_index = start_index + window_size\n",
        "        seq = values[start_index:end_index]\n",
        "        if len(seq) < window_size:\n",
        "            seq = values[-window_size:]\n",
        "            if len(seq) == window_size:\n",
        "                sequences.append(seq)\n",
        "            break\n",
        "        sequences.append(seq)\n",
        "        start_index += step_size\n",
        "    return sequences\n",
        "\n",
        "\n",
        "ratings_data.movieIds = ratings_data.movieIds.apply(\n",
        "    lambda ids: create_sequences(ids, sequence_length, step_size)\n",
        ")\n",
        "\n",
        "ratings_data.ratings = ratings_data.ratings.apply(\n",
        "    lambda ids: create_sequences(ids, sequence_length, step_size)\n",
        ")\n",
        "\n",
        "ratings_data.timestamps = ratings_data.timestamps.apply(\n",
        "    lambda ids: create_sequences(ids, sequence_length, step_size)\n",
        ")\n",
        "\n"
      ],
      "metadata": {
        "id": "TiJFOtHurMfC"
      },
      "execution_count": null,
      "outputs": []
    },
    {
      "cell_type": "code",
      "source": [
        "ratings_data.head()"
      ],
      "metadata": {
        "colab": {
          "base_uri": "https://localhost:8080/",
          "height": 206
        },
        "id": "WpIYB5mawKzk",
        "outputId": "64890563-42fd-4892-9695-261b4b418c12"
      },
      "execution_count": null,
      "outputs": [
        {
          "output_type": "execute_result",
          "data": {
            "text/plain": [
              "   userId                                           movieIds  \\\n",
              "0       1  [[924, 919, 2683, 1584], [2683, 1584, 1079, 65...   \n",
              "1       2  [[469, 62, 1974, 1121], [1974, 1121, 2951, 315...   \n",
              "2       3  [[2118, 1721, 1188, 2011], [1188, 2011, 589, 2...   \n",
              "3       4  [[380, 165, 329, 10], [329, 10, 356, 480], [35...   \n",
              "4       5  [[780, 736, 62, 141], [62, 141, 648, 17], [648...   \n",
              "\n",
              "                                             ratings  \\\n",
              "0  [[3.5, 3.5, 3.5, 3.5], [3.5, 3.5, 4.0, 3.0], [...   \n",
              "1  [[3.0, 5.0, 5.0, 3.0], [5.0, 3.0, 4.0, 3.0], [...   \n",
              "2  [[5.0, 4.0, 2.0, 3.0], [2.0, 3.0, 4.0, 5.0], [...   \n",
              "3  [[3.0, 3.0, 3.0, 4.0], [3.0, 4.0, 4.0, 4.0], [...   \n",
              "4  [[5.0, 5.0, 5.0, 5.0], [5.0, 5.0, 3.0, 3.0], [...   \n",
              "\n",
              "                                          timestamps  \n",
              "0  [[2004-09-10 03:06:38, 2004-09-10 03:07:01, 20...  \n",
              "1  [[2000-11-21 15:29:58, 2000-11-21 15:29:58, 20...  \n",
              "2  [[1999-12-11 07:25:08, 1999-12-11 07:25:08, 19...  \n",
              "3  [[1996-08-24 09:27:05, 1996-08-24 09:27:32, 19...  \n",
              "4  [[1996-12-25 15:15:35, 1996-12-25 15:15:35, 19...  "
            ],
            "text/html": [
              "\n",
              "  <div id=\"df-7f4ba684-6337-488e-9189-e1fcdb3ad7c0\">\n",
              "    <div class=\"colab-df-container\">\n",
              "      <div>\n",
              "<style scoped>\n",
              "    .dataframe tbody tr th:only-of-type {\n",
              "        vertical-align: middle;\n",
              "    }\n",
              "\n",
              "    .dataframe tbody tr th {\n",
              "        vertical-align: top;\n",
              "    }\n",
              "\n",
              "    .dataframe thead th {\n",
              "        text-align: right;\n",
              "    }\n",
              "</style>\n",
              "<table border=\"1\" class=\"dataframe\">\n",
              "  <thead>\n",
              "    <tr style=\"text-align: right;\">\n",
              "      <th></th>\n",
              "      <th>userId</th>\n",
              "      <th>movieIds</th>\n",
              "      <th>ratings</th>\n",
              "      <th>timestamps</th>\n",
              "    </tr>\n",
              "  </thead>\n",
              "  <tbody>\n",
              "    <tr>\n",
              "      <th>0</th>\n",
              "      <td>1</td>\n",
              "      <td>[[924, 919, 2683, 1584], [2683, 1584, 1079, 65...</td>\n",
              "      <td>[[3.5, 3.5, 3.5, 3.5], [3.5, 3.5, 4.0, 3.0], [...</td>\n",
              "      <td>[[2004-09-10 03:06:38, 2004-09-10 03:07:01, 20...</td>\n",
              "    </tr>\n",
              "    <tr>\n",
              "      <th>1</th>\n",
              "      <td>2</td>\n",
              "      <td>[[469, 62, 1974, 1121], [1974, 1121, 2951, 315...</td>\n",
              "      <td>[[3.0, 5.0, 5.0, 3.0], [5.0, 3.0, 4.0, 3.0], [...</td>\n",
              "      <td>[[2000-11-21 15:29:58, 2000-11-21 15:29:58, 20...</td>\n",
              "    </tr>\n",
              "    <tr>\n",
              "      <th>2</th>\n",
              "      <td>3</td>\n",
              "      <td>[[2118, 1721, 1188, 2011], [1188, 2011, 589, 2...</td>\n",
              "      <td>[[5.0, 4.0, 2.0, 3.0], [2.0, 3.0, 4.0, 5.0], [...</td>\n",
              "      <td>[[1999-12-11 07:25:08, 1999-12-11 07:25:08, 19...</td>\n",
              "    </tr>\n",
              "    <tr>\n",
              "      <th>3</th>\n",
              "      <td>4</td>\n",
              "      <td>[[380, 165, 329, 10], [329, 10, 356, 480], [35...</td>\n",
              "      <td>[[3.0, 3.0, 3.0, 4.0], [3.0, 4.0, 4.0, 4.0], [...</td>\n",
              "      <td>[[1996-08-24 09:27:05, 1996-08-24 09:27:32, 19...</td>\n",
              "    </tr>\n",
              "    <tr>\n",
              "      <th>4</th>\n",
              "      <td>5</td>\n",
              "      <td>[[780, 736, 62, 141], [62, 141, 648, 17], [648...</td>\n",
              "      <td>[[5.0, 5.0, 5.0, 5.0], [5.0, 5.0, 3.0, 3.0], [...</td>\n",
              "      <td>[[1996-12-25 15:15:35, 1996-12-25 15:15:35, 19...</td>\n",
              "    </tr>\n",
              "  </tbody>\n",
              "</table>\n",
              "</div>\n",
              "      <button class=\"colab-df-convert\" onclick=\"convertToInteractive('df-7f4ba684-6337-488e-9189-e1fcdb3ad7c0')\"\n",
              "              title=\"Convert this dataframe to an interactive table.\"\n",
              "              style=\"display:none;\">\n",
              "        \n",
              "  <svg xmlns=\"http://www.w3.org/2000/svg\" height=\"24px\"viewBox=\"0 0 24 24\"\n",
              "       width=\"24px\">\n",
              "    <path d=\"M0 0h24v24H0V0z\" fill=\"none\"/>\n",
              "    <path d=\"M18.56 5.44l.94 2.06.94-2.06 2.06-.94-2.06-.94-.94-2.06-.94 2.06-2.06.94zm-11 1L8.5 8.5l.94-2.06 2.06-.94-2.06-.94L8.5 2.5l-.94 2.06-2.06.94zm10 10l.94 2.06.94-2.06 2.06-.94-2.06-.94-.94-2.06-.94 2.06-2.06.94z\"/><path d=\"M17.41 7.96l-1.37-1.37c-.4-.4-.92-.59-1.43-.59-.52 0-1.04.2-1.43.59L10.3 9.45l-7.72 7.72c-.78.78-.78 2.05 0 2.83L4 21.41c.39.39.9.59 1.41.59.51 0 1.02-.2 1.41-.59l7.78-7.78 2.81-2.81c.8-.78.8-2.07 0-2.86zM5.41 20L4 18.59l7.72-7.72 1.47 1.35L5.41 20z\"/>\n",
              "  </svg>\n",
              "      </button>\n",
              "      \n",
              "  <style>\n",
              "    .colab-df-container {\n",
              "      display:flex;\n",
              "      flex-wrap:wrap;\n",
              "      gap: 12px;\n",
              "    }\n",
              "\n",
              "    .colab-df-convert {\n",
              "      background-color: #E8F0FE;\n",
              "      border: none;\n",
              "      border-radius: 50%;\n",
              "      cursor: pointer;\n",
              "      display: none;\n",
              "      fill: #1967D2;\n",
              "      height: 32px;\n",
              "      padding: 0 0 0 0;\n",
              "      width: 32px;\n",
              "    }\n",
              "\n",
              "    .colab-df-convert:hover {\n",
              "      background-color: #E2EBFA;\n",
              "      box-shadow: 0px 1px 2px rgba(60, 64, 67, 0.3), 0px 1px 3px 1px rgba(60, 64, 67, 0.15);\n",
              "      fill: #174EA6;\n",
              "    }\n",
              "\n",
              "    [theme=dark] .colab-df-convert {\n",
              "      background-color: #3B4455;\n",
              "      fill: #D2E3FC;\n",
              "    }\n",
              "\n",
              "    [theme=dark] .colab-df-convert:hover {\n",
              "      background-color: #434B5C;\n",
              "      box-shadow: 0px 1px 3px 1px rgba(0, 0, 0, 0.15);\n",
              "      filter: drop-shadow(0px 1px 2px rgba(0, 0, 0, 0.3));\n",
              "      fill: #FFFFFF;\n",
              "    }\n",
              "  </style>\n",
              "\n",
              "      <script>\n",
              "        const buttonEl =\n",
              "          document.querySelector('#df-7f4ba684-6337-488e-9189-e1fcdb3ad7c0 button.colab-df-convert');\n",
              "        buttonEl.style.display =\n",
              "          google.colab.kernel.accessAllowed ? 'block' : 'none';\n",
              "\n",
              "        async function convertToInteractive(key) {\n",
              "          const element = document.querySelector('#df-7f4ba684-6337-488e-9189-e1fcdb3ad7c0');\n",
              "          const dataTable =\n",
              "            await google.colab.kernel.invokeFunction('convertToInteractive',\n",
              "                                                     [key], {});\n",
              "          if (!dataTable) return;\n",
              "\n",
              "          const docLinkHtml = 'Like what you see? Visit the ' +\n",
              "            '<a target=\"_blank\" href=https://colab.research.google.com/notebooks/data_table.ipynb>data table notebook</a>'\n",
              "            + ' to learn more about interactive tables.';\n",
              "          element.innerHTML = '';\n",
              "          dataTable['output_type'] = 'display_data';\n",
              "          await google.colab.output.renderOutput(dataTable, element);\n",
              "          const docLink = document.createElement('div');\n",
              "          docLink.innerHTML = docLinkHtml;\n",
              "          element.appendChild(docLink);\n",
              "        }\n",
              "      </script>\n",
              "    </div>\n",
              "  </div>\n",
              "  "
            ]
          },
          "metadata": {},
          "execution_count": 9
        }
      ]
    },
    {
      "cell_type": "markdown",
      "source": [
        "After that, we process the output to have each sequence in a separate records in the DataFrame. In addition, we join the user features with the ratings data."
      ],
      "metadata": {
        "id": "JwwuVKgZwlMh"
      }
    },
    {
      "cell_type": "code",
      "source": [
        "ratings_data_movies = ratings_data[[\"userId\", \"movieIds\"]].explode(\"movieIds\", ignore_index=True)\n",
        "\n",
        "ratings_data_rating = ratings_data[[\"ratings\"]].explode(\"ratings\", ignore_index=True)\n",
        "\n",
        "#retrive the timestamp of the target movie\n",
        "ratings_data_timestamps = ratings_data[[\"timestamps\"]].explode(\"timestamps\", ignore_index=True)\n",
        "ratings_data_timestamp = ratings_data_timestamps[\"timestamps\"].apply(lambda x: x[-1])\n",
        "\n",
        "ratings_data_transformed = pd.concat([ratings_data_movies, ratings_data_rating, ratings_data_timestamp], axis=1)\n",
        "\n",
        "ratings_data_transformed.movieIds = ratings_data_transformed.movieIds.apply(lambda x: \",\".join([str(v) for v in x]))\n",
        "ratings_data_transformed.ratings = ratings_data_transformed.ratings.apply(lambda x: \",\".join([str(v) for v in x]))\n",
        "\n",
        "ratings_data_transformed.rename(\n",
        "    columns={\"movieIds\": \"sequence_movieIds\", \"ratings\": \"sequence_ratings\"},\n",
        "    inplace=True,\n",
        ")"
      ],
      "metadata": {
        "id": "8dX_oNcrwpLO"
      },
      "execution_count": null,
      "outputs": []
    },
    {
      "cell_type": "code",
      "source": [
        "ratings_data_transformed.head()"
      ],
      "metadata": {
        "colab": {
          "base_uri": "https://localhost:8080/",
          "height": 206
        },
        "id": "c4GCA4V1xBsy",
        "outputId": "ef8305c2-a500-456b-fc46-89ffe3b42c3a"
      },
      "execution_count": null,
      "outputs": [
        {
          "output_type": "execute_result",
          "data": {
            "text/plain": [
              "   userId   sequence_movieIds sequence_ratings           timestamps\n",
              "0       1   924,919,2683,1584  3.5,3.5,3.5,3.5  2004-09-10 03:07:36\n",
              "1       1  2683,1584,1079,653  3.5,3.5,4.0,3.0  2004-09-10 03:08:11\n",
              "2       1   1079,653,2959,337  4.0,3.0,4.0,3.5  2004-09-10 03:08:29\n",
              "3       1  2959,337,1304,3996  4.0,3.5,3.0,4.0  2004-09-10 03:08:47\n",
              "4       1   1304,3996,151,112  3.0,4.0,4.0,3.5  2004-09-10 03:09:00"
            ],
            "text/html": [
              "\n",
              "  <div id=\"df-2ee92b13-b256-489c-9259-cdf6299358da\">\n",
              "    <div class=\"colab-df-container\">\n",
              "      <div>\n",
              "<style scoped>\n",
              "    .dataframe tbody tr th:only-of-type {\n",
              "        vertical-align: middle;\n",
              "    }\n",
              "\n",
              "    .dataframe tbody tr th {\n",
              "        vertical-align: top;\n",
              "    }\n",
              "\n",
              "    .dataframe thead th {\n",
              "        text-align: right;\n",
              "    }\n",
              "</style>\n",
              "<table border=\"1\" class=\"dataframe\">\n",
              "  <thead>\n",
              "    <tr style=\"text-align: right;\">\n",
              "      <th></th>\n",
              "      <th>userId</th>\n",
              "      <th>sequence_movieIds</th>\n",
              "      <th>sequence_ratings</th>\n",
              "      <th>timestamps</th>\n",
              "    </tr>\n",
              "  </thead>\n",
              "  <tbody>\n",
              "    <tr>\n",
              "      <th>0</th>\n",
              "      <td>1</td>\n",
              "      <td>924,919,2683,1584</td>\n",
              "      <td>3.5,3.5,3.5,3.5</td>\n",
              "      <td>2004-09-10 03:07:36</td>\n",
              "    </tr>\n",
              "    <tr>\n",
              "      <th>1</th>\n",
              "      <td>1</td>\n",
              "      <td>2683,1584,1079,653</td>\n",
              "      <td>3.5,3.5,4.0,3.0</td>\n",
              "      <td>2004-09-10 03:08:11</td>\n",
              "    </tr>\n",
              "    <tr>\n",
              "      <th>2</th>\n",
              "      <td>1</td>\n",
              "      <td>1079,653,2959,337</td>\n",
              "      <td>4.0,3.0,4.0,3.5</td>\n",
              "      <td>2004-09-10 03:08:29</td>\n",
              "    </tr>\n",
              "    <tr>\n",
              "      <th>3</th>\n",
              "      <td>1</td>\n",
              "      <td>2959,337,1304,3996</td>\n",
              "      <td>4.0,3.5,3.0,4.0</td>\n",
              "      <td>2004-09-10 03:08:47</td>\n",
              "    </tr>\n",
              "    <tr>\n",
              "      <th>4</th>\n",
              "      <td>1</td>\n",
              "      <td>1304,3996,151,112</td>\n",
              "      <td>3.0,4.0,4.0,3.5</td>\n",
              "      <td>2004-09-10 03:09:00</td>\n",
              "    </tr>\n",
              "  </tbody>\n",
              "</table>\n",
              "</div>\n",
              "      <button class=\"colab-df-convert\" onclick=\"convertToInteractive('df-2ee92b13-b256-489c-9259-cdf6299358da')\"\n",
              "              title=\"Convert this dataframe to an interactive table.\"\n",
              "              style=\"display:none;\">\n",
              "        \n",
              "  <svg xmlns=\"http://www.w3.org/2000/svg\" height=\"24px\"viewBox=\"0 0 24 24\"\n",
              "       width=\"24px\">\n",
              "    <path d=\"M0 0h24v24H0V0z\" fill=\"none\"/>\n",
              "    <path d=\"M18.56 5.44l.94 2.06.94-2.06 2.06-.94-2.06-.94-.94-2.06-.94 2.06-2.06.94zm-11 1L8.5 8.5l.94-2.06 2.06-.94-2.06-.94L8.5 2.5l-.94 2.06-2.06.94zm10 10l.94 2.06.94-2.06 2.06-.94-2.06-.94-.94-2.06-.94 2.06-2.06.94z\"/><path d=\"M17.41 7.96l-1.37-1.37c-.4-.4-.92-.59-1.43-.59-.52 0-1.04.2-1.43.59L10.3 9.45l-7.72 7.72c-.78.78-.78 2.05 0 2.83L4 21.41c.39.39.9.59 1.41.59.51 0 1.02-.2 1.41-.59l7.78-7.78 2.81-2.81c.8-.78.8-2.07 0-2.86zM5.41 20L4 18.59l7.72-7.72 1.47 1.35L5.41 20z\"/>\n",
              "  </svg>\n",
              "      </button>\n",
              "      \n",
              "  <style>\n",
              "    .colab-df-container {\n",
              "      display:flex;\n",
              "      flex-wrap:wrap;\n",
              "      gap: 12px;\n",
              "    }\n",
              "\n",
              "    .colab-df-convert {\n",
              "      background-color: #E8F0FE;\n",
              "      border: none;\n",
              "      border-radius: 50%;\n",
              "      cursor: pointer;\n",
              "      display: none;\n",
              "      fill: #1967D2;\n",
              "      height: 32px;\n",
              "      padding: 0 0 0 0;\n",
              "      width: 32px;\n",
              "    }\n",
              "\n",
              "    .colab-df-convert:hover {\n",
              "      background-color: #E2EBFA;\n",
              "      box-shadow: 0px 1px 2px rgba(60, 64, 67, 0.3), 0px 1px 3px 1px rgba(60, 64, 67, 0.15);\n",
              "      fill: #174EA6;\n",
              "    }\n",
              "\n",
              "    [theme=dark] .colab-df-convert {\n",
              "      background-color: #3B4455;\n",
              "      fill: #D2E3FC;\n",
              "    }\n",
              "\n",
              "    [theme=dark] .colab-df-convert:hover {\n",
              "      background-color: #434B5C;\n",
              "      box-shadow: 0px 1px 3px 1px rgba(0, 0, 0, 0.15);\n",
              "      filter: drop-shadow(0px 1px 2px rgba(0, 0, 0, 0.3));\n",
              "      fill: #FFFFFF;\n",
              "    }\n",
              "  </style>\n",
              "\n",
              "      <script>\n",
              "        const buttonEl =\n",
              "          document.querySelector('#df-2ee92b13-b256-489c-9259-cdf6299358da button.colab-df-convert');\n",
              "        buttonEl.style.display =\n",
              "          google.colab.kernel.accessAllowed ? 'block' : 'none';\n",
              "\n",
              "        async function convertToInteractive(key) {\n",
              "          const element = document.querySelector('#df-2ee92b13-b256-489c-9259-cdf6299358da');\n",
              "          const dataTable =\n",
              "            await google.colab.kernel.invokeFunction('convertToInteractive',\n",
              "                                                     [key], {});\n",
              "          if (!dataTable) return;\n",
              "\n",
              "          const docLinkHtml = 'Like what you see? Visit the ' +\n",
              "            '<a target=\"_blank\" href=https://colab.research.google.com/notebooks/data_table.ipynb>data table notebook</a>'\n",
              "            + ' to learn more about interactive tables.';\n",
              "          element.innerHTML = '';\n",
              "          dataTable['output_type'] = 'display_data';\n",
              "          await google.colab.output.renderOutput(dataTable, element);\n",
              "          const docLink = document.createElement('div');\n",
              "          docLink.innerHTML = docLinkHtml;\n",
              "          element.appendChild(docLink);\n",
              "        }\n",
              "      </script>\n",
              "    </div>\n",
              "  </div>\n",
              "  "
            ]
          },
          "metadata": {},
          "execution_count": 19
        }
      ]
    },
    {
      "cell_type": "markdown",
      "source": [
        "With sequence_length of 4 and step_size of 2, we end up with 9,966,408 sequences.\n",
        "\n",
        "Finally, we split the data into training and testing splits. I'd like to consider the time factor; that is, I want to define the last 7 movie the user read as the testing set, and see whether the recommendation list can hit that movie. After the split, there are around 9.7% of the data to be set as testing set."
      ],
      "metadata": {
        "id": "n5jKAXqomWtc"
      }
    },
    {
      "cell_type": "code",
      "source": [
        "#folder_path = \"/content/drive/MyDrive/Movie Recommendations with Movielens/\"\n",
        "\n",
        "#ratings_data_transformed.to_csv(folder_path + 'ratings_data_transformed.csv', index=False, sep=\"|\")\n",
        "\n",
        "#ratings_data_transformed = pd.read_csv(folder_path + 'ratings_data_transformed.csv', sep = '|')"
      ],
      "metadata": {
        "id": "4EzQprn-x9ML"
      },
      "execution_count": null,
      "outputs": []
    },
    {
      "cell_type": "code",
      "source": [
        "test_data = ratings_data_transformed.sort_values('timestamps').groupby('userId').tail(7)\n",
        "train_data = ratings_data_transformed.drop(test_data.index)\n",
        "\n",
        "train_data.to_csv(\"/content/drive/MyDrive/Movie Recommendations with Movielens/ratings_seq_train_data.csv\", index=False, sep=\"|\")\n",
        "test_data.to_csv(\"/content/drive/MyDrive/Movie Recommendations with Movielens/ratings_seq_test_data.csv\", index=False, sep=\"|\")"
      ],
      "metadata": {
        "id": "pa5zRzQ9mjYZ"
      },
      "execution_count": null,
      "outputs": []
    },
    {
      "cell_type": "markdown",
      "source": [
        "# Define metadata"
      ],
      "metadata": {
        "id": "y_MRY8xJ6q3H"
      }
    },
    {
      "cell_type": "code",
      "source": [
        "movies = pd.read_csv(\n",
        "    '/content/drive/MyDrive/Movie Recommendations with Movielens/movie.csv',\n",
        "    dtype = {'movieId': str},\n",
        "    usecols = ['movieId'],\n",
        ")\n"
      ],
      "metadata": {
        "id": "6j0Ma04x0o_x"
      },
      "execution_count": null,
      "outputs": []
    },
    {
      "cell_type": "code",
      "source": [
        "movies_ds = tf.data.Dataset.from_tensor_slices(movies.movieId)"
      ],
      "metadata": {
        "id": "LzEiH81v6Yov"
      },
      "execution_count": null,
      "outputs": []
    },
    {
      "cell_type": "code",
      "source": [
        "CATEGORICAL_FEATURES_WITH_VOCABULARY = {\n",
        "    #\"userId\": list(test.userId.unique()),\n",
        "    \"movieId\": list(movies.movieId.unique()),\n",
        "}"
      ],
      "metadata": {
        "id": "pDpRzWAUAPKq"
      },
      "execution_count": null,
      "outputs": []
    },
    {
      "cell_type": "markdown",
      "source": [
        "# Create tf.data.Dataset for training and evaluation"
      ],
      "metadata": {
        "id": "tSABdYMoA_us"
      }
    },
    {
      "cell_type": "code",
      "source": [
        "def get_dataset_from_csv(csv_file_path, shuffle=False, batch_size=128):\n",
        "    def process(features):\n",
        "        movieIds_string = features[\"sequence_movieIds\"]\n",
        "        sequence_movieIds = tf.strings.split(movieIds_string, \",\").to_tensor()\n",
        "\n",
        "        # The last movie id in the sequence is the target movie.\n",
        "        #target = sequence_movieIds[:, -1]\n",
        "        features[\"target_movieId\"] = sequence_movieIds[:, -1]\n",
        "        features[\"sequence_movieIds\"] = sequence_movieIds[:, :-1]\n",
        "\n",
        "        ratings_string = features[\"sequence_ratings\"]\n",
        "        sequence_ratings = tf.strings.to_number(\n",
        "            tf.strings.split(ratings_string, \",\"), tf.dtypes.float32\n",
        "        ).to_tensor()\n",
        "\n",
        "        # The last rating in the sequence is the target for the model to predict.\n",
        "        features['target_rating'] = sequence_ratings[:, -1]\n",
        "        features[\"sequence_ratings\"] = sequence_ratings[:, :-1]\n",
        "\n",
        "        return features#, target\n",
        "\n",
        "    dataset = tf.data.experimental.make_csv_dataset(\n",
        "        csv_file_path,\n",
        "        batch_size=batch_size,\n",
        "        num_epochs=1,\n",
        "        header=True,\n",
        "        field_delim=\"|\",\n",
        "        shuffle=shuffle,\n",
        "    ).map(process)\n",
        "\n",
        "    return dataset"
      ],
      "metadata": {
        "id": "zSX_JNALBDja"
      },
      "execution_count": null,
      "outputs": []
    },
    {
      "cell_type": "code",
      "source": [
        "# Read the training data.\n",
        "train_dataset = get_dataset_from_csv(\"/content/drive/MyDrive/Movie Recommendations with Movielens/ratings_seq_train_data.csv\",\n",
        "                                     shuffle=True, batch_size=265)\n",
        "\n",
        "# Read the test data.\n",
        "test_dataset = get_dataset_from_csv(\"/content/drive/MyDrive/Movie Recommendations with Movielens/ratings_seq_test_data.csv\",\n",
        "                                    batch_size=265)"
      ],
      "metadata": {
        "id": "zhODel6qnaSm"
      },
      "execution_count": null,
      "outputs": []
    },
    {
      "cell_type": "code",
      "source": [
        "train_dataset  = train_dataset.map(lambda x: {\n",
        "    'sequence_movieIds': x['sequence_movieIds'],\n",
        "    'target_movieId': x['target_movieId']\n",
        "})\n",
        "\n",
        "test_dataset = test_dataset.map(lambda x: {\n",
        "    'sequence_movieIds': x['sequence_movieIds'],\n",
        "    'target_movieId': x['target_movieId']\n",
        "})"
      ],
      "metadata": {
        "id": "0S8L5sZYoByy"
      },
      "execution_count": null,
      "outputs": []
    },
    {
      "cell_type": "markdown",
      "source": [
        "# Implementing a sequential model\n",
        "Here we are still going to use the two-tower architecture. Specificially, we use the query tower with a Gated Recurrent Unit (GRU) layer to encode the sequence of historical movies, and keep the same candidate tower for the candidate movie."
      ],
      "metadata": {
        "id": "QEA8mkKprOIU"
      }
    },
    {
      "cell_type": "code",
      "source": [
        "from tensorflow.keras import Sequential, layers, callbacks"
      ],
      "metadata": {
        "id": "gueY2q_Xr_wo"
      },
      "execution_count": null,
      "outputs": []
    },
    {
      "cell_type": "code",
      "source": [
        "embedding_dimension = 32\n",
        "\n",
        "query_model = Sequential([\n",
        "    layers.StringLookup(\n",
        "        vocabulary = CATEGORICAL_FEATURES_WITH_VOCABULARY['movieId'],\n",
        "        mask_token = None),\n",
        "    layers.Embedding(\n",
        "        len(CATEGORICAL_FEATURES_WITH_VOCABULARY['movieId']) + 1,\n",
        "        embedding_dimension),\n",
        "    layers.GRU(embedding_dimension),\n",
        "])\n",
        "\n",
        "candidate_model = Sequential([\n",
        "    layers.StringLookup(\n",
        "        vocabulary = CATEGORICAL_FEATURES_WITH_VOCABULARY['movieId'],\n",
        "        mask_token = None),\n",
        "    layers.Embedding(\n",
        "        len(CATEGORICAL_FEATURES_WITH_VOCABULARY['movieId']) + 1,\n",
        "        embedding_dimension),\n",
        "    layers.Reshape([embedding_dimension]),\n",
        "])"
      ],
      "metadata": {
        "id": "T9jBvbYRrVLD"
      },
      "execution_count": null,
      "outputs": []
    },
    {
      "cell_type": "code",
      "source": [
        "#train_dataset.take(1).map(lambda x: candidate_model(x['target_movieId']))\n",
        "for x in train_dataset.take(1).map(lambda x: query_model(x['sequence_movieIds'])):\n",
        "    print(x.shape)"
      ],
      "metadata": {
        "colab": {
          "base_uri": "https://localhost:8080/"
        },
        "id": "FW12UPI56cco",
        "outputId": "79a38ebe-af61-4f08-c5e2-5c586c5244e1"
      },
      "execution_count": null,
      "outputs": [
        {
          "output_type": "stream",
          "name": "stdout",
          "text": [
            "(265, 32)\n"
          ]
        }
      ]
    },
    {
      "cell_type": "code",
      "source": [
        "for x in train_dataset.take(1).map(lambda x: candidate_model(x['target_movieId'])):\n",
        "    print(x.shape)"
      ],
      "metadata": {
        "colab": {
          "base_uri": "https://localhost:8080/"
        },
        "id": "LwUZ0DchhHIq",
        "outputId": "f623b91b-8311-402f-ceee-4af728dc7b83"
      },
      "execution_count": null,
      "outputs": [
        {
          "output_type": "stream",
          "name": "stdout",
          "text": [
            "(265, 32)\n"
          ]
        }
      ]
    },
    {
      "cell_type": "markdown",
      "source": [
        "## Metircs and loss\n",
        "we can use the tfrs.metrics.FactorizedTopK metric. The metric has one required argument: the dataset of candidates that are used as implicit negatives for evaluation.\n",
        "\n",
        "The next component is the loss used to train our model. TFRS has several loss layers and tasks to make this easy.\n",
        "\n",
        "In this instance, we'll make use of the Retrieval task object: a convenience wrapper that bundles together the loss function and metric computation:"
      ],
      "metadata": {
        "id": "67ky-7oJwy1k"
      }
    },
    {
      "cell_type": "code",
      "source": [
        "metrics = tfrs.metrics.FactorizedTopK(\n",
        "    candidates = movies_ds.batch(128).map(candidate_model)\n",
        ")\n",
        "\n",
        "task = tfrs.tasks.Retrieval(metrics = metrics)"
      ],
      "metadata": {
        "id": "oine-frBwOhm"
      },
      "execution_count": null,
      "outputs": []
    },
    {
      "cell_type": "markdown",
      "source": [
        "##The full model\n",
        "We can now put it all together into a model. TFRS exposes a base model class (tfrs.models.Model) which streamlines building models: all we need to do is to set up the components in the __init__ method, and implement the compute_loss method, taking in the raw features and returning a loss value."
      ],
      "metadata": {
        "id": "2MHvndfy17t4"
      }
    },
    {
      "cell_type": "code",
      "source": [
        "class SequentialModel(tfrs.Model):\n",
        "\n",
        "    def __init__(self, query_model, candidate_model):\n",
        "        super().__init__()\n",
        "        self._query_model = query_model\n",
        "        self._candidate_model = candidate_model\n",
        "\n",
        "        self._task = task\n",
        "\n",
        "    def compute_loss(self, features, training = False):\n",
        "        query_embedding = self._query_model(features['sequence_movieIds'])\n",
        "        candidate_embedding = self._candidate_model(features['target_movieId'])\n",
        "\n",
        "        return self._task(query_embedding, candidate_embedding, compute_metrics = not training)\n"
      ],
      "metadata": {
        "id": "N6Ba9OZZ16rD"
      },
      "execution_count": null,
      "outputs": []
    },
    {
      "cell_type": "markdown",
      "source": [
        "# Fitting and evaluating\n",
        "\n",
        "We can now compile, train and evaluate our sequential retrieval model."
      ],
      "metadata": {
        "id": "9hyFBLzt5Wj2"
      }
    },
    {
      "cell_type": "code",
      "source": [
        "model = SequentialModel(query_model, candidate_model)\n",
        "model.compile(optimizer=tf.keras.optimizers.Adagrad(learning_rate=0.1))"
      ],
      "metadata": {
        "id": "UFo4gnvN5cYk"
      },
      "execution_count": null,
      "outputs": []
    },
    {
      "cell_type": "code",
      "source": [
        "# create callbacks\n",
        "model_filepath = '/content/drive/MyDrive/Movie Recommendations with Movielens/models/sequential'\n",
        "checkpoint = callbacks.ModelCheckpoint(model_filepath, save_best_only = True)\n",
        "earlyStopping = callbacks.EarlyStopping(patience = 5, restore_best_weights = True)"
      ],
      "metadata": {
        "id": "oC21sqibEoQG"
      },
      "execution_count": null,
      "outputs": []
    },
    {
      "cell_type": "code",
      "source": [
        "cached_train = train_dataset.rebatch(2048).cache()\n",
        "cached_test = test_dataset.rebatch(512).cache()"
      ],
      "metadata": {
        "id": "8eHLzE7XIL8D"
      },
      "execution_count": null,
      "outputs": []
    },
    {
      "cell_type": "code",
      "source": [
        "model.fit(cached_train,\n",
        "          #validation_data = cached_test,\n",
        "          epochs=5,\n",
        "          verbose = 1,\n",
        "          #batch_size = 256,\n",
        "          #callbacks = [checkpoint, earlyStopping],\n",
        "          )"
      ],
      "metadata": {
        "colab": {
          "base_uri": "https://localhost:8080/"
        },
        "id": "GJLd9a6Y6FgU",
        "outputId": "e662a7c3-3a27-4ec9-93f8-5d4fa3d2a931"
      },
      "execution_count": null,
      "outputs": [
        {
          "output_type": "stream",
          "name": "stdout",
          "text": [
            "Epoch 1/5\n",
            "4395/4395 [==============================] - 317s 72ms/step - factorized_top_k/top_1_categorical_accuracy: 0.0000e+00 - factorized_top_k/top_5_categorical_accuracy: 0.0000e+00 - factorized_top_k/top_10_categorical_accuracy: 0.0000e+00 - factorized_top_k/top_50_categorical_accuracy: 0.0000e+00 - factorized_top_k/top_100_categorical_accuracy: 0.0000e+00 - loss: 12794.7251 - regularization_loss: 0.0000e+00 - total_loss: 12794.7251\n",
            "Epoch 2/5\n",
            "4395/4395 [==============================] - 146s 33ms/step - factorized_top_k/top_1_categorical_accuracy: 0.0000e+00 - factorized_top_k/top_5_categorical_accuracy: 0.0000e+00 - factorized_top_k/top_10_categorical_accuracy: 0.0000e+00 - factorized_top_k/top_50_categorical_accuracy: 0.0000e+00 - factorized_top_k/top_100_categorical_accuracy: 0.0000e+00 - loss: 12688.2663 - regularization_loss: 0.0000e+00 - total_loss: 12688.2663\n",
            "Epoch 3/5\n",
            "4395/4395 [==============================] - 146s 33ms/step - factorized_top_k/top_1_categorical_accuracy: 0.0000e+00 - factorized_top_k/top_5_categorical_accuracy: 0.0000e+00 - factorized_top_k/top_10_categorical_accuracy: 0.0000e+00 - factorized_top_k/top_50_categorical_accuracy: 0.0000e+00 - factorized_top_k/top_100_categorical_accuracy: 0.0000e+00 - loss: 12655.5205 - regularization_loss: 0.0000e+00 - total_loss: 12655.5205\n",
            "Epoch 4/5\n",
            "4395/4395 [==============================] - 143s 33ms/step - factorized_top_k/top_1_categorical_accuracy: 0.0000e+00 - factorized_top_k/top_5_categorical_accuracy: 0.0000e+00 - factorized_top_k/top_10_categorical_accuracy: 0.0000e+00 - factorized_top_k/top_50_categorical_accuracy: 0.0000e+00 - factorized_top_k/top_100_categorical_accuracy: 0.0000e+00 - loss: 12634.3895 - regularization_loss: 0.0000e+00 - total_loss: 12634.3895\n",
            "Epoch 5/5\n",
            "4395/4395 [==============================] - 144s 33ms/step - factorized_top_k/top_1_categorical_accuracy: 0.0000e+00 - factorized_top_k/top_5_categorical_accuracy: 0.0000e+00 - factorized_top_k/top_10_categorical_accuracy: 0.0000e+00 - factorized_top_k/top_50_categorical_accuracy: 0.0000e+00 - factorized_top_k/top_100_categorical_accuracy: 0.0000e+00 - loss: 12618.7065 - regularization_loss: 0.0000e+00 - total_loss: 12618.7065\n"
          ]
        },
        {
          "output_type": "execute_result",
          "data": {
            "text/plain": [
              "<keras.callbacks.History at 0x7f9240a90df0>"
            ]
          },
          "metadata": {},
          "execution_count": 32
        }
      ]
    },
    {
      "cell_type": "code",
      "source": [
        "model.evaluate(cached_test, return_dict=True)"
      ],
      "metadata": {
        "colab": {
          "base_uri": "https://localhost:8080/"
        },
        "id": "RbcD8h4rEmO7",
        "outputId": "2bf2c3b5-d46a-4baa-9710-7acf33bcccdb"
      },
      "execution_count": null,
      "outputs": [
        {
          "output_type": "stream",
          "name": "stdout",
          "text": [
            "1894/1894 [==============================] - 2523s 1s/step - factorized_top_k/top_1_categorical_accuracy: 0.0135 - factorized_top_k/top_5_categorical_accuracy: 0.0692 - factorized_top_k/top_10_categorical_accuracy: 0.1179 - factorized_top_k/top_50_categorical_accuracy: 0.2883 - factorized_top_k/top_100_categorical_accuracy: 0.3747 - loss: 2809.7246 - regularization_loss: 0.0000e+00 - total_loss: 2809.7246\n"
          ]
        },
        {
          "output_type": "execute_result",
          "data": {
            "text/plain": [
              "{'factorized_top_k/top_1_categorical_accuracy': 0.013475668616592884,\n",
              " 'factorized_top_k/top_5_categorical_accuracy': 0.06916285306215286,\n",
              " 'factorized_top_k/top_10_categorical_accuracy': 0.11793375760316849,\n",
              " 'factorized_top_k/top_50_categorical_accuracy': 0.28825902938842773,\n",
              " 'factorized_top_k/top_100_categorical_accuracy': 0.37468421459198,\n",
              " 'loss': 1318.538818359375,\n",
              " 'regularization_loss': 0,\n",
              " 'total_loss': 1318.538818359375}"
            ]
          },
          "metadata": {},
          "execution_count": 33
        }
      ]
    },
    {
      "cell_type": "markdown",
      "source": [
        "# Reference\n",
        "[Recommending movies: retrieval using a sequential model](https://www.tensorflow.org/recommenders/examples/sequential_retrieval)\n",
        "\n",
        "[A Transformer-based recommendation system](https://keras.io/examples/structured_data/movielens_recommendations_transformers/)"
      ],
      "metadata": {
        "id": "4PzkLMkAoyWM"
      }
    }
  ]
}